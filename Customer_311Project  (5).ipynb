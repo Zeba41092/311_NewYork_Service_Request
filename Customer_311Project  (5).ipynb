{
 "cells": [
  {
   "cell_type": "code",
   "execution_count": 1,
   "metadata": {},
   "outputs": [],
   "source": [
    "import numpy as np\n",
    "import pandas as pd\n",
    "import seaborn as sns\n",
    "import matplotlib.pyplot as plt\n",
    "%matplotlib inline\n",
    "import scipy as sc\n",
    "from scipy import stats\n",
    "import warnings\n",
    "warnings.filterwarnings(\"ignore\")\n"
   ]
  },
  {
   "cell_type": "markdown",
   "metadata": {},
   "source": [
    "## Understand the dataset\n",
    "1.1 import the dataset\n",
    "1.2 visualize the dataset\n",
    "1.3 print the columns of the dataframe\n",
    "1.4 Identify the shape of the dataset\n",
    "1.5 Identify the variable with null values"
   ]
  },
  {
   "cell_type": "code",
   "execution_count": 2,
   "metadata": {},
   "outputs": [
    {
     "data": {
      "text/html": [
       "<div>\n",
       "<style scoped>\n",
       "    .dataframe tbody tr th:only-of-type {\n",
       "        vertical-align: middle;\n",
       "    }\n",
       "\n",
       "    .dataframe tbody tr th {\n",
       "        vertical-align: top;\n",
       "    }\n",
       "\n",
       "    .dataframe thead th {\n",
       "        text-align: right;\n",
       "    }\n",
       "</style>\n",
       "<table border=\"1\" class=\"dataframe\">\n",
       "  <thead>\n",
       "    <tr style=\"text-align: right;\">\n",
       "      <th></th>\n",
       "      <th>Unique Key</th>\n",
       "      <th>Created Date</th>\n",
       "      <th>Closed Date</th>\n",
       "      <th>Agency</th>\n",
       "      <th>Agency Name</th>\n",
       "      <th>Complaint Type</th>\n",
       "      <th>Descriptor</th>\n",
       "      <th>Location Type</th>\n",
       "      <th>Incident Zip</th>\n",
       "      <th>Incident Address</th>\n",
       "      <th>...</th>\n",
       "      <th>Bridge Highway Name</th>\n",
       "      <th>Bridge Highway Direction</th>\n",
       "      <th>Road Ramp</th>\n",
       "      <th>Bridge Highway Segment</th>\n",
       "      <th>Garage Lot Name</th>\n",
       "      <th>Ferry Direction</th>\n",
       "      <th>Ferry Terminal Name</th>\n",
       "      <th>Latitude</th>\n",
       "      <th>Longitude</th>\n",
       "      <th>Location</th>\n",
       "    </tr>\n",
       "  </thead>\n",
       "  <tbody>\n",
       "    <tr>\n",
       "      <th>0</th>\n",
       "      <td>32310363</td>\n",
       "      <td>12/31/2015 11:59:45 PM</td>\n",
       "      <td>01/01/2016 12:55:15 AM</td>\n",
       "      <td>NYPD</td>\n",
       "      <td>New York City Police Department</td>\n",
       "      <td>Noise - Street/Sidewalk</td>\n",
       "      <td>Loud Music/Party</td>\n",
       "      <td>Street/Sidewalk</td>\n",
       "      <td>10034.0</td>\n",
       "      <td>71 VERMILYEA AVENUE</td>\n",
       "      <td>...</td>\n",
       "      <td>NaN</td>\n",
       "      <td>NaN</td>\n",
       "      <td>NaN</td>\n",
       "      <td>NaN</td>\n",
       "      <td>NaN</td>\n",
       "      <td>NaN</td>\n",
       "      <td>NaN</td>\n",
       "      <td>40.865682</td>\n",
       "      <td>-73.923501</td>\n",
       "      <td>(40.86568153633767, -73.92350095571744)</td>\n",
       "    </tr>\n",
       "    <tr>\n",
       "      <th>1</th>\n",
       "      <td>32309934</td>\n",
       "      <td>12/31/2015 11:59:44 PM</td>\n",
       "      <td>01/01/2016 01:26:57 AM</td>\n",
       "      <td>NYPD</td>\n",
       "      <td>New York City Police Department</td>\n",
       "      <td>Blocked Driveway</td>\n",
       "      <td>No Access</td>\n",
       "      <td>Street/Sidewalk</td>\n",
       "      <td>11105.0</td>\n",
       "      <td>27-07 23 AVENUE</td>\n",
       "      <td>...</td>\n",
       "      <td>NaN</td>\n",
       "      <td>NaN</td>\n",
       "      <td>NaN</td>\n",
       "      <td>NaN</td>\n",
       "      <td>NaN</td>\n",
       "      <td>NaN</td>\n",
       "      <td>NaN</td>\n",
       "      <td>40.775945</td>\n",
       "      <td>-73.915094</td>\n",
       "      <td>(40.775945312321085, -73.91509393898605)</td>\n",
       "    </tr>\n",
       "    <tr>\n",
       "      <th>2</th>\n",
       "      <td>32309159</td>\n",
       "      <td>12/31/2015 11:59:29 PM</td>\n",
       "      <td>01/01/2016 04:51:03 AM</td>\n",
       "      <td>NYPD</td>\n",
       "      <td>New York City Police Department</td>\n",
       "      <td>Blocked Driveway</td>\n",
       "      <td>No Access</td>\n",
       "      <td>Street/Sidewalk</td>\n",
       "      <td>10458.0</td>\n",
       "      <td>2897 VALENTINE AVENUE</td>\n",
       "      <td>...</td>\n",
       "      <td>NaN</td>\n",
       "      <td>NaN</td>\n",
       "      <td>NaN</td>\n",
       "      <td>NaN</td>\n",
       "      <td>NaN</td>\n",
       "      <td>NaN</td>\n",
       "      <td>NaN</td>\n",
       "      <td>40.870325</td>\n",
       "      <td>-73.888525</td>\n",
       "      <td>(40.870324522111424, -73.88852464418646)</td>\n",
       "    </tr>\n",
       "    <tr>\n",
       "      <th>3</th>\n",
       "      <td>32305098</td>\n",
       "      <td>12/31/2015 11:57:46 PM</td>\n",
       "      <td>01/01/2016 07:43:13 AM</td>\n",
       "      <td>NYPD</td>\n",
       "      <td>New York City Police Department</td>\n",
       "      <td>Illegal Parking</td>\n",
       "      <td>Commercial Overnight Parking</td>\n",
       "      <td>Street/Sidewalk</td>\n",
       "      <td>10461.0</td>\n",
       "      <td>2940 BAISLEY AVENUE</td>\n",
       "      <td>...</td>\n",
       "      <td>NaN</td>\n",
       "      <td>NaN</td>\n",
       "      <td>NaN</td>\n",
       "      <td>NaN</td>\n",
       "      <td>NaN</td>\n",
       "      <td>NaN</td>\n",
       "      <td>NaN</td>\n",
       "      <td>40.835994</td>\n",
       "      <td>-73.828379</td>\n",
       "      <td>(40.83599404683083, -73.82837939584206)</td>\n",
       "    </tr>\n",
       "    <tr>\n",
       "      <th>4</th>\n",
       "      <td>32306529</td>\n",
       "      <td>12/31/2015 11:56:58 PM</td>\n",
       "      <td>01/01/2016 03:24:42 AM</td>\n",
       "      <td>NYPD</td>\n",
       "      <td>New York City Police Department</td>\n",
       "      <td>Illegal Parking</td>\n",
       "      <td>Blocked Sidewalk</td>\n",
       "      <td>Street/Sidewalk</td>\n",
       "      <td>11373.0</td>\n",
       "      <td>87-14 57 ROAD</td>\n",
       "      <td>...</td>\n",
       "      <td>NaN</td>\n",
       "      <td>NaN</td>\n",
       "      <td>NaN</td>\n",
       "      <td>NaN</td>\n",
       "      <td>NaN</td>\n",
       "      <td>NaN</td>\n",
       "      <td>NaN</td>\n",
       "      <td>40.733060</td>\n",
       "      <td>-73.874170</td>\n",
       "      <td>(40.733059618956815, -73.87416975810375)</td>\n",
       "    </tr>\n",
       "  </tbody>\n",
       "</table>\n",
       "<p>5 rows × 53 columns</p>\n",
       "</div>"
      ],
      "text/plain": [
       "   Unique Key            Created Date             Closed Date Agency  \\\n",
       "0    32310363  12/31/2015 11:59:45 PM  01/01/2016 12:55:15 AM   NYPD   \n",
       "1    32309934  12/31/2015 11:59:44 PM  01/01/2016 01:26:57 AM   NYPD   \n",
       "2    32309159  12/31/2015 11:59:29 PM  01/01/2016 04:51:03 AM   NYPD   \n",
       "3    32305098  12/31/2015 11:57:46 PM  01/01/2016 07:43:13 AM   NYPD   \n",
       "4    32306529  12/31/2015 11:56:58 PM  01/01/2016 03:24:42 AM   NYPD   \n",
       "\n",
       "                       Agency Name           Complaint Type  \\\n",
       "0  New York City Police Department  Noise - Street/Sidewalk   \n",
       "1  New York City Police Department         Blocked Driveway   \n",
       "2  New York City Police Department         Blocked Driveway   \n",
       "3  New York City Police Department          Illegal Parking   \n",
       "4  New York City Police Department          Illegal Parking   \n",
       "\n",
       "                     Descriptor    Location Type  Incident Zip  \\\n",
       "0              Loud Music/Party  Street/Sidewalk       10034.0   \n",
       "1                     No Access  Street/Sidewalk       11105.0   \n",
       "2                     No Access  Street/Sidewalk       10458.0   \n",
       "3  Commercial Overnight Parking  Street/Sidewalk       10461.0   \n",
       "4              Blocked Sidewalk  Street/Sidewalk       11373.0   \n",
       "\n",
       "        Incident Address  ... Bridge Highway Name Bridge Highway Direction  \\\n",
       "0    71 VERMILYEA AVENUE  ...                 NaN                      NaN   \n",
       "1        27-07 23 AVENUE  ...                 NaN                      NaN   \n",
       "2  2897 VALENTINE AVENUE  ...                 NaN                      NaN   \n",
       "3    2940 BAISLEY AVENUE  ...                 NaN                      NaN   \n",
       "4          87-14 57 ROAD  ...                 NaN                      NaN   \n",
       "\n",
       "  Road Ramp Bridge Highway Segment Garage Lot Name Ferry Direction  \\\n",
       "0       NaN                    NaN             NaN             NaN   \n",
       "1       NaN                    NaN             NaN             NaN   \n",
       "2       NaN                    NaN             NaN             NaN   \n",
       "3       NaN                    NaN             NaN             NaN   \n",
       "4       NaN                    NaN             NaN             NaN   \n",
       "\n",
       "  Ferry Terminal Name   Latitude  Longitude  \\\n",
       "0                 NaN  40.865682 -73.923501   \n",
       "1                 NaN  40.775945 -73.915094   \n",
       "2                 NaN  40.870325 -73.888525   \n",
       "3                 NaN  40.835994 -73.828379   \n",
       "4                 NaN  40.733060 -73.874170   \n",
       "\n",
       "                                   Location  \n",
       "0   (40.86568153633767, -73.92350095571744)  \n",
       "1  (40.775945312321085, -73.91509393898605)  \n",
       "2  (40.870324522111424, -73.88852464418646)  \n",
       "3   (40.83599404683083, -73.82837939584206)  \n",
       "4  (40.733059618956815, -73.87416975810375)  \n",
       "\n",
       "[5 rows x 53 columns]"
      ]
     },
     "execution_count": 2,
     "metadata": {},
     "output_type": "execute_result"
    }
   ],
   "source": [
    "\n",
    "service_request =pd.read_csv(\"311_Service_Requests_from_2010_to_Present.csv\")\n",
    "service_request.head()"
   ]
  },
  {
   "cell_type": "code",
   "execution_count": 3,
   "metadata": {},
   "outputs": [
    {
     "data": {
      "text/html": [
       "<div>\n",
       "<style scoped>\n",
       "    .dataframe tbody tr th:only-of-type {\n",
       "        vertical-align: middle;\n",
       "    }\n",
       "\n",
       "    .dataframe tbody tr th {\n",
       "        vertical-align: top;\n",
       "    }\n",
       "\n",
       "    .dataframe thead th {\n",
       "        text-align: right;\n",
       "    }\n",
       "</style>\n",
       "<table border=\"1\" class=\"dataframe\">\n",
       "  <thead>\n",
       "    <tr style=\"text-align: right;\">\n",
       "      <th></th>\n",
       "      <th>Unique Key</th>\n",
       "      <th>Created Date</th>\n",
       "      <th>Closed Date</th>\n",
       "      <th>Agency</th>\n",
       "      <th>Agency Name</th>\n",
       "      <th>Complaint Type</th>\n",
       "      <th>Descriptor</th>\n",
       "      <th>Location Type</th>\n",
       "      <th>Incident Zip</th>\n",
       "      <th>Incident Address</th>\n",
       "      <th>...</th>\n",
       "      <th>Bridge Highway Name</th>\n",
       "      <th>Bridge Highway Direction</th>\n",
       "      <th>Road Ramp</th>\n",
       "      <th>Bridge Highway Segment</th>\n",
       "      <th>Garage Lot Name</th>\n",
       "      <th>Ferry Direction</th>\n",
       "      <th>Ferry Terminal Name</th>\n",
       "      <th>Latitude</th>\n",
       "      <th>Longitude</th>\n",
       "      <th>Location</th>\n",
       "    </tr>\n",
       "  </thead>\n",
       "  <tbody>\n",
       "    <tr>\n",
       "      <th>364553</th>\n",
       "      <td>29609918</td>\n",
       "      <td>01/01/2015 12:04:44 AM</td>\n",
       "      <td>01/01/2015 10:22:31 AM</td>\n",
       "      <td>NYPD</td>\n",
       "      <td>New York City Police Department</td>\n",
       "      <td>Illegal Parking</td>\n",
       "      <td>Blocked Hydrant</td>\n",
       "      <td>Street/Sidewalk</td>\n",
       "      <td>11421.0</td>\n",
       "      <td>84-25 85 ROAD</td>\n",
       "      <td>...</td>\n",
       "      <td>NaN</td>\n",
       "      <td>NaN</td>\n",
       "      <td>NaN</td>\n",
       "      <td>NaN</td>\n",
       "      <td>NaN</td>\n",
       "      <td>NaN</td>\n",
       "      <td>NaN</td>\n",
       "      <td>40.695145</td>\n",
       "      <td>-73.860949</td>\n",
       "      <td>(40.69514470265117, -73.86094888534394)</td>\n",
       "    </tr>\n",
       "    <tr>\n",
       "      <th>364554</th>\n",
       "      <td>29608392</td>\n",
       "      <td>01/01/2015 12:04:28 AM</td>\n",
       "      <td>01/01/2015 02:25:02 AM</td>\n",
       "      <td>NYPD</td>\n",
       "      <td>New York City Police Department</td>\n",
       "      <td>Noise - Vehicle</td>\n",
       "      <td>Car/Truck Horn</td>\n",
       "      <td>Street/Sidewalk</td>\n",
       "      <td>10468.0</td>\n",
       "      <td>2555 SEDGWICK AVENUE</td>\n",
       "      <td>...</td>\n",
       "      <td>NaN</td>\n",
       "      <td>NaN</td>\n",
       "      <td>NaN</td>\n",
       "      <td>NaN</td>\n",
       "      <td>NaN</td>\n",
       "      <td>NaN</td>\n",
       "      <td>NaN</td>\n",
       "      <td>40.867830</td>\n",
       "      <td>-73.907178</td>\n",
       "      <td>(40.86782963689454, -73.90717786644662)</td>\n",
       "    </tr>\n",
       "    <tr>\n",
       "      <th>364555</th>\n",
       "      <td>29607589</td>\n",
       "      <td>01/01/2015 12:01:30 AM</td>\n",
       "      <td>01/01/2015 12:20:33 AM</td>\n",
       "      <td>NYPD</td>\n",
       "      <td>New York City Police Department</td>\n",
       "      <td>Noise - Street/Sidewalk</td>\n",
       "      <td>Loud Music/Party</td>\n",
       "      <td>Street/Sidewalk</td>\n",
       "      <td>10031.0</td>\n",
       "      <td>508 WEST 139 STREET</td>\n",
       "      <td>...</td>\n",
       "      <td>NaN</td>\n",
       "      <td>NaN</td>\n",
       "      <td>NaN</td>\n",
       "      <td>NaN</td>\n",
       "      <td>NaN</td>\n",
       "      <td>NaN</td>\n",
       "      <td>NaN</td>\n",
       "      <td>40.821647</td>\n",
       "      <td>-73.950873</td>\n",
       "      <td>(40.821646626438095, -73.95087342885292)</td>\n",
       "    </tr>\n",
       "    <tr>\n",
       "      <th>364556</th>\n",
       "      <td>29610889</td>\n",
       "      <td>01/01/2015 12:01:29 AM</td>\n",
       "      <td>01/01/2015 02:42:22 AM</td>\n",
       "      <td>NYPD</td>\n",
       "      <td>New York City Police Department</td>\n",
       "      <td>Blocked Driveway</td>\n",
       "      <td>No Access</td>\n",
       "      <td>Street/Sidewalk</td>\n",
       "      <td>10466.0</td>\n",
       "      <td>931 EAST 226 STREET</td>\n",
       "      <td>...</td>\n",
       "      <td>NaN</td>\n",
       "      <td>NaN</td>\n",
       "      <td>NaN</td>\n",
       "      <td>NaN</td>\n",
       "      <td>NaN</td>\n",
       "      <td>NaN</td>\n",
       "      <td>NaN</td>\n",
       "      <td>40.886361</td>\n",
       "      <td>-73.853290</td>\n",
       "      <td>(40.88636077906953, -73.85329048666742)</td>\n",
       "    </tr>\n",
       "    <tr>\n",
       "      <th>364557</th>\n",
       "      <td>29611816</td>\n",
       "      <td>01/01/2015 12:00:50 AM</td>\n",
       "      <td>01/01/2015 02:47:50 AM</td>\n",
       "      <td>NYPD</td>\n",
       "      <td>New York City Police Department</td>\n",
       "      <td>Blocked Driveway</td>\n",
       "      <td>No Access</td>\n",
       "      <td>Street/Sidewalk</td>\n",
       "      <td>11420.0</td>\n",
       "      <td>123-19 135 STREET</td>\n",
       "      <td>...</td>\n",
       "      <td>NaN</td>\n",
       "      <td>NaN</td>\n",
       "      <td>NaN</td>\n",
       "      <td>NaN</td>\n",
       "      <td>NaN</td>\n",
       "      <td>NaN</td>\n",
       "      <td>NaN</td>\n",
       "      <td>40.674212</td>\n",
       "      <td>-73.803585</td>\n",
       "      <td>(40.674211762243935, -73.80358548685278)</td>\n",
       "    </tr>\n",
       "  </tbody>\n",
       "</table>\n",
       "<p>5 rows × 53 columns</p>\n",
       "</div>"
      ],
      "text/plain": [
       "        Unique Key            Created Date             Closed Date Agency  \\\n",
       "364553    29609918  01/01/2015 12:04:44 AM  01/01/2015 10:22:31 AM   NYPD   \n",
       "364554    29608392  01/01/2015 12:04:28 AM  01/01/2015 02:25:02 AM   NYPD   \n",
       "364555    29607589  01/01/2015 12:01:30 AM  01/01/2015 12:20:33 AM   NYPD   \n",
       "364556    29610889  01/01/2015 12:01:29 AM  01/01/2015 02:42:22 AM   NYPD   \n",
       "364557    29611816  01/01/2015 12:00:50 AM  01/01/2015 02:47:50 AM   NYPD   \n",
       "\n",
       "                            Agency Name           Complaint Type  \\\n",
       "364553  New York City Police Department          Illegal Parking   \n",
       "364554  New York City Police Department          Noise - Vehicle   \n",
       "364555  New York City Police Department  Noise - Street/Sidewalk   \n",
       "364556  New York City Police Department         Blocked Driveway   \n",
       "364557  New York City Police Department         Blocked Driveway   \n",
       "\n",
       "              Descriptor    Location Type  Incident Zip      Incident Address  \\\n",
       "364553   Blocked Hydrant  Street/Sidewalk       11421.0         84-25 85 ROAD   \n",
       "364554    Car/Truck Horn  Street/Sidewalk       10468.0  2555 SEDGWICK AVENUE   \n",
       "364555  Loud Music/Party  Street/Sidewalk       10031.0   508 WEST 139 STREET   \n",
       "364556         No Access  Street/Sidewalk       10466.0   931 EAST 226 STREET   \n",
       "364557         No Access  Street/Sidewalk       11420.0     123-19 135 STREET   \n",
       "\n",
       "        ... Bridge Highway Name Bridge Highway Direction Road Ramp  \\\n",
       "364553  ...                 NaN                      NaN       NaN   \n",
       "364554  ...                 NaN                      NaN       NaN   \n",
       "364555  ...                 NaN                      NaN       NaN   \n",
       "364556  ...                 NaN                      NaN       NaN   \n",
       "364557  ...                 NaN                      NaN       NaN   \n",
       "\n",
       "       Bridge Highway Segment Garage Lot Name Ferry Direction  \\\n",
       "364553                    NaN             NaN             NaN   \n",
       "364554                    NaN             NaN             NaN   \n",
       "364555                    NaN             NaN             NaN   \n",
       "364556                    NaN             NaN             NaN   \n",
       "364557                    NaN             NaN             NaN   \n",
       "\n",
       "       Ferry Terminal Name   Latitude  Longitude  \\\n",
       "364553                 NaN  40.695145 -73.860949   \n",
       "364554                 NaN  40.867830 -73.907178   \n",
       "364555                 NaN  40.821647 -73.950873   \n",
       "364556                 NaN  40.886361 -73.853290   \n",
       "364557                 NaN  40.674212 -73.803585   \n",
       "\n",
       "                                        Location  \n",
       "364553   (40.69514470265117, -73.86094888534394)  \n",
       "364554   (40.86782963689454, -73.90717786644662)  \n",
       "364555  (40.821646626438095, -73.95087342885292)  \n",
       "364556   (40.88636077906953, -73.85329048666742)  \n",
       "364557  (40.674211762243935, -73.80358548685278)  \n",
       "\n",
       "[5 rows x 53 columns]"
      ]
     },
     "execution_count": 3,
     "metadata": {},
     "output_type": "execute_result"
    }
   ],
   "source": [
    "service_request.tail()"
   ]
  },
  {
   "cell_type": "code",
   "execution_count": 4,
   "metadata": {},
   "outputs": [
    {
     "data": {
      "text/plain": [
       "Index(['Unique Key', 'Created Date', 'Closed Date', 'Agency', 'Agency Name',\n",
       "       'Complaint Type', 'Descriptor', 'Location Type', 'Incident Zip',\n",
       "       'Incident Address', 'Street Name', 'Cross Street 1', 'Cross Street 2',\n",
       "       'Intersection Street 1', 'Intersection Street 2', 'Address Type',\n",
       "       'City', 'Landmark', 'Facility Type', 'Status', 'Due Date',\n",
       "       'Resolution Description', 'Resolution Action Updated Date',\n",
       "       'Community Board', 'Borough', 'X Coordinate (State Plane)',\n",
       "       'Y Coordinate (State Plane)', 'Park Facility Name', 'Park Borough',\n",
       "       'School Name', 'School Number', 'School Region', 'School Code',\n",
       "       'School Phone Number', 'School Address', 'School City', 'School State',\n",
       "       'School Zip', 'School Not Found', 'School or Citywide Complaint',\n",
       "       'Vehicle Type', 'Taxi Company Borough', 'Taxi Pick Up Location',\n",
       "       'Bridge Highway Name', 'Bridge Highway Direction', 'Road Ramp',\n",
       "       'Bridge Highway Segment', 'Garage Lot Name', 'Ferry Direction',\n",
       "       'Ferry Terminal Name', 'Latitude', 'Longitude', 'Location'],\n",
       "      dtype='object')"
      ]
     },
     "execution_count": 4,
     "metadata": {},
     "output_type": "execute_result"
    }
   ],
   "source": [
    "#to check the columns\n",
    "service_request.columns"
   ]
  },
  {
   "cell_type": "code",
   "execution_count": 5,
   "metadata": {},
   "outputs": [
    {
     "data": {
      "text/plain": [
       "(364558, 53)"
      ]
     },
     "execution_count": 5,
     "metadata": {},
     "output_type": "execute_result"
    }
   ],
   "source": [
    "service_request.shape"
   ]
  },
  {
   "cell_type": "code",
   "execution_count": 6,
   "metadata": {},
   "outputs": [
    {
     "data": {
      "text/plain": [
       "<bound method NDFrame.describe of         Unique Key            Created Date             Closed Date Agency  \\\n",
       "0         32310363  12/31/2015 11:59:45 PM  01/01/2016 12:55:15 AM   NYPD   \n",
       "1         32309934  12/31/2015 11:59:44 PM  01/01/2016 01:26:57 AM   NYPD   \n",
       "2         32309159  12/31/2015 11:59:29 PM  01/01/2016 04:51:03 AM   NYPD   \n",
       "3         32305098  12/31/2015 11:57:46 PM  01/01/2016 07:43:13 AM   NYPD   \n",
       "4         32306529  12/31/2015 11:56:58 PM  01/01/2016 03:24:42 AM   NYPD   \n",
       "...            ...                     ...                     ...    ...   \n",
       "364553    29609918  01/01/2015 12:04:44 AM  01/01/2015 10:22:31 AM   NYPD   \n",
       "364554    29608392  01/01/2015 12:04:28 AM  01/01/2015 02:25:02 AM   NYPD   \n",
       "364555    29607589  01/01/2015 12:01:30 AM  01/01/2015 12:20:33 AM   NYPD   \n",
       "364556    29610889  01/01/2015 12:01:29 AM  01/01/2015 02:42:22 AM   NYPD   \n",
       "364557    29611816  01/01/2015 12:00:50 AM  01/01/2015 02:47:50 AM   NYPD   \n",
       "\n",
       "                            Agency Name           Complaint Type  \\\n",
       "0       New York City Police Department  Noise - Street/Sidewalk   \n",
       "1       New York City Police Department         Blocked Driveway   \n",
       "2       New York City Police Department         Blocked Driveway   \n",
       "3       New York City Police Department          Illegal Parking   \n",
       "4       New York City Police Department          Illegal Parking   \n",
       "...                                 ...                      ...   \n",
       "364553  New York City Police Department          Illegal Parking   \n",
       "364554  New York City Police Department          Noise - Vehicle   \n",
       "364555  New York City Police Department  Noise - Street/Sidewalk   \n",
       "364556  New York City Police Department         Blocked Driveway   \n",
       "364557  New York City Police Department         Blocked Driveway   \n",
       "\n",
       "                          Descriptor    Location Type  Incident Zip  \\\n",
       "0                   Loud Music/Party  Street/Sidewalk       10034.0   \n",
       "1                          No Access  Street/Sidewalk       11105.0   \n",
       "2                          No Access  Street/Sidewalk       10458.0   \n",
       "3       Commercial Overnight Parking  Street/Sidewalk       10461.0   \n",
       "4                   Blocked Sidewalk  Street/Sidewalk       11373.0   \n",
       "...                              ...              ...           ...   \n",
       "364553               Blocked Hydrant  Street/Sidewalk       11421.0   \n",
       "364554                Car/Truck Horn  Street/Sidewalk       10468.0   \n",
       "364555              Loud Music/Party  Street/Sidewalk       10031.0   \n",
       "364556                     No Access  Street/Sidewalk       10466.0   \n",
       "364557                     No Access  Street/Sidewalk       11420.0   \n",
       "\n",
       "             Incident Address  ... Bridge Highway Name  \\\n",
       "0         71 VERMILYEA AVENUE  ...                 NaN   \n",
       "1             27-07 23 AVENUE  ...                 NaN   \n",
       "2       2897 VALENTINE AVENUE  ...                 NaN   \n",
       "3         2940 BAISLEY AVENUE  ...                 NaN   \n",
       "4               87-14 57 ROAD  ...                 NaN   \n",
       "...                       ...  ...                 ...   \n",
       "364553          84-25 85 ROAD  ...                 NaN   \n",
       "364554   2555 SEDGWICK AVENUE  ...                 NaN   \n",
       "364555    508 WEST 139 STREET  ...                 NaN   \n",
       "364556    931 EAST 226 STREET  ...                 NaN   \n",
       "364557      123-19 135 STREET  ...                 NaN   \n",
       "\n",
       "       Bridge Highway Direction Road Ramp Bridge Highway Segment  \\\n",
       "0                           NaN       NaN                    NaN   \n",
       "1                           NaN       NaN                    NaN   \n",
       "2                           NaN       NaN                    NaN   \n",
       "3                           NaN       NaN                    NaN   \n",
       "4                           NaN       NaN                    NaN   \n",
       "...                         ...       ...                    ...   \n",
       "364553                      NaN       NaN                    NaN   \n",
       "364554                      NaN       NaN                    NaN   \n",
       "364555                      NaN       NaN                    NaN   \n",
       "364556                      NaN       NaN                    NaN   \n",
       "364557                      NaN       NaN                    NaN   \n",
       "\n",
       "       Garage Lot Name Ferry Direction Ferry Terminal Name   Latitude  \\\n",
       "0                  NaN             NaN                 NaN  40.865682   \n",
       "1                  NaN             NaN                 NaN  40.775945   \n",
       "2                  NaN             NaN                 NaN  40.870325   \n",
       "3                  NaN             NaN                 NaN  40.835994   \n",
       "4                  NaN             NaN                 NaN  40.733060   \n",
       "...                ...             ...                 ...        ...   \n",
       "364553             NaN             NaN                 NaN  40.695145   \n",
       "364554             NaN             NaN                 NaN  40.867830   \n",
       "364555             NaN             NaN                 NaN  40.821647   \n",
       "364556             NaN             NaN                 NaN  40.886361   \n",
       "364557             NaN             NaN                 NaN  40.674212   \n",
       "\n",
       "        Longitude                                  Location  \n",
       "0      -73.923501   (40.86568153633767, -73.92350095571744)  \n",
       "1      -73.915094  (40.775945312321085, -73.91509393898605)  \n",
       "2      -73.888525  (40.870324522111424, -73.88852464418646)  \n",
       "3      -73.828379   (40.83599404683083, -73.82837939584206)  \n",
       "4      -73.874170  (40.733059618956815, -73.87416975810375)  \n",
       "...           ...                                       ...  \n",
       "364553 -73.860949   (40.69514470265117, -73.86094888534394)  \n",
       "364554 -73.907178   (40.86782963689454, -73.90717786644662)  \n",
       "364555 -73.950873  (40.821646626438095, -73.95087342885292)  \n",
       "364556 -73.853290   (40.88636077906953, -73.85329048666742)  \n",
       "364557 -73.803585  (40.674211762243935, -73.80358548685278)  \n",
       "\n",
       "[364558 rows x 53 columns]>"
      ]
     },
     "execution_count": 6,
     "metadata": {},
     "output_type": "execute_result"
    }
   ],
   "source": [
    "service_request.describe"
   ]
  },
  {
   "cell_type": "code",
   "execution_count": 7,
   "metadata": {},
   "outputs": [
    {
     "name": "stdout",
     "output_type": "stream",
     "text": [
      "<class 'pandas.core.frame.DataFrame'>\n",
      "RangeIndex: 364558 entries, 0 to 364557\n",
      "Data columns (total 53 columns):\n",
      " #   Column                          Non-Null Count   Dtype  \n",
      "---  ------                          --------------   -----  \n",
      " 0   Unique Key                      364558 non-null  int64  \n",
      " 1   Created Date                    364558 non-null  object \n",
      " 2   Closed Date                     362177 non-null  object \n",
      " 3   Agency                          364558 non-null  object \n",
      " 4   Agency Name                     364558 non-null  object \n",
      " 5   Complaint Type                  364558 non-null  object \n",
      " 6   Descriptor                      358057 non-null  object \n",
      " 7   Location Type                   364425 non-null  object \n",
      " 8   Incident Zip                    361560 non-null  float64\n",
      " 9   Incident Address                312859 non-null  object \n",
      " 10  Street Name                     312859 non-null  object \n",
      " 11  Cross Street 1                  307370 non-null  object \n",
      " 12  Cross Street 2                  306753 non-null  object \n",
      " 13  Intersection Street 1           51120 non-null   object \n",
      " 14  Intersection Street 2           50512 non-null   object \n",
      " 15  Address Type                    361306 non-null  object \n",
      " 16  City                            361561 non-null  object \n",
      " 17  Landmark                        375 non-null     object \n",
      " 18  Facility Type                   362169 non-null  object \n",
      " 19  Status                          364558 non-null  object \n",
      " 20  Due Date                        364555 non-null  object \n",
      " 21  Resolution Description          364558 non-null  object \n",
      " 22  Resolution Action Updated Date  362156 non-null  object \n",
      " 23  Community Board                 364558 non-null  object \n",
      " 24  Borough                         364558 non-null  object \n",
      " 25  X Coordinate (State Plane)      360528 non-null  float64\n",
      " 26  Y Coordinate (State Plane)      360528 non-null  float64\n",
      " 27  Park Facility Name              364558 non-null  object \n",
      " 28  Park Borough                    364558 non-null  object \n",
      " 29  School Name                     364558 non-null  object \n",
      " 30  School Number                   364558 non-null  object \n",
      " 31  School Region                   364557 non-null  object \n",
      " 32  School Code                     364557 non-null  object \n",
      " 33  School Phone Number             364558 non-null  object \n",
      " 34  School Address                  364558 non-null  object \n",
      " 35  School City                     364558 non-null  object \n",
      " 36  School State                    364558 non-null  object \n",
      " 37  School Zip                      364557 non-null  object \n",
      " 38  School Not Found                364558 non-null  object \n",
      " 39  School or Citywide Complaint    0 non-null       float64\n",
      " 40  Vehicle Type                    0 non-null       float64\n",
      " 41  Taxi Company Borough            0 non-null       float64\n",
      " 42  Taxi Pick Up Location           0 non-null       float64\n",
      " 43  Bridge Highway Name             297 non-null     object \n",
      " 44  Bridge Highway Direction        297 non-null     object \n",
      " 45  Road Ramp                       262 non-null     object \n",
      " 46  Bridge Highway Segment          262 non-null     object \n",
      " 47  Garage Lot Name                 0 non-null       float64\n",
      " 48  Ferry Direction                 1 non-null       object \n",
      " 49  Ferry Terminal Name             2 non-null       object \n",
      " 50  Latitude                        360528 non-null  float64\n",
      " 51  Longitude                       360528 non-null  float64\n",
      " 52  Location                        360528 non-null  object \n",
      "dtypes: float64(10), int64(1), object(42)\n",
      "memory usage: 147.4+ MB\n"
     ]
    }
   ],
   "source": [
    "#to check the information\n",
    "service_request.info()"
   ]
  },
  {
   "cell_type": "code",
   "execution_count": 8,
   "metadata": {},
   "outputs": [
    {
     "data": {
      "text/plain": [
       "Unique Key                             0\n",
       "Created Date                           0\n",
       "Closed Date                         2381\n",
       "Agency                                 0\n",
       "Agency Name                            0\n",
       "Complaint Type                         0\n",
       "Descriptor                          6501\n",
       "Location Type                        133\n",
       "Incident Zip                        2998\n",
       "Incident Address                   51699\n",
       "Street Name                        51699\n",
       "Cross Street 1                     57188\n",
       "Cross Street 2                     57805\n",
       "Intersection Street 1             313438\n",
       "Intersection Street 2             314046\n",
       "Address Type                        3252\n",
       "City                                2997\n",
       "Landmark                          364183\n",
       "Facility Type                       2389\n",
       "Status                                 0\n",
       "Due Date                               3\n",
       "Resolution Description                 0\n",
       "Resolution Action Updated Date      2402\n",
       "Community Board                        0\n",
       "Borough                                0\n",
       "X Coordinate (State Plane)          4030\n",
       "Y Coordinate (State Plane)          4030\n",
       "Park Facility Name                     0\n",
       "Park Borough                           0\n",
       "School Name                            0\n",
       "School Number                          0\n",
       "School Region                          1\n",
       "School Code                            1\n",
       "School Phone Number                    0\n",
       "School Address                         0\n",
       "School City                            0\n",
       "School State                           0\n",
       "School Zip                             1\n",
       "School Not Found                       0\n",
       "School or Citywide Complaint      364558\n",
       "Vehicle Type                      364558\n",
       "Taxi Company Borough              364558\n",
       "Taxi Pick Up Location             364558\n",
       "Bridge Highway Name               364261\n",
       "Bridge Highway Direction          364261\n",
       "Road Ramp                         364296\n",
       "Bridge Highway Segment            364296\n",
       "Garage Lot Name                   364558\n",
       "Ferry Direction                   364557\n",
       "Ferry Terminal Name               364556\n",
       "Latitude                            4030\n",
       "Longitude                           4030\n",
       "Location                            4030\n",
       "dtype: int64"
      ]
     },
     "execution_count": 8,
     "metadata": {},
     "output_type": "execute_result"
    }
   ],
   "source": [
    "# to check the null counts in a rows \n",
    "service_request.isna().sum(axis=0)"
   ]
  },
  {
   "cell_type": "code",
   "execution_count": 9,
   "metadata": {},
   "outputs": [
    {
     "data": {
      "text/plain": [
       "14    300934\n",
       "16     51856\n",
       "15      4935\n",
       "17      2252\n",
       "27      1832\n",
       "19      1014\n",
       "18       515\n",
       "24       500\n",
       "25       482\n",
       "22       122\n",
       "20        91\n",
       "28        15\n",
       "21         3\n",
       "26         3\n",
       "23         2\n",
       "29         1\n",
       "13         1\n",
       "dtype: int64"
      ]
     },
     "execution_count": 9,
     "metadata": {},
     "output_type": "execute_result"
    }
   ],
   "source": [
    "service_request.isna().sum(axis=1).value_counts()"
   ]
  },
  {
   "cell_type": "markdown",
   "metadata": {},
   "source": [
    "## Perform Basic DATA EXPLORATORY ANALYSIS:\n",
    "2.1 draw frequency plot to show the number of null values in each column of the DataFrames.\n",
    "2.2 Missing Value Treatment\n",
    "2.2.1 Remove the record whose \"closed Date\" values are null "
   ]
  },
  {
   "cell_type": "code",
   "execution_count": 10,
   "metadata": {},
   "outputs": [
    {
     "data": {
      "text/plain": [
       "Unique Key                             0\n",
       "Created Date                           0\n",
       "Closed Date                         2381\n",
       "Agency                                 0\n",
       "Agency Name                            0\n",
       "Complaint Type                         0\n",
       "Descriptor                          6501\n",
       "Location Type                        133\n",
       "Incident Zip                        2998\n",
       "Incident Address                   51699\n",
       "Street Name                        51699\n",
       "Cross Street 1                     57188\n",
       "Cross Street 2                     57805\n",
       "Intersection Street 1             313438\n",
       "Intersection Street 2             314046\n",
       "Address Type                        3252\n",
       "City                                2997\n",
       "Landmark                          364183\n",
       "Facility Type                       2389\n",
       "Status                                 0\n",
       "Due Date                               3\n",
       "Resolution Description                 0\n",
       "Resolution Action Updated Date      2402\n",
       "Community Board                        0\n",
       "Borough                                0\n",
       "X Coordinate (State Plane)          4030\n",
       "Y Coordinate (State Plane)          4030\n",
       "Park Facility Name                     0\n",
       "Park Borough                           0\n",
       "School Name                            0\n",
       "School Number                          0\n",
       "School Region                          1\n",
       "School Code                            1\n",
       "School Phone Number                    0\n",
       "School Address                         0\n",
       "School City                            0\n",
       "School State                           0\n",
       "School Zip                             1\n",
       "School Not Found                       0\n",
       "School or Citywide Complaint      364558\n",
       "Vehicle Type                      364558\n",
       "Taxi Company Borough              364558\n",
       "Taxi Pick Up Location             364558\n",
       "Bridge Highway Name               364261\n",
       "Bridge Highway Direction          364261\n",
       "Road Ramp                         364296\n",
       "Bridge Highway Segment            364296\n",
       "Garage Lot Name                   364558\n",
       "Ferry Direction                   364557\n",
       "Ferry Terminal Name               364556\n",
       "Latitude                            4030\n",
       "Longitude                           4030\n",
       "Location                            4030\n",
       "dtype: int64"
      ]
     },
     "execution_count": 10,
     "metadata": {},
     "output_type": "execute_result"
    }
   ],
   "source": [
    "Service_data_null = service_request.isna().sum(axis=0)\n",
    "Service_data_null"
   ]
  },
  {
   "cell_type": "code",
   "execution_count": 11,
   "metadata": {},
   "outputs": [
    {
     "data": {
      "text/plain": [
       "Unique Key                          int64\n",
       "Created Date                       object\n",
       "Closed Date                        object\n",
       "Agency                             object\n",
       "Agency Name                        object\n",
       "Complaint Type                     object\n",
       "Descriptor                         object\n",
       "Location Type                      object\n",
       "Incident Zip                      float64\n",
       "Incident Address                   object\n",
       "Street Name                        object\n",
       "Cross Street 1                     object\n",
       "Cross Street 2                     object\n",
       "Intersection Street 1              object\n",
       "Intersection Street 2              object\n",
       "Address Type                       object\n",
       "City                               object\n",
       "Landmark                           object\n",
       "Facility Type                      object\n",
       "Status                             object\n",
       "Due Date                           object\n",
       "Resolution Description             object\n",
       "Resolution Action Updated Date     object\n",
       "Community Board                    object\n",
       "Borough                            object\n",
       "X Coordinate (State Plane)        float64\n",
       "Y Coordinate (State Plane)        float64\n",
       "Park Facility Name                 object\n",
       "Park Borough                       object\n",
       "School Name                        object\n",
       "School Number                      object\n",
       "School Region                      object\n",
       "School Code                        object\n",
       "School Phone Number                object\n",
       "School Address                     object\n",
       "School City                        object\n",
       "School State                       object\n",
       "School Zip                         object\n",
       "School Not Found                   object\n",
       "School or Citywide Complaint      float64\n",
       "Vehicle Type                      float64\n",
       "Taxi Company Borough              float64\n",
       "Taxi Pick Up Location             float64\n",
       "Bridge Highway Name                object\n",
       "Bridge Highway Direction           object\n",
       "Road Ramp                          object\n",
       "Bridge Highway Segment             object\n",
       "Garage Lot Name                   float64\n",
       "Ferry Direction                    object\n",
       "Ferry Terminal Name                object\n",
       "Latitude                          float64\n",
       "Longitude                         float64\n",
       "Location                           object\n",
       "dtype: object"
      ]
     },
     "execution_count": 11,
     "metadata": {},
     "output_type": "execute_result"
    }
   ],
   "source": [
    "service_request.dtypes"
   ]
  },
  {
   "cell_type": "code",
   "execution_count": 12,
   "metadata": {},
   "outputs": [
    {
     "name": "stderr",
     "output_type": "stream",
     "text": [
      "No artists with labels found to put in legend.  Note that artists whose label start with an underscore are ignored when legend() is called with no argument.\n"
     ]
    },
    {
     "data": {
      "text/plain": [
       "<matplotlib.legend.Legend at 0x7f23776e69d0>"
      ]
     },
     "execution_count": 12,
     "metadata": {},
     "output_type": "execute_result"
    },
    {
     "data": {
      "image/png": "[encoded data removed]",
      "text/plain": [
       "<Figure size 864x504 with 1 Axes>"
      ]
     },
     "metadata": {},
     "output_type": "display_data"
    }
   ],
   "source": [
    "# Draw the frequency plot to show the null values in each dataframe\n",
    "sns.set(rc={'figure.figsize':(12,7)})\n",
    "sns.histplot(Service_data_null,\n",
    "             bins=30,\n",
    "             kde=True,\n",
    "             alpha=0.7,\n",
    "            linewidth =0.8\n",
    "           )\n",
    "\n",
    "\n",
    "plt.legend()\n",
    "\n",
    "\n"
   ]
  },
  {
   "cell_type": "markdown",
   "metadata": {},
   "source": [
    "More Clearely for the particular column which are null "
   ]
  },
  {
   "cell_type": "code",
   "execution_count": 13,
   "metadata": {},
   "outputs": [
    {
     "data": {
      "image/png": "[encoded data removed]",
      "text/plain": [
       "<Figure size 864x504 with 2 Axes>"
      ]
     },
     "metadata": {},
     "output_type": "display_data"
    },
    {
     "data": {
      "image/png": "[encoded data removed]",
      "text/plain": [
       "<Figure size 864x504 with 2 Axes>"
      ]
     },
     "metadata": {},
     "output_type": "display_data"
    },
    {
     "data": {
      "image/png": "[encoded data removed]",
      "text/plain": [
       "<Figure size 864x504 with 2 Axes>"
      ]
     },
     "metadata": {},
     "output_type": "display_data"
    },
    {
     "data": {
      "image/png": "[encoded data removed]",
      "text/plain": [
       "<Figure size 864x504 with 2 Axes>"
      ]
     },
     "metadata": {},
     "output_type": "display_data"
    },
    {
     "data": {
      "image/png": "[encoded data removed]",
      "text/plain": [
       "<Figure size 864x504 with 2 Axes>"
      ]
     },
     "metadata": {},
     "output_type": "display_data"
    }
   ],
   "source": [
    "import seaborn as sns\n",
    "\n",
    "num_cols = ['Incident Zip','X Coordinate (State Plane)','Y Coordinate (State Plane)','School or Citywide Complaint',\n",
    "            'Vehicle Type','Taxi Company Borough',\n",
    "            'Taxi Pick Up Location','Garage Lot Name','Latitude','Longitude']\n",
    "\n",
    "for i in range(0, len(num_cols), 2):\n",
    "   \n",
    "    plt.subplot(121)\n",
    "    sns.histplot(service_request[num_cols[i]],\n",
    "                 multiple=\"stack\", \n",
    "                 kde=True)\n",
    "    plt.subplot(122)            \n",
    "    sns.histplot(service_request[num_cols[i+1]],\n",
    "                 multiple=\"stack\",\n",
    "                 kde=True)\n",
    "    plt.tight_layout()\n",
    "    plt.show()"
   ]
  },
  {
   "cell_type": "markdown",
   "metadata": {},
   "source": [
    "we can see in the above graph thatcolumns -'Vehicle Type','Taxi Company Borough',\n",
    "            'Taxi Pick Up Location','Garage Lot Name' are 100% null."
   ]
  },
  {
   "cell_type": "markdown",
   "metadata": {},
   "source": [
    "## Missing value treatment\n",
    "a) Remove the record whose \"closed date\" values are null"
   ]
  },
  {
   "cell_type": "markdown",
   "metadata": {},
   "source": [
    "lets find the missing  value percentage so that we can drop more columns it is unnecessary. "
   ]
  },
  {
   "cell_type": "code",
   "execution_count": 14,
   "metadata": {},
   "outputs": [
    {
     "data": {
      "text/plain": [
       "Unique Key                          0.000000\n",
       "Created Date                        0.000000\n",
       "Closed Date                         0.653120\n",
       "Agency                              0.000000\n",
       "Agency Name                         0.000000\n",
       "Complaint Type                      0.000000\n",
       "Descriptor                          1.783255\n",
       "Location Type                       0.036483\n",
       "Incident Zip                        0.822366\n",
       "Incident Address                   14.181283\n",
       "Street Name                        14.181283\n",
       "Cross Street 1                     15.686941\n",
       "Cross Street 2                     15.856187\n",
       "Intersection Street 1              85.977540\n",
       "Intersection Street 2              86.144317\n",
       "Address Type                        0.892039\n",
       "City                                0.822091\n",
       "Landmark                           99.897136\n",
       "Facility Type                       0.655314\n",
       "Status                              0.000000\n",
       "Due Date                            0.000823\n",
       "Resolution Description              0.000000\n",
       "Resolution Action Updated Date      0.658880\n",
       "Community Board                     0.000000\n",
       "Borough                             0.000000\n",
       "X Coordinate (State Plane)          1.105448\n",
       "Y Coordinate (State Plane)          1.105448\n",
       "Park Facility Name                  0.000000\n",
       "Park Borough                        0.000000\n",
       "School Name                         0.000000\n",
       "School Number                       0.000000\n",
       "School Region                       0.000274\n",
       "School Code                         0.000274\n",
       "School Phone Number                 0.000000\n",
       "School Address                      0.000000\n",
       "School City                         0.000000\n",
       "School State                        0.000000\n",
       "School Zip                          0.000274\n",
       "School Not Found                    0.000000\n",
       "School or Citywide Complaint      100.000000\n",
       "Vehicle Type                      100.000000\n",
       "Taxi Company Borough              100.000000\n",
       "Taxi Pick Up Location             100.000000\n",
       "Bridge Highway Name                99.918531\n",
       "Bridge Highway Direction           99.918531\n",
       "Road Ramp                          99.928132\n",
       "Bridge Highway Segment             99.928132\n",
       "Garage Lot Name                   100.000000\n",
       "Ferry Direction                    99.999726\n",
       "Ferry Terminal Name                99.999451\n",
       "Latitude                            1.105448\n",
       "Longitude                           1.105448\n",
       "Location                            1.105448\n",
       "dtype: float64"
      ]
     },
     "execution_count": 14,
     "metadata": {},
     "output_type": "execute_result"
    }
   ],
   "source": [
    "percentage_null_value= (service_request[service_request.columns].isna().sum(axis=0)/service_request.shape[0])*100\n",
    "percentage_null_value"
   ]
  },
  {
   "cell_type": "code",
   "execution_count": 15,
   "metadata": {},
   "outputs": [
    {
     "data": {
      "text/plain": [
       "(364558, 53)"
      ]
     },
     "execution_count": 15,
     "metadata": {},
     "output_type": "execute_result"
    }
   ],
   "source": [
    "service_request.shape"
   ]
  },
  {
   "cell_type": "code",
   "execution_count": 16,
   "metadata": {},
   "outputs": [
    {
     "data": {
      "text/plain": [
       "(362177, 53)"
      ]
     },
     "execution_count": 16,
     "metadata": {},
     "output_type": "execute_result"
    }
   ],
   "source": [
    " service_request =service_request.dropna(subset=[\"Closed Date\"],axis=0)\n",
    "service_request.shape"
   ]
  },
  {
   "cell_type": "code",
   "execution_count": 17,
   "metadata": {},
   "outputs": [
    {
     "data": {
      "text/plain": [
       "Unique Key                             0\n",
       "Created Date                           0\n",
       "Closed Date                            0\n",
       "Agency                                 0\n",
       "Agency Name                            0\n",
       "Complaint Type                         0\n",
       "Descriptor                          6496\n",
       "Location Type                        130\n",
       "Incident Zip                         675\n",
       "Incident Address                   51686\n",
       "Street Name                        51686\n",
       "Cross Street 1                     55331\n",
       "Cross Street 2                     55464\n",
       "Intersection Street 1             311549\n",
       "Intersection Street 2             311673\n",
       "Address Type                         929\n",
       "City                                 674\n",
       "Landmark                          361802\n",
       "Facility Type                         18\n",
       "Status                                 0\n",
       "Due Date                               1\n",
       "Resolution Description                 0\n",
       "Resolution Action Updated Date        39\n",
       "Community Board                        0\n",
       "Borough                                0\n",
       "X Coordinate (State Plane)          1707\n",
       "Y Coordinate (State Plane)          1707\n",
       "Park Facility Name                     0\n",
       "Park Borough                           0\n",
       "School Name                            0\n",
       "School Number                          0\n",
       "School Region                          1\n",
       "School Code                            1\n",
       "School Phone Number                    0\n",
       "School Address                         0\n",
       "School City                            0\n",
       "School State                           0\n",
       "School Zip                             1\n",
       "School Not Found                       0\n",
       "School or Citywide Complaint      362177\n",
       "Vehicle Type                      362177\n",
       "Taxi Company Borough              362177\n",
       "Taxi Pick Up Location             362177\n",
       "Bridge Highway Name               361880\n",
       "Bridge Highway Direction          361880\n",
       "Road Ramp                         361915\n",
       "Bridge Highway Segment            361915\n",
       "Garage Lot Name                   362177\n",
       "Ferry Direction                   362177\n",
       "Ferry Terminal Name               362177\n",
       "Latitude                            1707\n",
       "Longitude                           1707\n",
       "Location                            1707\n",
       "dtype: int64"
      ]
     },
     "execution_count": 17,
     "metadata": {},
     "output_type": "execute_result"
    }
   ],
   "source": [
    "service_request.isna().sum(axis=0)"
   ]
  },
  {
   "cell_type": "markdown",
   "metadata": {},
   "source": [
    "## Analyse the date column and remove entries that have incorrect timelines"
   ]
  },
  {
   "cell_type": "code",
   "execution_count": 18,
   "metadata": {},
   "outputs": [
    {
     "name": "stdout",
     "output_type": "stream",
     "text": [
      "Created Date: 0         12/31/2015 11:59:45 PM\n",
      "1         12/31/2015 11:59:44 PM\n",
      "2         12/31/2015 11:59:29 PM\n",
      "3         12/31/2015 11:57:46 PM\n",
      "4         12/31/2015 11:56:58 PM\n",
      "                   ...          \n",
      "364553    01/01/2015 12:04:44 AM\n",
      "364554    01/01/2015 12:04:28 AM\n",
      "364555    01/01/2015 12:01:30 AM\n",
      "364556    01/01/2015 12:01:29 AM\n",
      "364557    01/01/2015 12:00:50 AM\n",
      "Name: Created Date, Length: 362177, dtype: object\n",
      "Due Date: 0         01/01/2016 07:59:45 AM\n",
      "1         01/01/2016 07:59:44 AM\n",
      "2         01/01/2016 07:59:29 AM\n",
      "3         01/01/2016 07:57:46 AM\n",
      "4         01/01/2016 07:56:58 AM\n",
      "                   ...          \n",
      "364553    01/01/2015 08:04:44 AM\n",
      "364554    01/01/2015 08:04:28 AM\n",
      "364555    01/01/2015 08:01:30 AM\n",
      "364556    01/01/2015 08:01:29 AM\n",
      "364557    01/01/2015 08:00:50 AM\n",
      "Name: Due Date, Length: 362177, dtype: object\n",
      "Resolution Action Updated Date: 0         01/01/2016 12:55:15 AM\n",
      "1         01/01/2016 01:26:57 AM\n",
      "2         01/01/2016 04:51:03 AM\n",
      "3         01/01/2016 07:43:13 AM\n",
      "4         01/01/2016 03:24:42 AM\n",
      "                   ...          \n",
      "364553    01/01/2015 10:22:31 AM\n",
      "364554    01/01/2015 02:25:02 AM\n",
      "364555    01/01/2015 12:20:33 AM\n",
      "364556    01/01/2015 02:42:22 AM\n",
      "364557    01/01/2015 02:47:50 AM\n",
      "Name: Resolution Action Updated Date, Length: 362177, dtype: object\n",
      "Closed Date: 0         01/01/2016 12:55:15 AM\n",
      "1         01/01/2016 01:26:57 AM\n",
      "2         01/01/2016 04:51:03 AM\n",
      "3         01/01/2016 07:43:13 AM\n",
      "4         01/01/2016 03:24:42 AM\n",
      "                   ...          \n",
      "364553    01/01/2015 10:22:31 AM\n",
      "364554    01/01/2015 02:25:02 AM\n",
      "364555    01/01/2015 12:20:33 AM\n",
      "364556    01/01/2015 02:42:22 AM\n",
      "364557    01/01/2015 02:47:50 AM\n",
      "Name: Closed Date, Length: 362177, dtype: object\n"
     ]
    }
   ],
   "source": [
    "print(\"Created Date:\",service_request['Created Date'])\n",
    "print(\"Due Date:\",service_request['Due Date'])\n",
    "print(\"Resolution Action Updated Date:\",service_request['Resolution Action Updated Date'])\n",
    "print(\"Closed Date:\",service_request['Closed Date'])"
   ]
  },
  {
   "cell_type": "code",
   "execution_count": 19,
   "metadata": {},
   "outputs": [
    {
     "name": "stdout",
     "output_type": "stream",
     "text": [
      "Created Date: 0        2015-12-31 23:59:45\n",
      "1        2015-12-31 23:59:44\n",
      "2        2015-12-31 23:59:29\n",
      "3        2015-12-31 23:57:46\n",
      "4        2015-12-31 23:56:58\n",
      "                 ...        \n",
      "364553   2015-01-01 00:04:44\n",
      "364554   2015-01-01 00:04:28\n",
      "364555   2015-01-01 00:01:30\n",
      "364556   2015-01-01 00:01:29\n",
      "364557   2015-01-01 00:00:50\n",
      "Name: Created Date, Length: 362177, dtype: datetime64[ns]\n"
     ]
    }
   ],
   "source": [
    "service_request['Created Date'] = pd.to_datetime(service_request['Created Date'],errors='coerce')\n",
    "print(\"Created Date:\",service_request['Created Date'])\n"
   ]
  },
  {
   "cell_type": "code",
   "execution_count": 20,
   "metadata": {},
   "outputs": [
    {
     "name": "stdout",
     "output_type": "stream",
     "text": [
      "Due Date: 0        2016-01-01 07:59:45\n",
      "1        2016-01-01 07:59:44\n",
      "2        2016-01-01 07:59:29\n",
      "3        2016-01-01 07:57:46\n",
      "4        2016-01-01 07:56:58\n",
      "                 ...        \n",
      "364553   2015-01-01 08:04:44\n",
      "364554   2015-01-01 08:04:28\n",
      "364555   2015-01-01 08:01:30\n",
      "364556   2015-01-01 08:01:29\n",
      "364557   2015-01-01 08:00:50\n",
      "Name: Due Date, Length: 362177, dtype: datetime64[ns]\n"
     ]
    }
   ],
   "source": [
    "# Conversion into datetime\n",
    "service_request['Due Date'] = pd.to_datetime(service_request['Due Date'],errors='coerce')\n",
    "print(\"Due Date:\",service_request['Due Date'])\n"
   ]
  },
  {
   "cell_type": "code",
   "execution_count": 21,
   "metadata": {},
   "outputs": [
    {
     "name": "stdout",
     "output_type": "stream",
     "text": [
      "Resolution Action Updated Date: 0        2016-01-01 00:55:15\n",
      "1        2016-01-01 01:26:57\n",
      "2        2016-01-01 04:51:03\n",
      "3        2016-01-01 07:43:13\n",
      "4        2016-01-01 03:24:42\n",
      "                 ...        \n",
      "364553   2015-01-01 10:22:31\n",
      "364554   2015-01-01 02:25:02\n",
      "364555   2015-01-01 00:20:33\n",
      "364556   2015-01-01 02:42:22\n",
      "364557   2015-01-01 02:47:50\n",
      "Name: Resolution Action Updated Date, Length: 362177, dtype: datetime64[ns]\n"
     ]
    }
   ],
   "source": [
    "service_request['Resolution Action Updated Date'] = pd.to_datetime(service_request['Resolution Action Updated Date'],errors='coerce')\n",
    "print(\"Resolution Action Updated Date:\",service_request['Resolution Action Updated Date'])\n"
   ]
  },
  {
   "cell_type": "code",
   "execution_count": null,
   "metadata": {},
   "outputs": [],
   "source": [
    "service_request['Closed Date'] = pd.to_datetime(service_request['Closed Date'],errors='coerce')\n",
    "print(\"Closed Date:\",service_request['Closed Date'])"
   ]
  },
  {
   "cell_type": "markdown",
   "metadata": {},
   "source": [
    "In the above we hve seen that the dtype object is converted into datetime64[ns], and the invalid entries is being replaced by NAT(not a time) value to easy access."
   ]
  },
  {
   "cell_type": "code",
   "execution_count": 73,
   "metadata": {},
   "outputs": [
    {
     "data": {
      "text/html": [
       "<div>\n",
       "<style scoped>\n",
       "    .dataframe tbody tr th:only-of-type {\n",
       "        vertical-align: middle;\n",
       "    }\n",
       "\n",
       "    .dataframe tbody tr th {\n",
       "        vertical-align: top;\n",
       "    }\n",
       "\n",
       "    .dataframe thead th {\n",
       "        text-align: right;\n",
       "    }\n",
       "</style>\n",
       "<table border=\"1\" class=\"dataframe\">\n",
       "  <thead>\n",
       "    <tr style=\"text-align: right;\">\n",
       "      <th></th>\n",
       "      <th>Unique Key</th>\n",
       "      <th>Created Date</th>\n",
       "      <th>Closed Date</th>\n",
       "      <th>Agency</th>\n",
       "      <th>Agency Name</th>\n",
       "      <th>Complaint Type</th>\n",
       "      <th>Descriptor</th>\n",
       "      <th>Location Type</th>\n",
       "      <th>Incident Zip</th>\n",
       "      <th>Incident Address</th>\n",
       "      <th>...</th>\n",
       "      <th>Road Ramp</th>\n",
       "      <th>Bridge Highway Segment</th>\n",
       "      <th>Garage Lot Name</th>\n",
       "      <th>Ferry Direction</th>\n",
       "      <th>Ferry Terminal Name</th>\n",
       "      <th>Latitude</th>\n",
       "      <th>Longitude</th>\n",
       "      <th>Location</th>\n",
       "      <th>time_elapsed</th>\n",
       "      <th>time_elapsed_seconds</th>\n",
       "    </tr>\n",
       "  </thead>\n",
       "  <tbody>\n",
       "    <tr>\n",
       "      <th>364553</th>\n",
       "      <td>29609918</td>\n",
       "      <td>2015-01-01 00:04:44</td>\n",
       "      <td>2015-01-01 10:22:31</td>\n",
       "      <td>NYPD</td>\n",
       "      <td>New York City Police Department</td>\n",
       "      <td>Illegal Parking</td>\n",
       "      <td>Blocked Hydrant</td>\n",
       "      <td>Street/Sidewalk</td>\n",
       "      <td>11421.0</td>\n",
       "      <td>84-25 85 ROAD</td>\n",
       "      <td>...</td>\n",
       "      <td>NaN</td>\n",
       "      <td>NaN</td>\n",
       "      <td>NaN</td>\n",
       "      <td>NaN</td>\n",
       "      <td>NaN</td>\n",
       "      <td>40.695145</td>\n",
       "      <td>-73.860949</td>\n",
       "      <td>(40.69514470265117, -73.86094888534394)</td>\n",
       "      <td>0 days 10:17:47</td>\n",
       "      <td>37067.0</td>\n",
       "    </tr>\n",
       "    <tr>\n",
       "      <th>364554</th>\n",
       "      <td>29608392</td>\n",
       "      <td>2015-01-01 00:04:28</td>\n",
       "      <td>2015-01-01 02:25:02</td>\n",
       "      <td>NYPD</td>\n",
       "      <td>New York City Police Department</td>\n",
       "      <td>Noise - Vehicle</td>\n",
       "      <td>Car/Truck Horn</td>\n",
       "      <td>Street/Sidewalk</td>\n",
       "      <td>10468.0</td>\n",
       "      <td>2555 SEDGWICK AVENUE</td>\n",
       "      <td>...</td>\n",
       "      <td>NaN</td>\n",
       "      <td>NaN</td>\n",
       "      <td>NaN</td>\n",
       "      <td>NaN</td>\n",
       "      <td>NaN</td>\n",
       "      <td>40.867830</td>\n",
       "      <td>-73.907178</td>\n",
       "      <td>(40.86782963689454, -73.90717786644662)</td>\n",
       "      <td>0 days 02:20:34</td>\n",
       "      <td>8434.0</td>\n",
       "    </tr>\n",
       "    <tr>\n",
       "      <th>364555</th>\n",
       "      <td>29607589</td>\n",
       "      <td>2015-01-01 00:01:30</td>\n",
       "      <td>2015-01-01 00:20:33</td>\n",
       "      <td>NYPD</td>\n",
       "      <td>New York City Police Department</td>\n",
       "      <td>Noise - Street/Sidewalk</td>\n",
       "      <td>Loud Music/Party</td>\n",
       "      <td>Street/Sidewalk</td>\n",
       "      <td>10031.0</td>\n",
       "      <td>508 WEST 139 STREET</td>\n",
       "      <td>...</td>\n",
       "      <td>NaN</td>\n",
       "      <td>NaN</td>\n",
       "      <td>NaN</td>\n",
       "      <td>NaN</td>\n",
       "      <td>NaN</td>\n",
       "      <td>40.821647</td>\n",
       "      <td>-73.950873</td>\n",
       "      <td>(40.821646626438095, -73.95087342885292)</td>\n",
       "      <td>0 days 00:19:03</td>\n",
       "      <td>1143.0</td>\n",
       "    </tr>\n",
       "    <tr>\n",
       "      <th>364556</th>\n",
       "      <td>29610889</td>\n",
       "      <td>2015-01-01 00:01:29</td>\n",
       "      <td>2015-01-01 02:42:22</td>\n",
       "      <td>NYPD</td>\n",
       "      <td>New York City Police Department</td>\n",
       "      <td>Blocked Driveway</td>\n",
       "      <td>No Access</td>\n",
       "      <td>Street/Sidewalk</td>\n",
       "      <td>10466.0</td>\n",
       "      <td>931 EAST 226 STREET</td>\n",
       "      <td>...</td>\n",
       "      <td>NaN</td>\n",
       "      <td>NaN</td>\n",
       "      <td>NaN</td>\n",
       "      <td>NaN</td>\n",
       "      <td>NaN</td>\n",
       "      <td>40.886361</td>\n",
       "      <td>-73.853290</td>\n",
       "      <td>(40.88636077906953, -73.85329048666742)</td>\n",
       "      <td>0 days 02:40:53</td>\n",
       "      <td>9653.0</td>\n",
       "    </tr>\n",
       "    <tr>\n",
       "      <th>364557</th>\n",
       "      <td>29611816</td>\n",
       "      <td>2015-01-01 00:00:50</td>\n",
       "      <td>2015-01-01 02:47:50</td>\n",
       "      <td>NYPD</td>\n",
       "      <td>New York City Police Department</td>\n",
       "      <td>Blocked Driveway</td>\n",
       "      <td>No Access</td>\n",
       "      <td>Street/Sidewalk</td>\n",
       "      <td>11420.0</td>\n",
       "      <td>123-19 135 STREET</td>\n",
       "      <td>...</td>\n",
       "      <td>NaN</td>\n",
       "      <td>NaN</td>\n",
       "      <td>NaN</td>\n",
       "      <td>NaN</td>\n",
       "      <td>NaN</td>\n",
       "      <td>40.674212</td>\n",
       "      <td>-73.803585</td>\n",
       "      <td>(40.674211762243935, -73.80358548685278)</td>\n",
       "      <td>0 days 02:47:00</td>\n",
       "      <td>10020.0</td>\n",
       "    </tr>\n",
       "  </tbody>\n",
       "</table>\n",
       "<p>5 rows × 55 columns</p>\n",
       "</div>"
      ],
      "text/plain": [
       "        Unique Key        Created Date         Closed Date Agency  \\\n",
       "364553    29609918 2015-01-01 00:04:44 2015-01-01 10:22:31   NYPD   \n",
       "364554    29608392 2015-01-01 00:04:28 2015-01-01 02:25:02   NYPD   \n",
       "364555    29607589 2015-01-01 00:01:30 2015-01-01 00:20:33   NYPD   \n",
       "364556    29610889 2015-01-01 00:01:29 2015-01-01 02:42:22   NYPD   \n",
       "364557    29611816 2015-01-01 00:00:50 2015-01-01 02:47:50   NYPD   \n",
       "\n",
       "                            Agency Name           Complaint Type  \\\n",
       "364553  New York City Police Department          Illegal Parking   \n",
       "364554  New York City Police Department          Noise - Vehicle   \n",
       "364555  New York City Police Department  Noise - Street/Sidewalk   \n",
       "364556  New York City Police Department         Blocked Driveway   \n",
       "364557  New York City Police Department         Blocked Driveway   \n",
       "\n",
       "              Descriptor    Location Type  Incident Zip      Incident Address  \\\n",
       "364553   Blocked Hydrant  Street/Sidewalk       11421.0         84-25 85 ROAD   \n",
       "364554    Car/Truck Horn  Street/Sidewalk       10468.0  2555 SEDGWICK AVENUE   \n",
       "364555  Loud Music/Party  Street/Sidewalk       10031.0   508 WEST 139 STREET   \n",
       "364556         No Access  Street/Sidewalk       10466.0   931 EAST 226 STREET   \n",
       "364557         No Access  Street/Sidewalk       11420.0     123-19 135 STREET   \n",
       "\n",
       "        ... Road Ramp Bridge Highway Segment Garage Lot Name Ferry Direction  \\\n",
       "364553  ...       NaN                    NaN             NaN             NaN   \n",
       "364554  ...       NaN                    NaN             NaN             NaN   \n",
       "364555  ...       NaN                    NaN             NaN             NaN   \n",
       "364556  ...       NaN                    NaN             NaN             NaN   \n",
       "364557  ...       NaN                    NaN             NaN             NaN   \n",
       "\n",
       "       Ferry Terminal Name   Latitude  Longitude  \\\n",
       "364553                 NaN  40.695145 -73.860949   \n",
       "364554                 NaN  40.867830 -73.907178   \n",
       "364555                 NaN  40.821647 -73.950873   \n",
       "364556                 NaN  40.886361 -73.853290   \n",
       "364557                 NaN  40.674212 -73.803585   \n",
       "\n",
       "                                        Location    time_elapsed  \\\n",
       "364553   (40.69514470265117, -73.86094888534394) 0 days 10:17:47   \n",
       "364554   (40.86782963689454, -73.90717786644662) 0 days 02:20:34   \n",
       "364555  (40.821646626438095, -73.95087342885292) 0 days 00:19:03   \n",
       "364556   (40.88636077906953, -73.85329048666742) 0 days 02:40:53   \n",
       "364557  (40.674211762243935, -73.80358548685278) 0 days 02:47:00   \n",
       "\n",
       "       time_elapsed_seconds  \n",
       "364553              37067.0  \n",
       "364554               8434.0  \n",
       "364555               1143.0  \n",
       "364556               9653.0  \n",
       "364557              10020.0  \n",
       "\n",
       "[5 rows x 55 columns]"
      ]
     },
     "execution_count": 73,
     "metadata": {},
     "output_type": "execute_result"
    }
   ],
   "source": [
    "service_request.tail()"
   ]
  },
  {
   "cell_type": "markdown",
   "metadata": {},
   "source": [
    "Let us find the invalid dates in the column created date, due date ,resolution action updated date,closed date.\n",
    "then remove the invalid entries."
   ]
  },
  {
   "cell_type": "code",
   "execution_count": 74,
   "metadata": {},
   "outputs": [
    {
     "name": "stdout",
     "output_type": "stream",
     "text": [
      "Number of invalid dates for creted dates: 0\n"
     ]
    }
   ],
   "source": [
    "invalid_dates_count_created_date = service_request['Created Date'].isnull().sum()\n",
    "print(f\"Number of invalid dates for creted dates: {invalid_dates_count_created_date}\")"
   ]
  },
  {
   "cell_type": "code",
   "execution_count": 75,
   "metadata": {},
   "outputs": [
    {
     "name": "stdout",
     "output_type": "stream",
     "text": [
      "Number of invalid dates for Due dates: 0\n"
     ]
    }
   ],
   "source": [
    "invalid_dates_count_due_date = service_request['Due Date'].isnull().sum()\n",
    "print(f\"Number of invalid dates for Due dates: {invalid_dates_count_due_date}\")"
   ]
  },
  {
   "cell_type": "code",
   "execution_count": 76,
   "metadata": {},
   "outputs": [
    {
     "name": "stdout",
     "output_type": "stream",
     "text": [
      "Number of invalid dates for ResolutionAction Updted dates : 0\n"
     ]
    }
   ],
   "source": [
    "invalid_dates_count_Updated_date = service_request['Resolution Action Updated Date'].isnull().sum()\n",
    "print(f\"Number of invalid dates for ResolutionAction Updted dates : {invalid_dates_count_Updated_date}\")"
   ]
  },
  {
   "cell_type": "code",
   "execution_count": 77,
   "metadata": {},
   "outputs": [
    {
     "name": "stdout",
     "output_type": "stream",
     "text": [
      "Number of invalid dates Closed dates: 0\n"
     ]
    }
   ],
   "source": [
    "invalid_dates_count_Closed_date = service_request['Closed Date'].isnull().sum()\n",
    "print(f\"Number of invalid dates Closed dates: {invalid_dates_count_Closed_date}\")"
   ]
  },
  {
   "cell_type": "code",
   "execution_count": 78,
   "metadata": {},
   "outputs": [
    {
     "data": {
      "text/plain": [
       "0"
      ]
     },
     "execution_count": 78,
     "metadata": {},
     "output_type": "execute_result"
    }
   ],
   "source": [
    "service_request['Resolution Action Updated Date'].isnull().sum()"
   ]
  },
  {
   "cell_type": "code",
   "execution_count": 79,
   "metadata": {},
   "outputs": [],
   "source": [
    "#Remove the entries that have incorrect timelines\n",
    "\n",
    "service_request = service_request.dropna(subset=['Resolution Action Updated Date','Due Date'],axis=0)\n"
   ]
  },
  {
   "cell_type": "code",
   "execution_count": 80,
   "metadata": {},
   "outputs": [
    {
     "data": {
      "text/plain": [
       "0"
      ]
     },
     "execution_count": 80,
     "metadata": {},
     "output_type": "execute_result"
    }
   ],
   "source": [
    "service_request['Resolution Action Updated Date'].isnull().sum()"
   ]
  },
  {
   "cell_type": "code",
   "execution_count": 81,
   "metadata": {},
   "outputs": [
    {
     "data": {
      "text/plain": [
       "0"
      ]
     },
     "execution_count": 81,
     "metadata": {},
     "output_type": "execute_result"
    }
   ],
   "source": [
    "service_request['Due Date'].isnull().sum()"
   ]
  },
  {
   "cell_type": "code",
   "execution_count": 82,
   "metadata": {},
   "outputs": [
    {
     "data": {
      "text/html": [
       "<div>\n",
       "<style scoped>\n",
       "    .dataframe tbody tr th:only-of-type {\n",
       "        vertical-align: middle;\n",
       "    }\n",
       "\n",
       "    .dataframe tbody tr th {\n",
       "        vertical-align: top;\n",
       "    }\n",
       "\n",
       "    .dataframe thead th {\n",
       "        text-align: right;\n",
       "    }\n",
       "</style>\n",
       "<table border=\"1\" class=\"dataframe\">\n",
       "  <thead>\n",
       "    <tr style=\"text-align: right;\">\n",
       "      <th></th>\n",
       "      <th>Unique Key</th>\n",
       "      <th>Created Date</th>\n",
       "      <th>Closed Date</th>\n",
       "      <th>Agency</th>\n",
       "      <th>Agency Name</th>\n",
       "      <th>Complaint Type</th>\n",
       "      <th>Descriptor</th>\n",
       "      <th>Location Type</th>\n",
       "      <th>Incident Zip</th>\n",
       "      <th>Incident Address</th>\n",
       "      <th>...</th>\n",
       "      <th>Road Ramp</th>\n",
       "      <th>Bridge Highway Segment</th>\n",
       "      <th>Garage Lot Name</th>\n",
       "      <th>Ferry Direction</th>\n",
       "      <th>Ferry Terminal Name</th>\n",
       "      <th>Latitude</th>\n",
       "      <th>Longitude</th>\n",
       "      <th>Location</th>\n",
       "      <th>time_elapsed</th>\n",
       "      <th>time_elapsed_seconds</th>\n",
       "    </tr>\n",
       "  </thead>\n",
       "  <tbody>\n",
       "    <tr>\n",
       "      <th>0</th>\n",
       "      <td>32310363</td>\n",
       "      <td>2015-12-31 23:59:45</td>\n",
       "      <td>2016-01-01 00:55:15</td>\n",
       "      <td>NYPD</td>\n",
       "      <td>New York City Police Department</td>\n",
       "      <td>Noise - Street/Sidewalk</td>\n",
       "      <td>Loud Music/Party</td>\n",
       "      <td>Street/Sidewalk</td>\n",
       "      <td>10034.0</td>\n",
       "      <td>71 VERMILYEA AVENUE</td>\n",
       "      <td>...</td>\n",
       "      <td>NaN</td>\n",
       "      <td>NaN</td>\n",
       "      <td>NaN</td>\n",
       "      <td>NaN</td>\n",
       "      <td>NaN</td>\n",
       "      <td>40.865682</td>\n",
       "      <td>-73.923501</td>\n",
       "      <td>(40.86568153633767, -73.92350095571744)</td>\n",
       "      <td>0 days 00:55:30</td>\n",
       "      <td>3330.0</td>\n",
       "    </tr>\n",
       "    <tr>\n",
       "      <th>1</th>\n",
       "      <td>32309934</td>\n",
       "      <td>2015-12-31 23:59:44</td>\n",
       "      <td>2016-01-01 01:26:57</td>\n",
       "      <td>NYPD</td>\n",
       "      <td>New York City Police Department</td>\n",
       "      <td>Blocked Driveway</td>\n",
       "      <td>No Access</td>\n",
       "      <td>Street/Sidewalk</td>\n",
       "      <td>11105.0</td>\n",
       "      <td>27-07 23 AVENUE</td>\n",
       "      <td>...</td>\n",
       "      <td>NaN</td>\n",
       "      <td>NaN</td>\n",
       "      <td>NaN</td>\n",
       "      <td>NaN</td>\n",
       "      <td>NaN</td>\n",
       "      <td>40.775945</td>\n",
       "      <td>-73.915094</td>\n",
       "      <td>(40.775945312321085, -73.91509393898605)</td>\n",
       "      <td>0 days 01:27:13</td>\n",
       "      <td>5233.0</td>\n",
       "    </tr>\n",
       "    <tr>\n",
       "      <th>2</th>\n",
       "      <td>32309159</td>\n",
       "      <td>2015-12-31 23:59:29</td>\n",
       "      <td>2016-01-01 04:51:03</td>\n",
       "      <td>NYPD</td>\n",
       "      <td>New York City Police Department</td>\n",
       "      <td>Blocked Driveway</td>\n",
       "      <td>No Access</td>\n",
       "      <td>Street/Sidewalk</td>\n",
       "      <td>10458.0</td>\n",
       "      <td>2897 VALENTINE AVENUE</td>\n",
       "      <td>...</td>\n",
       "      <td>NaN</td>\n",
       "      <td>NaN</td>\n",
       "      <td>NaN</td>\n",
       "      <td>NaN</td>\n",
       "      <td>NaN</td>\n",
       "      <td>40.870325</td>\n",
       "      <td>-73.888525</td>\n",
       "      <td>(40.870324522111424, -73.88852464418646)</td>\n",
       "      <td>0 days 04:51:34</td>\n",
       "      <td>17494.0</td>\n",
       "    </tr>\n",
       "    <tr>\n",
       "      <th>3</th>\n",
       "      <td>32305098</td>\n",
       "      <td>2015-12-31 23:57:46</td>\n",
       "      <td>2016-01-01 07:43:13</td>\n",
       "      <td>NYPD</td>\n",
       "      <td>New York City Police Department</td>\n",
       "      <td>Illegal Parking</td>\n",
       "      <td>Commercial Overnight Parking</td>\n",
       "      <td>Street/Sidewalk</td>\n",
       "      <td>10461.0</td>\n",
       "      <td>2940 BAISLEY AVENUE</td>\n",
       "      <td>...</td>\n",
       "      <td>NaN</td>\n",
       "      <td>NaN</td>\n",
       "      <td>NaN</td>\n",
       "      <td>NaN</td>\n",
       "      <td>NaN</td>\n",
       "      <td>40.835994</td>\n",
       "      <td>-73.828379</td>\n",
       "      <td>(40.83599404683083, -73.82837939584206)</td>\n",
       "      <td>0 days 07:45:27</td>\n",
       "      <td>27927.0</td>\n",
       "    </tr>\n",
       "    <tr>\n",
       "      <th>4</th>\n",
       "      <td>32306529</td>\n",
       "      <td>2015-12-31 23:56:58</td>\n",
       "      <td>2016-01-01 03:24:42</td>\n",
       "      <td>NYPD</td>\n",
       "      <td>New York City Police Department</td>\n",
       "      <td>Illegal Parking</td>\n",
       "      <td>Blocked Sidewalk</td>\n",
       "      <td>Street/Sidewalk</td>\n",
       "      <td>11373.0</td>\n",
       "      <td>87-14 57 ROAD</td>\n",
       "      <td>...</td>\n",
       "      <td>NaN</td>\n",
       "      <td>NaN</td>\n",
       "      <td>NaN</td>\n",
       "      <td>NaN</td>\n",
       "      <td>NaN</td>\n",
       "      <td>40.733060</td>\n",
       "      <td>-73.874170</td>\n",
       "      <td>(40.733059618956815, -73.87416975810375)</td>\n",
       "      <td>0 days 03:27:44</td>\n",
       "      <td>12464.0</td>\n",
       "    </tr>\n",
       "  </tbody>\n",
       "</table>\n",
       "<p>5 rows × 55 columns</p>\n",
       "</div>"
      ],
      "text/plain": [
       "   Unique Key        Created Date         Closed Date Agency  \\\n",
       "0    32310363 2015-12-31 23:59:45 2016-01-01 00:55:15   NYPD   \n",
       "1    32309934 2015-12-31 23:59:44 2016-01-01 01:26:57   NYPD   \n",
       "2    32309159 2015-12-31 23:59:29 2016-01-01 04:51:03   NYPD   \n",
       "3    32305098 2015-12-31 23:57:46 2016-01-01 07:43:13   NYPD   \n",
       "4    32306529 2015-12-31 23:56:58 2016-01-01 03:24:42   NYPD   \n",
       "\n",
       "                       Agency Name           Complaint Type  \\\n",
       "0  New York City Police Department  Noise - Street/Sidewalk   \n",
       "1  New York City Police Department         Blocked Driveway   \n",
       "2  New York City Police Department         Blocked Driveway   \n",
       "3  New York City Police Department          Illegal Parking   \n",
       "4  New York City Police Department          Illegal Parking   \n",
       "\n",
       "                     Descriptor    Location Type  Incident Zip  \\\n",
       "0              Loud Music/Party  Street/Sidewalk       10034.0   \n",
       "1                     No Access  Street/Sidewalk       11105.0   \n",
       "2                     No Access  Street/Sidewalk       10458.0   \n",
       "3  Commercial Overnight Parking  Street/Sidewalk       10461.0   \n",
       "4              Blocked Sidewalk  Street/Sidewalk       11373.0   \n",
       "\n",
       "        Incident Address  ... Road Ramp Bridge Highway Segment  \\\n",
       "0    71 VERMILYEA AVENUE  ...       NaN                    NaN   \n",
       "1        27-07 23 AVENUE  ...       NaN                    NaN   \n",
       "2  2897 VALENTINE AVENUE  ...       NaN                    NaN   \n",
       "3    2940 BAISLEY AVENUE  ...       NaN                    NaN   \n",
       "4          87-14 57 ROAD  ...       NaN                    NaN   \n",
       "\n",
       "  Garage Lot Name Ferry Direction Ferry Terminal Name   Latitude  Longitude  \\\n",
       "0             NaN             NaN                 NaN  40.865682 -73.923501   \n",
       "1             NaN             NaN                 NaN  40.775945 -73.915094   \n",
       "2             NaN             NaN                 NaN  40.870325 -73.888525   \n",
       "3             NaN             NaN                 NaN  40.835994 -73.828379   \n",
       "4             NaN             NaN                 NaN  40.733060 -73.874170   \n",
       "\n",
       "                                   Location    time_elapsed  \\\n",
       "0   (40.86568153633767, -73.92350095571744) 0 days 00:55:30   \n",
       "1  (40.775945312321085, -73.91509393898605) 0 days 01:27:13   \n",
       "2  (40.870324522111424, -73.88852464418646) 0 days 04:51:34   \n",
       "3   (40.83599404683083, -73.82837939584206) 0 days 07:45:27   \n",
       "4  (40.733059618956815, -73.87416975810375) 0 days 03:27:44   \n",
       "\n",
       "  time_elapsed_seconds  \n",
       "0               3330.0  \n",
       "1               5233.0  \n",
       "2              17494.0  \n",
       "3              27927.0  \n",
       "4              12464.0  \n",
       "\n",
       "[5 rows x 55 columns]"
      ]
     },
     "execution_count": 82,
     "metadata": {},
     "output_type": "execute_result"
    }
   ],
   "source": [
    "#Calculate the time elapsed in closed and creation date.\n",
    "#Convert the calculated date to seconds to get a better representation.\n",
    "\n",
    "service_request['time_elapsed'] = service_request['Closed Date'] - service_request['Created Date']\n",
    "\n",
    "service_request.shape\n",
    "service_request.head()"
   ]
  },
  {
   "cell_type": "markdown",
   "metadata": {},
   "source": [
    "In the above time elapse hs been calculated by finding the difference in the \"close date\" and \"created date\"\n",
    "column and added a new column \"time elapsed\""
   ]
  },
  {
   "cell_type": "code",
   "execution_count": 83,
   "metadata": {},
   "outputs": [
    {
     "name": "stdout",
     "output_type": "stream",
     "text": [
      "               Closed Date        Created Date    time_elapsed  \\\n",
      "0      2016-01-01 00:55:15 2015-12-31 23:59:45 0 days 00:55:30   \n",
      "1      2016-01-01 01:26:57 2015-12-31 23:59:44 0 days 01:27:13   \n",
      "2      2016-01-01 04:51:03 2015-12-31 23:59:29 0 days 04:51:34   \n",
      "3      2016-01-01 07:43:13 2015-12-31 23:57:46 0 days 07:45:27   \n",
      "4      2016-01-01 03:24:42 2015-12-31 23:56:58 0 days 03:27:44   \n",
      "...                    ...                 ...             ...   \n",
      "364553 2015-01-01 10:22:31 2015-01-01 00:04:44 0 days 10:17:47   \n",
      "364554 2015-01-01 02:25:02 2015-01-01 00:04:28 0 days 02:20:34   \n",
      "364555 2015-01-01 00:20:33 2015-01-01 00:01:30 0 days 00:19:03   \n",
      "364556 2015-01-01 02:42:22 2015-01-01 00:01:29 0 days 02:40:53   \n",
      "364557 2015-01-01 02:47:50 2015-01-01 00:00:50 0 days 02:47:00   \n",
      "\n",
      "        time_elapsed_seconds  \n",
      "0                     3330.0  \n",
      "1                     5233.0  \n",
      "2                    17494.0  \n",
      "3                    27927.0  \n",
      "4                    12464.0  \n",
      "...                      ...  \n",
      "364553               37067.0  \n",
      "364554                8434.0  \n",
      "364555                1143.0  \n",
      "364556                9653.0  \n",
      "364557               10020.0  \n",
      "\n",
      "[362138 rows x 4 columns]\n"
     ]
    }
   ],
   "source": [
    "# Convert the time_elapsed to seconds for better representation\n",
    "service_request['time_elapsed_seconds'] = service_request['time_elapsed'].dt.total_seconds()\n",
    "\n",
    "print(service_request[['Closed Date', 'Created Date', 'time_elapsed', 'time_elapsed_seconds']])"
   ]
  },
  {
   "cell_type": "code",
   "execution_count": 84,
   "metadata": {},
   "outputs": [
    {
     "data": {
      "text/plain": [
       "(362138, 55)"
      ]
     },
     "execution_count": 84,
     "metadata": {},
     "output_type": "execute_result"
    }
   ],
   "source": [
    "service_request.shape"
   ]
  },
  {
   "cell_type": "code",
   "execution_count": 85,
   "metadata": {},
   "outputs": [
    {
     "data": {
      "text/plain": [
       "Unique Key                                  int64\n",
       "Created Date                       datetime64[ns]\n",
       "Closed Date                        datetime64[ns]\n",
       "Agency                                     object\n",
       "Agency Name                                object\n",
       "Complaint Type                             object\n",
       "Descriptor                                 object\n",
       "Location Type                              object\n",
       "Incident Zip                              float64\n",
       "Incident Address                           object\n",
       "Street Name                                object\n",
       "Cross Street 1                             object\n",
       "Cross Street 2                             object\n",
       "Intersection Street 1                      object\n",
       "Intersection Street 2                      object\n",
       "Address Type                               object\n",
       "City                                       object\n",
       "Landmark                                   object\n",
       "Facility Type                              object\n",
       "Status                                     object\n",
       "Due Date                           datetime64[ns]\n",
       "Resolution Description                     object\n",
       "Resolution Action Updated Date     datetime64[ns]\n",
       "Community Board                            object\n",
       "Borough                                    object\n",
       "X Coordinate (State Plane)                float64\n",
       "Y Coordinate (State Plane)                float64\n",
       "Park Facility Name                         object\n",
       "Park Borough                               object\n",
       "School Name                                object\n",
       "School Number                              object\n",
       "School Region                              object\n",
       "School Code                                object\n",
       "School Phone Number                        object\n",
       "School Address                             object\n",
       "School City                                object\n",
       "School State                               object\n",
       "School Zip                                 object\n",
       "School Not Found                           object\n",
       "School or Citywide Complaint              float64\n",
       "Vehicle Type                              float64\n",
       "Taxi Company Borough                      float64\n",
       "Taxi Pick Up Location                     float64\n",
       "Bridge Highway Name                        object\n",
       "Bridge Highway Direction                   object\n",
       "Road Ramp                                  object\n",
       "Bridge Highway Segment                     object\n",
       "Garage Lot Name                           float64\n",
       "Ferry Direction                            object\n",
       "Ferry Terminal Name                        object\n",
       "Latitude                                  float64\n",
       "Longitude                                 float64\n",
       "Location                                   object\n",
       "time_elapsed                      timedelta64[ns]\n",
       "time_elapsed_seconds                      float64\n",
       "dtype: object"
      ]
     },
     "execution_count": 85,
     "metadata": {},
     "output_type": "execute_result"
    }
   ],
   "source": [
    "service_request.dtypes"
   ]
  },
  {
   "cell_type": "markdown",
   "metadata": {},
   "source": [
    "## View the descriptive statistics for the newly created columns.i.e. time_elapsed, time_elapsed_seconds."
   ]
  },
  {
   "cell_type": "code",
   "execution_count": 36,
   "metadata": {},
   "outputs": [
    {
     "name": "stdout",
     "output_type": "stream",
     "text": [
      "                    time_elapsed  time_elapsed_seconds\n",
      "count                     362138          3.621380e+05\n",
      "mean   0 days 04:11:53.463779001          1.511346e+04\n",
      "std    0 days 05:51:43.422780424          2.110342e+04\n",
      "min              0 days 00:01:01          6.100000e+01\n",
      "25%              0 days 01:15:33          4.533000e+03\n",
      "50%              0 days 02:40:16          9.616000e+03\n",
      "75%              0 days 05:14:37          1.887700e+04\n",
      "max             24 days 16:52:22          2.134342e+06\n"
     ]
    }
   ],
   "source": [
    " print(service_request[['time_elapsed','time_elapsed_seconds']].describe())"
   ]
  },
  {
   "cell_type": "markdown",
   "metadata": {},
   "source": [
    "Let us see grphically the time_elapsed and time_elapsed_second"
   ]
  },
  {
   "cell_type": "code",
   "execution_count": 37,
   "metadata": {},
   "outputs": [
    {
     "data": {
      "image/png": "[encoded data removed]",
      "text/plain": [
       "<Figure size 864x504 with 1 Axes>"
      ]
     },
     "metadata": {},
     "output_type": "display_data"
    }
   ],
   "source": [
    "# descriptive statistics for resolving time from closed and create date(time_elapsed column)\n",
    "plt.figure(figsize=(12,7))\n",
    "service_request['time_elapsed'].value_counts().plot(kind='hist',x='time_elapsed',alpha=0.7,title=\"Resolving Time for complaints\")\n",
    "plt.show()"
   ]
  },
  {
   "cell_type": "code",
   "execution_count": 38,
   "metadata": {},
   "outputs": [
    {
     "data": {
      "image/png": "[encoded data removed]",
      "text/plain": [
       "<Figure size 864x504 with 1 Axes>"
      ]
     },
     "metadata": {},
     "output_type": "display_data"
    }
   ],
   "source": [
    "# descriptive statistics for resolving time from closed and create date(time_elapsed_seconds column)\n",
    "plt.figure(figsize=(12,7))\n",
    "service_request['time_elapsed_seconds'].value_counts().plot(kind='hist', x='time_elapsed_seconds',alpha=0.7,title=\"Resolving Time for complaints in seconds\")\n",
    "plt.show()"
   ]
  },
  {
   "cell_type": "code",
   "execution_count": 39,
   "metadata": {},
   "outputs": [
    {
     "data": {
      "text/plain": [
       "<function matplotlib.pyplot.show(close=None, block=None)>"
      ]
     },
     "execution_count": 39,
     "metadata": {},
     "output_type": "execute_result"
    },
    {
     "data": {
      "image/png": "[encoded data removed]",
      "text/plain": [
       "<Figure size 864x504 with 1 Axes>"
      ]
     },
     "metadata": {},
     "output_type": "display_data"
    }
   ],
   "source": [
    "# Alternatively  resolving time for complaints type\n",
    "sns.distplot(service_request[\"time_elapsed_seconds\"])\n",
    "\n",
    "plt.show"
   ]
  },
  {
   "cell_type": "code",
   "execution_count": 40,
   "metadata": {},
   "outputs": [
    {
     "data": {
      "image/png": "[encoded data removed]",
      "text/plain": [
       "<Figure size 864x504 with 1 Axes>"
      ]
     },
     "metadata": {},
     "output_type": "display_data"
    }
   ],
   "source": [
    "sns.distplot(service_request[\"time_elapsed\"])\n",
    "plt.show()"
   ]
  },
  {
   "cell_type": "code",
   "execution_count": 41,
   "metadata": {},
   "outputs": [
    {
     "data": {
      "text/html": [
       "<div>\n",
       "<style scoped>\n",
       "    .dataframe tbody tr th:only-of-type {\n",
       "        vertical-align: middle;\n",
       "    }\n",
       "\n",
       "    .dataframe tbody tr th {\n",
       "        vertical-align: top;\n",
       "    }\n",
       "\n",
       "    .dataframe thead th {\n",
       "        text-align: right;\n",
       "    }\n",
       "</style>\n",
       "<table border=\"1\" class=\"dataframe\">\n",
       "  <thead>\n",
       "    <tr style=\"text-align: right;\">\n",
       "      <th></th>\n",
       "      <th>Unique Key</th>\n",
       "      <th>Created Date</th>\n",
       "      <th>Closed Date</th>\n",
       "      <th>Agency</th>\n",
       "      <th>Agency Name</th>\n",
       "      <th>Complaint Type</th>\n",
       "      <th>Descriptor</th>\n",
       "      <th>Location Type</th>\n",
       "      <th>Incident Zip</th>\n",
       "      <th>Incident Address</th>\n",
       "      <th>...</th>\n",
       "      <th>Road Ramp</th>\n",
       "      <th>Bridge Highway Segment</th>\n",
       "      <th>Garage Lot Name</th>\n",
       "      <th>Ferry Direction</th>\n",
       "      <th>Ferry Terminal Name</th>\n",
       "      <th>Latitude</th>\n",
       "      <th>Longitude</th>\n",
       "      <th>Location</th>\n",
       "      <th>time_elapsed</th>\n",
       "      <th>time_elapsed_seconds</th>\n",
       "    </tr>\n",
       "  </thead>\n",
       "  <tbody>\n",
       "    <tr>\n",
       "      <th>0</th>\n",
       "      <td>32310363</td>\n",
       "      <td>2015-12-31 23:59:45</td>\n",
       "      <td>2016-01-01 00:55:15</td>\n",
       "      <td>NYPD</td>\n",
       "      <td>New York City Police Department</td>\n",
       "      <td>Noise - Street/Sidewalk</td>\n",
       "      <td>Loud Music/Party</td>\n",
       "      <td>Street/Sidewalk</td>\n",
       "      <td>10034.0</td>\n",
       "      <td>71 VERMILYEA AVENUE</td>\n",
       "      <td>...</td>\n",
       "      <td>NaN</td>\n",
       "      <td>NaN</td>\n",
       "      <td>NaN</td>\n",
       "      <td>NaN</td>\n",
       "      <td>NaN</td>\n",
       "      <td>40.865682</td>\n",
       "      <td>-73.923501</td>\n",
       "      <td>(40.86568153633767, -73.92350095571744)</td>\n",
       "      <td>0 days 00:55:30</td>\n",
       "      <td>3330.0</td>\n",
       "    </tr>\n",
       "    <tr>\n",
       "      <th>1</th>\n",
       "      <td>32309934</td>\n",
       "      <td>2015-12-31 23:59:44</td>\n",
       "      <td>2016-01-01 01:26:57</td>\n",
       "      <td>NYPD</td>\n",
       "      <td>New York City Police Department</td>\n",
       "      <td>Blocked Driveway</td>\n",
       "      <td>No Access</td>\n",
       "      <td>Street/Sidewalk</td>\n",
       "      <td>11105.0</td>\n",
       "      <td>27-07 23 AVENUE</td>\n",
       "      <td>...</td>\n",
       "      <td>NaN</td>\n",
       "      <td>NaN</td>\n",
       "      <td>NaN</td>\n",
       "      <td>NaN</td>\n",
       "      <td>NaN</td>\n",
       "      <td>40.775945</td>\n",
       "      <td>-73.915094</td>\n",
       "      <td>(40.775945312321085, -73.91509393898605)</td>\n",
       "      <td>0 days 01:27:13</td>\n",
       "      <td>5233.0</td>\n",
       "    </tr>\n",
       "    <tr>\n",
       "      <th>2</th>\n",
       "      <td>32309159</td>\n",
       "      <td>2015-12-31 23:59:29</td>\n",
       "      <td>2016-01-01 04:51:03</td>\n",
       "      <td>NYPD</td>\n",
       "      <td>New York City Police Department</td>\n",
       "      <td>Blocked Driveway</td>\n",
       "      <td>No Access</td>\n",
       "      <td>Street/Sidewalk</td>\n",
       "      <td>10458.0</td>\n",
       "      <td>2897 VALENTINE AVENUE</td>\n",
       "      <td>...</td>\n",
       "      <td>NaN</td>\n",
       "      <td>NaN</td>\n",
       "      <td>NaN</td>\n",
       "      <td>NaN</td>\n",
       "      <td>NaN</td>\n",
       "      <td>40.870325</td>\n",
       "      <td>-73.888525</td>\n",
       "      <td>(40.870324522111424, -73.88852464418646)</td>\n",
       "      <td>0 days 04:51:34</td>\n",
       "      <td>17494.0</td>\n",
       "    </tr>\n",
       "    <tr>\n",
       "      <th>3</th>\n",
       "      <td>32305098</td>\n",
       "      <td>2015-12-31 23:57:46</td>\n",
       "      <td>2016-01-01 07:43:13</td>\n",
       "      <td>NYPD</td>\n",
       "      <td>New York City Police Department</td>\n",
       "      <td>Illegal Parking</td>\n",
       "      <td>Commercial Overnight Parking</td>\n",
       "      <td>Street/Sidewalk</td>\n",
       "      <td>10461.0</td>\n",
       "      <td>2940 BAISLEY AVENUE</td>\n",
       "      <td>...</td>\n",
       "      <td>NaN</td>\n",
       "      <td>NaN</td>\n",
       "      <td>NaN</td>\n",
       "      <td>NaN</td>\n",
       "      <td>NaN</td>\n",
       "      <td>40.835994</td>\n",
       "      <td>-73.828379</td>\n",
       "      <td>(40.83599404683083, -73.82837939584206)</td>\n",
       "      <td>0 days 07:45:27</td>\n",
       "      <td>27927.0</td>\n",
       "    </tr>\n",
       "    <tr>\n",
       "      <th>4</th>\n",
       "      <td>32306529</td>\n",
       "      <td>2015-12-31 23:56:58</td>\n",
       "      <td>2016-01-01 03:24:42</td>\n",
       "      <td>NYPD</td>\n",
       "      <td>New York City Police Department</td>\n",
       "      <td>Illegal Parking</td>\n",
       "      <td>Blocked Sidewalk</td>\n",
       "      <td>Street/Sidewalk</td>\n",
       "      <td>11373.0</td>\n",
       "      <td>87-14 57 ROAD</td>\n",
       "      <td>...</td>\n",
       "      <td>NaN</td>\n",
       "      <td>NaN</td>\n",
       "      <td>NaN</td>\n",
       "      <td>NaN</td>\n",
       "      <td>NaN</td>\n",
       "      <td>40.733060</td>\n",
       "      <td>-73.874170</td>\n",
       "      <td>(40.733059618956815, -73.87416975810375)</td>\n",
       "      <td>0 days 03:27:44</td>\n",
       "      <td>12464.0</td>\n",
       "    </tr>\n",
       "  </tbody>\n",
       "</table>\n",
       "<p>5 rows × 55 columns</p>\n",
       "</div>"
      ],
      "text/plain": [
       "   Unique Key        Created Date         Closed Date Agency  \\\n",
       "0    32310363 2015-12-31 23:59:45 2016-01-01 00:55:15   NYPD   \n",
       "1    32309934 2015-12-31 23:59:44 2016-01-01 01:26:57   NYPD   \n",
       "2    32309159 2015-12-31 23:59:29 2016-01-01 04:51:03   NYPD   \n",
       "3    32305098 2015-12-31 23:57:46 2016-01-01 07:43:13   NYPD   \n",
       "4    32306529 2015-12-31 23:56:58 2016-01-01 03:24:42   NYPD   \n",
       "\n",
       "                       Agency Name           Complaint Type  \\\n",
       "0  New York City Police Department  Noise - Street/Sidewalk   \n",
       "1  New York City Police Department         Blocked Driveway   \n",
       "2  New York City Police Department         Blocked Driveway   \n",
       "3  New York City Police Department          Illegal Parking   \n",
       "4  New York City Police Department          Illegal Parking   \n",
       "\n",
       "                     Descriptor    Location Type  Incident Zip  \\\n",
       "0              Loud Music/Party  Street/Sidewalk       10034.0   \n",
       "1                     No Access  Street/Sidewalk       11105.0   \n",
       "2                     No Access  Street/Sidewalk       10458.0   \n",
       "3  Commercial Overnight Parking  Street/Sidewalk       10461.0   \n",
       "4              Blocked Sidewalk  Street/Sidewalk       11373.0   \n",
       "\n",
       "        Incident Address  ... Road Ramp Bridge Highway Segment  \\\n",
       "0    71 VERMILYEA AVENUE  ...       NaN                    NaN   \n",
       "1        27-07 23 AVENUE  ...       NaN                    NaN   \n",
       "2  2897 VALENTINE AVENUE  ...       NaN                    NaN   \n",
       "3    2940 BAISLEY AVENUE  ...       NaN                    NaN   \n",
       "4          87-14 57 ROAD  ...       NaN                    NaN   \n",
       "\n",
       "  Garage Lot Name Ferry Direction Ferry Terminal Name   Latitude  Longitude  \\\n",
       "0             NaN             NaN                 NaN  40.865682 -73.923501   \n",
       "1             NaN             NaN                 NaN  40.775945 -73.915094   \n",
       "2             NaN             NaN                 NaN  40.870325 -73.888525   \n",
       "3             NaN             NaN                 NaN  40.835994 -73.828379   \n",
       "4             NaN             NaN                 NaN  40.733060 -73.874170   \n",
       "\n",
       "                                   Location    time_elapsed  \\\n",
       "0   (40.86568153633767, -73.92350095571744) 0 days 00:55:30   \n",
       "1  (40.775945312321085, -73.91509393898605) 0 days 01:27:13   \n",
       "2  (40.870324522111424, -73.88852464418646) 0 days 04:51:34   \n",
       "3   (40.83599404683083, -73.82837939584206) 0 days 07:45:27   \n",
       "4  (40.733059618956815, -73.87416975810375) 0 days 03:27:44   \n",
       "\n",
       "  time_elapsed_seconds  \n",
       "0               3330.0  \n",
       "1               5233.0  \n",
       "2              17494.0  \n",
       "3              27927.0  \n",
       "4              12464.0  \n",
       "\n",
       "[5 rows x 55 columns]"
      ]
     },
     "execution_count": 41,
     "metadata": {},
     "output_type": "execute_result"
    }
   ],
   "source": [
    " service_request.head()"
   ]
  },
  {
   "cell_type": "markdown",
   "metadata": {},
   "source": [
    "## Check the number of null values in the complaint_type and city columns"
   ]
  },
  {
   "cell_type": "code",
   "execution_count": 42,
   "metadata": {},
   "outputs": [
    {
     "name": "stdout",
     "output_type": "stream",
     "text": [
      "Number of null values in 'Complaint_Type': 0\n",
      "Number of null values in 'City': 674\n"
     ]
    }
   ],
   "source": [
    "null_complaint_type = service_request['Complaint Type'].isnull().sum()\n",
    "null_city = service_request['City'].isnull().sum()\n",
    "\n",
    "print(f\"Number of null values in 'Complaint_Type': {null_complaint_type}\")\n",
    "print(f\"Number of null values in 'City': {null_city}\")\n",
    "\n"
   ]
  },
  {
   "cell_type": "code",
   "execution_count": 43,
   "metadata": {},
   "outputs": [],
   "source": [
    "# Impute the NA value in the 'City' column with 'Unknown City'\n",
    "service_request['City'].fillna('Unknown City', inplace=True)\n",
    "\n"
   ]
  },
  {
   "cell_type": "code",
   "execution_count": 44,
   "metadata": {},
   "outputs": [
    {
     "data": {
      "text/plain": [
       "array(['NEW YORK', 'ASTORIA', 'BRONX', 'ELMHURST', 'BROOKLYN',\n",
       "       'KEW GARDENS', 'JACKSON HEIGHTS', 'MIDDLE VILLAGE', 'REGO PARK',\n",
       "       'SAINT ALBANS', 'JAMAICA', 'SOUTH RICHMOND HILL', 'Unknown City',\n",
       "       'RIDGEWOOD', 'HOWARD BEACH', 'FOREST HILLS', 'STATEN ISLAND',\n",
       "       'OZONE PARK', 'RICHMOND HILL', 'WOODHAVEN', 'FLUSHING', 'CORONA',\n",
       "       'QUEENS VILLAGE', 'OAKLAND GARDENS', 'HOLLIS', 'MASPETH',\n",
       "       'EAST ELMHURST', 'SOUTH OZONE PARK', 'WOODSIDE', 'FRESH MEADOWS',\n",
       "       'LONG ISLAND CITY', 'ROCKAWAY PARK', 'SPRINGFIELD GARDENS',\n",
       "       'COLLEGE POINT', 'BAYSIDE', 'GLEN OAKS', 'FAR ROCKAWAY',\n",
       "       'BELLEROSE', 'LITTLE NECK', 'CAMBRIA HEIGHTS', 'ROSEDALE',\n",
       "       'SUNNYSIDE', 'WHITESTONE', 'ARVERNE', 'FLORAL PARK',\n",
       "       'NEW HYDE PARK', 'CENTRAL PARK', 'BREEZY POINT', 'QUEENS',\n",
       "       'Astoria', 'Long Island City', 'Woodside', 'East Elmhurst',\n",
       "       'Howard Beach'], dtype=object)"
      ]
     },
     "execution_count": 44,
     "metadata": {},
     "output_type": "execute_result"
    }
   ],
   "source": [
    "service_request[\"City\"].unique()\n",
    "\n"
   ]
  },
  {
   "cell_type": "code",
   "execution_count": 45,
   "metadata": {},
   "outputs": [
    {
     "data": {
      "text/plain": [
       "54"
      ]
     },
     "execution_count": 45,
     "metadata": {},
     "output_type": "execute_result"
    }
   ],
   "source": [
    "service_request[\"City\"].nunique()"
   ]
  },
  {
   "cell_type": "code",
   "execution_count": 46,
   "metadata": {},
   "outputs": [
    {
     "name": "stdout",
     "output_type": "stream",
     "text": [
      "Number of null values after imputation: 0\n"
     ]
    }
   ],
   "source": [
    "# Optionally, you can verify the imputation by checking the null values again\n",
    "imputed_null_city = service_request['City'].isnull().sum()\n",
    "print(f\"Number of null values after imputation: {imputed_null_city}\")"
   ]
  },
  {
   "cell_type": "code",
   "execution_count": 47,
   "metadata": {},
   "outputs": [
    {
     "data": {
      "text/plain": [
       "Unique Key                             0\n",
       "Created Date                           0\n",
       "Closed Date                            0\n",
       "Agency                                 0\n",
       "Agency Name                            0\n",
       "Complaint Type                         0\n",
       "Descriptor                          6494\n",
       "Location Type                         93\n",
       "Incident Zip                         675\n",
       "Incident Address                   51679\n",
       "Street Name                        51679\n",
       "Cross Street 1                     55324\n",
       "Cross Street 2                     55457\n",
       "Intersection Street 1             311517\n",
       "Intersection Street 2             311641\n",
       "Address Type                         929\n",
       "City                                   0\n",
       "Landmark                          361763\n",
       "Facility Type                         17\n",
       "Status                                 0\n",
       "Due Date                               0\n",
       "Resolution Description                 0\n",
       "Resolution Action Updated Date         0\n",
       "Community Board                        0\n",
       "Borough                                0\n",
       "X Coordinate (State Plane)          1707\n",
       "Y Coordinate (State Plane)          1707\n",
       "Park Facility Name                     0\n",
       "Park Borough                           0\n",
       "School Name                            0\n",
       "School Number                          0\n",
       "School Region                          1\n",
       "School Code                            1\n",
       "School Phone Number                    0\n",
       "School Address                         0\n",
       "School City                            0\n",
       "School State                           0\n",
       "School Zip                             1\n",
       "School Not Found                       0\n",
       "School or Citywide Complaint      362138\n",
       "Vehicle Type                      362138\n",
       "Taxi Company Borough              362138\n",
       "Taxi Pick Up Location             362138\n",
       "Bridge Highway Name               361841\n",
       "Bridge Highway Direction          361841\n",
       "Road Ramp                         361876\n",
       "Bridge Highway Segment            361876\n",
       "Garage Lot Name                   362138\n",
       "Ferry Direction                   362138\n",
       "Ferry Terminal Name               362138\n",
       "Latitude                            1707\n",
       "Longitude                           1707\n",
       "Location                            1707\n",
       "time_elapsed                           0\n",
       "time_elapsed_seconds                   0\n",
       "dtype: int64"
      ]
     },
     "execution_count": 47,
     "metadata": {},
     "output_type": "execute_result"
    }
   ],
   "source": [
    "service_request.isna().sum(axis=0)\n"
   ]
  },
  {
   "cell_type": "code",
   "execution_count": 48,
   "metadata": {},
   "outputs": [
    {
     "data": {
      "text/plain": [
       "Unique Key                                  int64\n",
       "Created Date                       datetime64[ns]\n",
       "Closed Date                        datetime64[ns]\n",
       "Agency                                     object\n",
       "Agency Name                                object\n",
       "Complaint Type                             object\n",
       "Descriptor                                 object\n",
       "Location Type                              object\n",
       "Incident Zip                              float64\n",
       "Incident Address                           object\n",
       "Street Name                                object\n",
       "Cross Street 1                             object\n",
       "Cross Street 2                             object\n",
       "Intersection Street 1                      object\n",
       "Intersection Street 2                      object\n",
       "Address Type                               object\n",
       "City                                       object\n",
       "Landmark                                   object\n",
       "Facility Type                              object\n",
       "Status                                     object\n",
       "Due Date                           datetime64[ns]\n",
       "Resolution Description                     object\n",
       "Resolution Action Updated Date     datetime64[ns]\n",
       "Community Board                            object\n",
       "Borough                                    object\n",
       "X Coordinate (State Plane)                float64\n",
       "Y Coordinate (State Plane)                float64\n",
       "Park Facility Name                         object\n",
       "Park Borough                               object\n",
       "School Name                                object\n",
       "School Number                              object\n",
       "School Region                              object\n",
       "School Code                                object\n",
       "School Phone Number                        object\n",
       "School Address                             object\n",
       "School City                                object\n",
       "School State                               object\n",
       "School Zip                                 object\n",
       "School Not Found                           object\n",
       "School or Citywide Complaint              float64\n",
       "Vehicle Type                              float64\n",
       "Taxi Company Borough                      float64\n",
       "Taxi Pick Up Location                     float64\n",
       "Bridge Highway Name                        object\n",
       "Bridge Highway Direction                   object\n",
       "Road Ramp                                  object\n",
       "Bridge Highway Segment                     object\n",
       "Garage Lot Name                           float64\n",
       "Ferry Direction                            object\n",
       "Ferry Terminal Name                        object\n",
       "Latitude                                  float64\n",
       "Longitude                                 float64\n",
       "Location                                   object\n",
       "time_elapsed                      timedelta64[ns]\n",
       "time_elapsed_seconds                      float64\n",
       "dtype: object"
      ]
     },
     "execution_count": 48,
     "metadata": {},
     "output_type": "execute_result"
    }
   ],
   "source": [
    "service_request.dtypes"
   ]
  },
  {
   "cell_type": "code",
   "execution_count": 49,
   "metadata": {},
   "outputs": [
    {
     "data": {
      "text/html": [
       "<div>\n",
       "<style scoped>\n",
       "    .dataframe tbody tr th:only-of-type {\n",
       "        vertical-align: middle;\n",
       "    }\n",
       "\n",
       "    .dataframe tbody tr th {\n",
       "        vertical-align: top;\n",
       "    }\n",
       "\n",
       "    .dataframe thead th {\n",
       "        text-align: right;\n",
       "    }\n",
       "</style>\n",
       "<table border=\"1\" class=\"dataframe\">\n",
       "  <thead>\n",
       "    <tr style=\"text-align: right;\">\n",
       "      <th></th>\n",
       "      <th>Complaint Type</th>\n",
       "      <th>City</th>\n",
       "    </tr>\n",
       "  </thead>\n",
       "  <tbody>\n",
       "    <tr>\n",
       "      <th>0</th>\n",
       "      <td>Noise - Street/Sidewalk</td>\n",
       "      <td>NEW YORK</td>\n",
       "    </tr>\n",
       "    <tr>\n",
       "      <th>1</th>\n",
       "      <td>Blocked Driveway</td>\n",
       "      <td>ASTORIA</td>\n",
       "    </tr>\n",
       "    <tr>\n",
       "      <th>2</th>\n",
       "      <td>Blocked Driveway</td>\n",
       "      <td>BRONX</td>\n",
       "    </tr>\n",
       "    <tr>\n",
       "      <th>3</th>\n",
       "      <td>Illegal Parking</td>\n",
       "      <td>BRONX</td>\n",
       "    </tr>\n",
       "    <tr>\n",
       "      <th>4</th>\n",
       "      <td>Illegal Parking</td>\n",
       "      <td>ELMHURST</td>\n",
       "    </tr>\n",
       "    <tr>\n",
       "      <th>...</th>\n",
       "      <td>...</td>\n",
       "      <td>...</td>\n",
       "    </tr>\n",
       "    <tr>\n",
       "      <th>364553</th>\n",
       "      <td>Illegal Parking</td>\n",
       "      <td>WOODHAVEN</td>\n",
       "    </tr>\n",
       "    <tr>\n",
       "      <th>364554</th>\n",
       "      <td>Noise - Vehicle</td>\n",
       "      <td>BRONX</td>\n",
       "    </tr>\n",
       "    <tr>\n",
       "      <th>364555</th>\n",
       "      <td>Noise - Street/Sidewalk</td>\n",
       "      <td>NEW YORK</td>\n",
       "    </tr>\n",
       "    <tr>\n",
       "      <th>364556</th>\n",
       "      <td>Blocked Driveway</td>\n",
       "      <td>BRONX</td>\n",
       "    </tr>\n",
       "    <tr>\n",
       "      <th>364557</th>\n",
       "      <td>Blocked Driveway</td>\n",
       "      <td>SOUTH OZONE PARK</td>\n",
       "    </tr>\n",
       "  </tbody>\n",
       "</table>\n",
       "<p>362138 rows × 2 columns</p>\n",
       "</div>"
      ],
      "text/plain": [
       "                 Complaint Type              City\n",
       "0       Noise - Street/Sidewalk          NEW YORK\n",
       "1              Blocked Driveway           ASTORIA\n",
       "2              Blocked Driveway             BRONX\n",
       "3               Illegal Parking             BRONX\n",
       "4               Illegal Parking          ELMHURST\n",
       "...                         ...               ...\n",
       "364553          Illegal Parking         WOODHAVEN\n",
       "364554          Noise - Vehicle             BRONX\n",
       "364555  Noise - Street/Sidewalk          NEW YORK\n",
       "364556         Blocked Driveway             BRONX\n",
       "364557         Blocked Driveway  SOUTH OZONE PARK\n",
       "\n",
       "[362138 rows x 2 columns]"
      ]
     },
     "execution_count": 49,
     "metadata": {},
     "output_type": "execute_result"
    }
   ],
   "source": [
    "service_request[['Complaint Type','City']]"
   ]
  },
  {
   "cell_type": "code",
   "execution_count": 50,
   "metadata": {},
   "outputs": [
    {
     "name": "stdout",
     "output_type": "stream",
     "text": [
      "Complaint types in the city: Blocked Driveway             100618\n",
      "Illegal Parking               91705\n",
      "Noise - Street/Sidewalk       51131\n",
      "Noise - Commercial            43749\n",
      "Derelict Vehicle              21516\n",
      "Noise - Vehicle               19300\n",
      "Animal Abuse                  10530\n",
      "Traffic                        5193\n",
      "Homeless Encampment            4877\n",
      "Vending                        4183\n",
      "Noise - Park                   4088\n",
      "Drinking                       1404\n",
      "Noise - House of Worship       1068\n",
      "Posting Advertisement           678\n",
      "Urinating in Public             641\n",
      "Bike/Roller/Skate Chronic       475\n",
      "Panhandling                     325\n",
      "Disorderly Youth                315\n",
      "Illegal Fireworks               172\n",
      "Graffiti                        157\n",
      "Agency Issues                     8\n",
      "Squeegee                          4\n",
      "Animal in a Park                  1\n",
      "Name: Complaint Type, dtype: int64\n",
      "********************************************************************************************************************************************************************************************************\n",
      "City that has complaints: BROOKLYN               118841\n",
      "NEW YORK                77281\n",
      "BRONX                   49163\n",
      "STATEN ISLAND           15332\n",
      "JAMAICA                  8921\n",
      "ASTORIA                  7991\n",
      "FLUSHING                 7486\n",
      "RIDGEWOOD                6391\n",
      "CORONA                   5382\n",
      "WOODSIDE                 4356\n",
      "EAST ELMHURST            3557\n",
      "OZONE PARK               3446\n",
      "ELMHURST                 3437\n",
      "SOUTH RICHMOND HILL      3431\n",
      "MASPETH                  3117\n",
      "WOODHAVEN                3101\n",
      "LONG ISLAND CITY         3026\n",
      "SOUTH OZONE PARK         2668\n",
      "FRESH MEADOWS            2451\n",
      "RICHMOND HILL            2333\n",
      "MIDDLE VILLAGE           2291\n",
      "QUEENS VILLAGE           2251\n",
      "FOREST HILLS             2122\n",
      "JACKSON HEIGHTS          2105\n",
      "REGO PARK                1807\n",
      "BAYSIDE                  1550\n",
      "COLLEGE POINT            1544\n",
      "FAR ROCKAWAY             1397\n",
      "WHITESTONE               1369\n",
      "HOLLIS                   1231\n",
      "HOWARD BEACH             1144\n",
      "SPRINGFIELD GARDENS      1093\n",
      "ROSEDALE                 1091\n",
      "SAINT ALBANS             1047\n",
      "KEW GARDENS              1008\n",
      "SUNNYSIDE                 944\n",
      "Astoria                   905\n",
      "ROCKAWAY PARK             831\n",
      "OAKLAND GARDENS           717\n",
      "LITTLE NECK               712\n",
      "Unknown City              674\n",
      "CAMBRIA HEIGHTS           617\n",
      "BELLEROSE                 487\n",
      "GLEN OAKS                 361\n",
      "ARVERNE                   259\n",
      "FLORAL PARK               196\n",
      "Long Island City          170\n",
      "Woodside                  166\n",
      "NEW HYDE PARK             129\n",
      "CENTRAL PARK              110\n",
      "QUEENS                     37\n",
      "BREEZY POINT               31\n",
      "East Elmhurst              30\n",
      "Howard Beach                1\n",
      "Name: City, dtype: int64\n"
     ]
    }
   ],
   "source": [
    "Complaint_type= service_request['Complaint Type'].value_counts()\n",
    "City_type= service_request['City'].value_counts()\n",
    "print('Complaint types in the city:',Complaint_type)\n",
    "print('*****'*40)\n",
    "print('City that has complaints:',City_type)\n"
   ]
  },
  {
   "cell_type": "markdown",
   "metadata": {},
   "source": [
    "## Draw a frequency plot for the complaints in each city"
   ]
  },
  {
   "cell_type": "code",
   "execution_count": 51,
   "metadata": {},
   "outputs": [
    {
     "data": {
      "image/png": "[encoded data removed]",
      "text/plain": [
       "<Figure size 864x504 with 1 Axes>"
      ]
     },
     "metadata": {},
     "output_type": "display_data"
    }
   ],
   "source": [
    "service_request['City'].value_counts().plot(kind='bar',alpha=0.7,linewidth=0.8)\n",
    "plt.xticks(rotation=100)  # Rotate x-axis labels for better readability\n",
    "plt.xlabel('City')\n",
    "plt.ylabel('Number of Complaints')\n",
    "plt.title('Frequency Plot of Complaints in Each City')\n",
    "plt.legend(title='Complaint Type in each City')\n",
    "plt.show()"
   ]
  },
  {
   "cell_type": "code",
   "execution_count": 52,
   "metadata": {},
   "outputs": [
    {
     "data": {
      "image/png": "[encoded data removed]",
      "text/plain": [
       "<Figure size 864x504 with 1 Axes>"
      ]
     },
     "metadata": {},
     "output_type": "display_data"
    }
   ],
   "source": [
    "# Let us understand the complaint type via bar graph:\n",
    "plt.figure(figsize=(12,7))\n",
    "service_request['Complaint Type'].value_counts().plot(kind='bar',alpha=0.7)\n",
    "plt.show()"
   ]
  },
  {
   "cell_type": "code",
   "execution_count": 53,
   "metadata": {},
   "outputs": [
    {
     "name": "stdout",
     "output_type": "stream",
     "text": [
      "Blocked Driveway             100618\n",
      "Illegal Parking               91705\n",
      "Noise - Street/Sidewalk       51131\n",
      "Noise - Commercial            43749\n",
      "Derelict Vehicle              21516\n",
      "Noise - Vehicle               19300\n",
      "Animal Abuse                  10530\n",
      "Traffic                        5193\n",
      "Homeless Encampment            4877\n",
      "Vending                        4183\n",
      "Noise - Park                   4088\n",
      "Drinking                       1404\n",
      "Noise - House of Worship       1068\n",
      "Posting Advertisement           678\n",
      "Urinating in Public             641\n",
      "Bike/Roller/Skate Chronic       475\n",
      "Panhandling                     325\n",
      "Disorderly Youth                315\n",
      "Illegal Fireworks               172\n",
      "Graffiti                        157\n",
      "Agency Issues                     8\n",
      "Squeegee                          4\n",
      "Animal in a Park                  1\n",
      "Name: Complaint Type, dtype: int64\n",
      "************************************************************************************************************************************************************************************************************************************************\n",
      "BROOKLYN               118841\n",
      "NEW YORK                77281\n",
      "BRONX                   49163\n",
      "STATEN ISLAND           15332\n",
      "JAMAICA                  8921\n",
      "ASTORIA                  7991\n",
      "FLUSHING                 7486\n",
      "RIDGEWOOD                6391\n",
      "CORONA                   5382\n",
      "WOODSIDE                 4356\n",
      "EAST ELMHURST            3557\n",
      "OZONE PARK               3446\n",
      "ELMHURST                 3437\n",
      "SOUTH RICHMOND HILL      3431\n",
      "MASPETH                  3117\n",
      "WOODHAVEN                3101\n",
      "LONG ISLAND CITY         3026\n",
      "SOUTH OZONE PARK         2668\n",
      "FRESH MEADOWS            2451\n",
      "RICHMOND HILL            2333\n",
      "MIDDLE VILLAGE           2291\n",
      "QUEENS VILLAGE           2251\n",
      "FOREST HILLS             2122\n",
      "JACKSON HEIGHTS          2105\n",
      "REGO PARK                1807\n",
      "BAYSIDE                  1550\n",
      "COLLEGE POINT            1544\n",
      "FAR ROCKAWAY             1397\n",
      "WHITESTONE               1369\n",
      "HOLLIS                   1231\n",
      "HOWARD BEACH             1144\n",
      "SPRINGFIELD GARDENS      1093\n",
      "ROSEDALE                 1091\n",
      "SAINT ALBANS             1047\n",
      "KEW GARDENS              1008\n",
      "SUNNYSIDE                 944\n",
      "Astoria                   905\n",
      "ROCKAWAY PARK             831\n",
      "OAKLAND GARDENS           717\n",
      "LITTLE NECK               712\n",
      "Unknown City              674\n",
      "CAMBRIA HEIGHTS           617\n",
      "BELLEROSE                 487\n",
      "GLEN OAKS                 361\n",
      "ARVERNE                   259\n",
      "FLORAL PARK               196\n",
      "Long Island City          170\n",
      "Woodside                  166\n",
      "NEW HYDE PARK             129\n",
      "CENTRAL PARK              110\n",
      "QUEENS                     37\n",
      "BREEZY POINT               31\n",
      "East Elmhurst              30\n",
      "Howard Beach                1\n",
      "Name: City, dtype: int64\n"
     ]
    }
   ],
   "source": [
    "Complaint_type= service_request['Complaint Type'].value_counts()\n",
    "City_type =service_request['City'].value_counts()\n",
    "print(Complaint_type)\n",
    "print('******'* 40)\n",
    "print(City_type)"
   ]
  },
  {
   "cell_type": "markdown",
   "metadata": {},
   "source": [
    "## Create  Scatter and hexbin plot of the concentration of complaints across Brooklyn"
   ]
  },
  {
   "cell_type": "code",
   "execution_count": 54,
   "metadata": {},
   "outputs": [
    {
     "name": "stdout",
     "output_type": "stream",
     "text": [
      "\n",
      "Result dataframe :\n",
      "         Unique Key        Created Date         Closed Date Agency  \\\n",
      "5         32306554 2015-12-31 23:56:30 2016-01-01 01:50:11   NYPD   \n",
      "9         32308391 2015-12-31 23:53:58 2016-01-01 01:17:40   NYPD   \n",
      "13        32305074 2015-12-31 23:47:58 2016-01-01 08:18:47   NYPD   \n",
      "17        32310273 2015-12-31 23:44:52 2016-01-01 00:36:10   NYPD   \n",
      "18        32306617 2015-12-31 23:40:59 2016-01-01 02:37:28   NYPD   \n",
      "...            ...                 ...                 ...    ...   \n",
      "364539    29608505 2015-01-01 00:23:55 2015-01-01 02:58:38   NYPD   \n",
      "364541    29612697 2015-01-01 00:19:22 2015-01-01 02:41:10   NYPD   \n",
      "364544    29613295 2015-01-01 00:17:48 2015-01-01 03:24:48   NYPD   \n",
      "364545    29613456 2015-01-01 00:17:47 2015-01-01 00:51:13   NYPD   \n",
      "364546    29613402 2015-01-01 00:15:45 2015-01-01 02:04:54   NYPD   \n",
      "\n",
      "                            Agency Name      Complaint Type  \\\n",
      "5       New York City Police Department     Illegal Parking   \n",
      "9       New York City Police Department    Blocked Driveway   \n",
      "13      New York City Police Department     Illegal Parking   \n",
      "17      New York City Police Department  Noise - Commercial   \n",
      "18      New York City Police Department  Noise - Commercial   \n",
      "...                                 ...                 ...   \n",
      "364539  New York City Police Department    Blocked Driveway   \n",
      "364541  New York City Police Department    Blocked Driveway   \n",
      "364544  New York City Police Department  Noise - Commercial   \n",
      "364545  New York City Police Department    Blocked Driveway   \n",
      "364546  New York City Police Department    Blocked Driveway   \n",
      "\n",
      "                           Descriptor        Location Type  Incident Zip  \\\n",
      "5       Posted Parking Sign Violation      Street/Sidewalk       11215.0   \n",
      "9                           No Access      Street/Sidewalk       11219.0   \n",
      "13      Posted Parking Sign Violation      Street/Sidewalk       11208.0   \n",
      "17                   Loud Music/Party  Club/Bar/Restaurant       11217.0   \n",
      "18                   Loud Music/Party  Club/Bar/Restaurant       11234.0   \n",
      "...                               ...                  ...           ...   \n",
      "364539                      No Access      Street/Sidewalk       11201.0   \n",
      "364541                      No Access      Street/Sidewalk       11211.0   \n",
      "364544               Loud Music/Party     Store/Commercial       11217.0   \n",
      "364545                      No Access      Street/Sidewalk       11237.0   \n",
      "364546                      No Access      Street/Sidewalk       11218.0   \n",
      "\n",
      "            Incident Address  ... Road Ramp Bridge Highway Segment  \\\n",
      "5              260 21 STREET  ...       NaN                    NaN   \n",
      "9             1408 66 STREET  ...       NaN                    NaN   \n",
      "13              38 COX PLACE  ...       NaN                    NaN   \n",
      "17         622 DEGRAW STREET  ...       NaN                    NaN   \n",
      "18      2192 FLATBUSH AVENUE  ...       NaN                    NaN   \n",
      "...                      ...  ...       ...                    ...   \n",
      "364539   229 DUFFIELD STREET  ...       NaN                    NaN   \n",
      "364541        27 HOPE STREET  ...       NaN                    NaN   \n",
      "364544   242 FLATBUSH AVENUE  ...       NaN                    NaN   \n",
      "364545   1373 DECATUR STREET  ...       NaN                    NaN   \n",
      "364546      19 MICIELI PLACE  ...       NaN                    NaN   \n",
      "\n",
      "       Garage Lot Name Ferry Direction Ferry Terminal Name   Latitude  \\\n",
      "5                  NaN             NaN                 NaN  40.660823   \n",
      "9                  NaN             NaN                 NaN  40.623793   \n",
      "13                 NaN             NaN                 NaN  40.687511   \n",
      "17                 NaN             NaN                 NaN  40.679154   \n",
      "18                 NaN             NaN                 NaN  40.616550   \n",
      "...                ...             ...                 ...        ...   \n",
      "364539             NaN             NaN                 NaN  40.691248   \n",
      "364541             NaN             NaN                 NaN  40.713613   \n",
      "364544             NaN             NaN                 NaN  40.680352   \n",
      "364545             NaN             NaN                 NaN  40.692384   \n",
      "364546             NaN             NaN                 NaN  40.646439   \n",
      "\n",
      "        Longitude                                  Location    time_elapsed  \\\n",
      "5      -73.992568   (40.66082272389114, -73.99256786342693) 0 days 01:53:41   \n",
      "9      -73.999539  (40.623793065806524, -73.99953890121567) 0 days 01:23:42   \n",
      "13     -73.874505   (40.68751060232221, -73.87450451131276) 0 days 08:30:49   \n",
      "17     -73.983430  (40.679154133157326, -73.98342992763081) 0 days 00:51:18   \n",
      "18     -73.930202   (40.61655032892211, -73.93020153359745) 0 days 02:56:29   \n",
      "...           ...                                       ...             ...   \n",
      "364539 -73.984375   (40.69124772858873, -73.98437529459297) 0 days 02:34:43   \n",
      "364541 -73.956966   (40.71361332917013, -73.95696623841229) 0 days 02:21:48   \n",
      "364544 -73.974766   (40.68035202521423, -73.97476587888686) 0 days 03:07:00   \n",
      "364545 -73.904011  (40.692383519190834, -73.90401080101479) 0 days 00:33:26   \n",
      "364546 -73.981971   (40.64643889447912, -73.98197140465561) 0 days 01:49:09   \n",
      "\n",
      "       time_elapsed_seconds  \n",
      "5                    6821.0  \n",
      "9                    5022.0  \n",
      "13                  30649.0  \n",
      "17                   3078.0  \n",
      "18                  10589.0  \n",
      "...                     ...  \n",
      "364539               9283.0  \n",
      "364541               8508.0  \n",
      "364544              11220.0  \n",
      "364545               2006.0  \n",
      "364546               6549.0  \n",
      "\n",
      "[118841 rows x 55 columns]\n"
     ]
    }
   ],
   "source": [
    "  \n",
    "# selecting rows based on condition \n",
    "Brooklyn_city= service_request.loc[service_request['City']==\"BROOKLYN\"] \n",
    "    \n",
    "print('\\nResult dataframe :\\n', Brooklyn_city)"
   ]
  },
  {
   "cell_type": "code",
   "execution_count": 55,
   "metadata": {},
   "outputs": [
    {
     "data": {
      "text/plain": [
       "(362138, 55)"
      ]
     },
     "execution_count": 55,
     "metadata": {},
     "output_type": "execute_result"
    }
   ],
   "source": [
    "service_request.shape"
   ]
  },
  {
   "cell_type": "code",
   "execution_count": 56,
   "metadata": {},
   "outputs": [
    {
     "data": {
      "text/html": [
       "<div>\n",
       "<style scoped>\n",
       "    .dataframe tbody tr th:only-of-type {\n",
       "        vertical-align: middle;\n",
       "    }\n",
       "\n",
       "    .dataframe tbody tr th {\n",
       "        vertical-align: top;\n",
       "    }\n",
       "\n",
       "    .dataframe thead th {\n",
       "        text-align: right;\n",
       "    }\n",
       "</style>\n",
       "<table border=\"1\" class=\"dataframe\">\n",
       "  <thead>\n",
       "    <tr style=\"text-align: right;\">\n",
       "      <th></th>\n",
       "      <th>Unique Key</th>\n",
       "      <th>Created Date</th>\n",
       "      <th>Closed Date</th>\n",
       "      <th>Agency</th>\n",
       "      <th>Agency Name</th>\n",
       "      <th>Complaint Type</th>\n",
       "      <th>Descriptor</th>\n",
       "      <th>Location Type</th>\n",
       "      <th>Incident Zip</th>\n",
       "      <th>Incident Address</th>\n",
       "      <th>...</th>\n",
       "      <th>Road Ramp</th>\n",
       "      <th>Bridge Highway Segment</th>\n",
       "      <th>Garage Lot Name</th>\n",
       "      <th>Ferry Direction</th>\n",
       "      <th>Ferry Terminal Name</th>\n",
       "      <th>Latitude</th>\n",
       "      <th>Longitude</th>\n",
       "      <th>Location</th>\n",
       "      <th>time_elapsed</th>\n",
       "      <th>time_elapsed_seconds</th>\n",
       "    </tr>\n",
       "  </thead>\n",
       "  <tbody>\n",
       "    <tr>\n",
       "      <th>0</th>\n",
       "      <td>32310363</td>\n",
       "      <td>2015-12-31 23:59:45</td>\n",
       "      <td>2016-01-01 00:55:15</td>\n",
       "      <td>NYPD</td>\n",
       "      <td>New York City Police Department</td>\n",
       "      <td>Noise - Street/Sidewalk</td>\n",
       "      <td>Loud Music/Party</td>\n",
       "      <td>Street/Sidewalk</td>\n",
       "      <td>10034.0</td>\n",
       "      <td>71 VERMILYEA AVENUE</td>\n",
       "      <td>...</td>\n",
       "      <td>NaN</td>\n",
       "      <td>NaN</td>\n",
       "      <td>NaN</td>\n",
       "      <td>NaN</td>\n",
       "      <td>NaN</td>\n",
       "      <td>40.865682</td>\n",
       "      <td>-73.923501</td>\n",
       "      <td>(40.86568153633767, -73.92350095571744)</td>\n",
       "      <td>0 days 00:55:30</td>\n",
       "      <td>3330.0</td>\n",
       "    </tr>\n",
       "    <tr>\n",
       "      <th>1</th>\n",
       "      <td>32309934</td>\n",
       "      <td>2015-12-31 23:59:44</td>\n",
       "      <td>2016-01-01 01:26:57</td>\n",
       "      <td>NYPD</td>\n",
       "      <td>New York City Police Department</td>\n",
       "      <td>Blocked Driveway</td>\n",
       "      <td>No Access</td>\n",
       "      <td>Street/Sidewalk</td>\n",
       "      <td>11105.0</td>\n",
       "      <td>27-07 23 AVENUE</td>\n",
       "      <td>...</td>\n",
       "      <td>NaN</td>\n",
       "      <td>NaN</td>\n",
       "      <td>NaN</td>\n",
       "      <td>NaN</td>\n",
       "      <td>NaN</td>\n",
       "      <td>40.775945</td>\n",
       "      <td>-73.915094</td>\n",
       "      <td>(40.775945312321085, -73.91509393898605)</td>\n",
       "      <td>0 days 01:27:13</td>\n",
       "      <td>5233.0</td>\n",
       "    </tr>\n",
       "    <tr>\n",
       "      <th>2</th>\n",
       "      <td>32309159</td>\n",
       "      <td>2015-12-31 23:59:29</td>\n",
       "      <td>2016-01-01 04:51:03</td>\n",
       "      <td>NYPD</td>\n",
       "      <td>New York City Police Department</td>\n",
       "      <td>Blocked Driveway</td>\n",
       "      <td>No Access</td>\n",
       "      <td>Street/Sidewalk</td>\n",
       "      <td>10458.0</td>\n",
       "      <td>2897 VALENTINE AVENUE</td>\n",
       "      <td>...</td>\n",
       "      <td>NaN</td>\n",
       "      <td>NaN</td>\n",
       "      <td>NaN</td>\n",
       "      <td>NaN</td>\n",
       "      <td>NaN</td>\n",
       "      <td>40.870325</td>\n",
       "      <td>-73.888525</td>\n",
       "      <td>(40.870324522111424, -73.88852464418646)</td>\n",
       "      <td>0 days 04:51:34</td>\n",
       "      <td>17494.0</td>\n",
       "    </tr>\n",
       "    <tr>\n",
       "      <th>3</th>\n",
       "      <td>32305098</td>\n",
       "      <td>2015-12-31 23:57:46</td>\n",
       "      <td>2016-01-01 07:43:13</td>\n",
       "      <td>NYPD</td>\n",
       "      <td>New York City Police Department</td>\n",
       "      <td>Illegal Parking</td>\n",
       "      <td>Commercial Overnight Parking</td>\n",
       "      <td>Street/Sidewalk</td>\n",
       "      <td>10461.0</td>\n",
       "      <td>2940 BAISLEY AVENUE</td>\n",
       "      <td>...</td>\n",
       "      <td>NaN</td>\n",
       "      <td>NaN</td>\n",
       "      <td>NaN</td>\n",
       "      <td>NaN</td>\n",
       "      <td>NaN</td>\n",
       "      <td>40.835994</td>\n",
       "      <td>-73.828379</td>\n",
       "      <td>(40.83599404683083, -73.82837939584206)</td>\n",
       "      <td>0 days 07:45:27</td>\n",
       "      <td>27927.0</td>\n",
       "    </tr>\n",
       "    <tr>\n",
       "      <th>4</th>\n",
       "      <td>32306529</td>\n",
       "      <td>2015-12-31 23:56:58</td>\n",
       "      <td>2016-01-01 03:24:42</td>\n",
       "      <td>NYPD</td>\n",
       "      <td>New York City Police Department</td>\n",
       "      <td>Illegal Parking</td>\n",
       "      <td>Blocked Sidewalk</td>\n",
       "      <td>Street/Sidewalk</td>\n",
       "      <td>11373.0</td>\n",
       "      <td>87-14 57 ROAD</td>\n",
       "      <td>...</td>\n",
       "      <td>NaN</td>\n",
       "      <td>NaN</td>\n",
       "      <td>NaN</td>\n",
       "      <td>NaN</td>\n",
       "      <td>NaN</td>\n",
       "      <td>40.733060</td>\n",
       "      <td>-73.874170</td>\n",
       "      <td>(40.733059618956815, -73.87416975810375)</td>\n",
       "      <td>0 days 03:27:44</td>\n",
       "      <td>12464.0</td>\n",
       "    </tr>\n",
       "  </tbody>\n",
       "</table>\n",
       "<p>5 rows × 55 columns</p>\n",
       "</div>"
      ],
      "text/plain": [
       "   Unique Key        Created Date         Closed Date Agency  \\\n",
       "0    32310363 2015-12-31 23:59:45 2016-01-01 00:55:15   NYPD   \n",
       "1    32309934 2015-12-31 23:59:44 2016-01-01 01:26:57   NYPD   \n",
       "2    32309159 2015-12-31 23:59:29 2016-01-01 04:51:03   NYPD   \n",
       "3    32305098 2015-12-31 23:57:46 2016-01-01 07:43:13   NYPD   \n",
       "4    32306529 2015-12-31 23:56:58 2016-01-01 03:24:42   NYPD   \n",
       "\n",
       "                       Agency Name           Complaint Type  \\\n",
       "0  New York City Police Department  Noise - Street/Sidewalk   \n",
       "1  New York City Police Department         Blocked Driveway   \n",
       "2  New York City Police Department         Blocked Driveway   \n",
       "3  New York City Police Department          Illegal Parking   \n",
       "4  New York City Police Department          Illegal Parking   \n",
       "\n",
       "                     Descriptor    Location Type  Incident Zip  \\\n",
       "0              Loud Music/Party  Street/Sidewalk       10034.0   \n",
       "1                     No Access  Street/Sidewalk       11105.0   \n",
       "2                     No Access  Street/Sidewalk       10458.0   \n",
       "3  Commercial Overnight Parking  Street/Sidewalk       10461.0   \n",
       "4              Blocked Sidewalk  Street/Sidewalk       11373.0   \n",
       "\n",
       "        Incident Address  ... Road Ramp Bridge Highway Segment  \\\n",
       "0    71 VERMILYEA AVENUE  ...       NaN                    NaN   \n",
       "1        27-07 23 AVENUE  ...       NaN                    NaN   \n",
       "2  2897 VALENTINE AVENUE  ...       NaN                    NaN   \n",
       "3    2940 BAISLEY AVENUE  ...       NaN                    NaN   \n",
       "4          87-14 57 ROAD  ...       NaN                    NaN   \n",
       "\n",
       "  Garage Lot Name Ferry Direction Ferry Terminal Name   Latitude  Longitude  \\\n",
       "0             NaN             NaN                 NaN  40.865682 -73.923501   \n",
       "1             NaN             NaN                 NaN  40.775945 -73.915094   \n",
       "2             NaN             NaN                 NaN  40.870325 -73.888525   \n",
       "3             NaN             NaN                 NaN  40.835994 -73.828379   \n",
       "4             NaN             NaN                 NaN  40.733060 -73.874170   \n",
       "\n",
       "                                   Location    time_elapsed  \\\n",
       "0   (40.86568153633767, -73.92350095571744) 0 days 00:55:30   \n",
       "1  (40.775945312321085, -73.91509393898605) 0 days 01:27:13   \n",
       "2  (40.870324522111424, -73.88852464418646) 0 days 04:51:34   \n",
       "3   (40.83599404683083, -73.82837939584206) 0 days 07:45:27   \n",
       "4  (40.733059618956815, -73.87416975810375) 0 days 03:27:44   \n",
       "\n",
       "  time_elapsed_seconds  \n",
       "0               3330.0  \n",
       "1               5233.0  \n",
       "2              17494.0  \n",
       "3              27927.0  \n",
       "4              12464.0  \n",
       "\n",
       "[5 rows x 55 columns]"
      ]
     },
     "execution_count": 56,
     "metadata": {},
     "output_type": "execute_result"
    }
   ],
   "source": [
    "service_request.head()"
   ]
  },
  {
   "cell_type": "markdown",
   "metadata": {},
   "source": [
    "# Let us see the complaint type in Brooklyn via Graph"
   ]
  },
  {
   "cell_type": "code",
   "execution_count": 57,
   "metadata": {},
   "outputs": [
    {
     "name": "stderr",
     "output_type": "stream",
     "text": [
      "*c* argument looks like a single numeric RGB or RGBA sequence, which should be avoided as value-mapping will have precedence in case its length matches with *x* & *y*.  Please use the *color* keyword-argument or provide a 2D array with a single row if you intend to specify the same RGB or RGBA value for all points.\n"
     ]
    },
    {
     "data": {
      "text/plain": [
       "(-74.05061403028367, -73.84647934348564, 40.56112685375488, 40.78979838623255)"
      ]
     },
     "execution_count": 57,
     "metadata": {},
     "output_type": "execute_result"
    },
    {
     "data": {
      "image/png": "[encoded data removed]",
      "text/plain": [
       "<Figure size 720x576 with 1 Axes>"
      ]
     },
     "metadata": {},
     "output_type": "display_data"
    }
   ],
   "source": [
    "Brooklyn_city[['Longitude', 'Latitude']].plot(kind='scatter',\n",
    "    x='Longitude', y='Latitude', figsize=(10,8),title = 'Complaints concentration across Brooklyn').axis('equal')"
   ]
  },
  {
   "cell_type": "code",
   "execution_count": 58,
   "metadata": {},
   "outputs": [
    {
     "data": {
      "text/plain": [
       "(-74.05061403048781, -73.8464793432815, 40.56112685375488, 40.78979838623255)"
      ]
     },
     "execution_count": 58,
     "metadata": {},
     "output_type": "execute_result"
    },
    {
     "data": {
      "image/png": "[encoded data removed]",
      "text/plain": [
       "<Figure size 720x432 with 2 Axes>"
      ]
     },
     "metadata": {},
     "output_type": "display_data"
    }
   ],
   "source": [
    "Brooklyn_city.plot(kind='hexbin', x='Longitude', y='Latitude', gridsize=40,\n",
    "    colormap = 'jet',mincnt=1,title = 'Complaints concentration across Brooklyn\\n', figsize=(10,6)).axis('equal')"
   ]
  },
  {
   "cell_type": "markdown",
   "metadata": {},
   "source": [
    "## Find the major types of complaints"
   ]
  },
  {
   "cell_type": "code",
   "execution_count": 59,
   "metadata": {},
   "outputs": [
    {
     "data": {
      "image/png": "[encoded data removed]",
      "text/plain": [
       "<Figure size 720x432 with 1 Axes>"
      ]
     },
     "metadata": {},
     "output_type": "display_data"
    }
   ],
   "source": [
    "# Plot  bar graph to show the types of complaints:\n",
    "service_request['Complaint Type'].value_counts().plot(kind='hist',\n",
    "                    figsize=(10,6),alpha=0.8,\n",
    "                    linewidth=0.8, \n",
    "                    title = 'Types of Complaints')\n",
    "plt.xlabel('Complaint Type')\n",
    "plt.ylabel('Number of Complaints in cities')\n",
    "plt.title('Type of Complaints')\n",
    "plt.legend('Complaint type')\n",
    "plt.show()"
   ]
  },
  {
   "cell_type": "markdown",
   "metadata": {},
   "source": [
    "Check the frequency of vrious types of complaints for New York City "
   ]
  },
  {
   "cell_type": "code",
   "execution_count": 60,
   "metadata": {},
   "outputs": [],
   "source": [
    "New_York_City_data= service_request.loc[service_request['City']=='NEW YORK']"
   ]
  },
  {
   "cell_type": "code",
   "execution_count": 61,
   "metadata": {},
   "outputs": [
    {
     "data": {
      "text/plain": [
       "<AxesSubplot:title={'center':'Types of Complaints'}>"
      ]
     },
     "execution_count": 61,
     "metadata": {},
     "output_type": "execute_result"
    },
    {
     "data": {
      "image/png": "[encoded data removed]",
      "text/plain": [
       "<Figure size 720x432 with 1 Axes>"
      ]
     },
     "metadata": {},
     "output_type": "display_data"
    }
   ],
   "source": [
    "New_York_City_data['Complaint Type'].value_counts().plot(kind='bar',\n",
    "                    figsize=(10,6), title = 'Types of Complaints')"
   ]
  },
  {
   "cell_type": "code",
   "execution_count": 62,
   "metadata": {},
   "outputs": [
    {
     "name": "stdout",
     "output_type": "stream",
     "text": [
      "The top 10 Complaint in the cities are: Blocked Driveway           100618\n",
      "Illegal Parking             91705\n",
      "Noise - Street/Sidewalk     51131\n",
      "Noise - Commercial          43749\n",
      "Derelict Vehicle            21516\n",
      "Noise - Vehicle             19300\n",
      "Animal Abuse                10530\n",
      "Traffic                      5193\n",
      "Homeless Encampment          4877\n",
      "Vending                      4183\n",
      "Name: Complaint Type, dtype: int64\n"
     ]
    }
   ],
   "source": [
    "# find the top ten types of complaints. lets take hundred complaints and look for 10 unique complaints.  \n",
    "top_10_complaints = service_request['Complaint Type'].value_counts().nlargest(10)\n",
    "print(\"The top 10 Complaint in the cities are:\",top_10_complaints)"
   ]
  },
  {
   "cell_type": "code",
   "execution_count": null,
   "metadata": {},
   "outputs": [],
   "source": []
  },
  {
   "cell_type": "markdown",
   "metadata": {},
   "source": [
    "## Display the various types of complaints in each city"
   ]
  },
  {
   "cell_type": "code",
   "execution_count": 63,
   "metadata": {},
   "outputs": [
    {
     "name": "stdout",
     "output_type": "stream",
     "text": [
      "City                       ARVERNE  ASTORIA  Astoria  BAYSIDE  BELLEROSE  \\\n",
      "Complaint Type                                                             \n",
      "Agency Issues                  NaN      NaN      NaN      NaN        NaN   \n",
      "Animal Abuse                  46.0    170.0      NaN     53.0       15.0   \n",
      "Animal in a Park               NaN      NaN      NaN      NaN        NaN   \n",
      "Bike/Roller/Skate Chronic      NaN     16.0      NaN      NaN        1.0   \n",
      "Blocked Driveway              50.0   3436.0    159.0    514.0      138.0   \n",
      "Derelict Vehicle              32.0    426.0     14.0    231.0      120.0   \n",
      "Disorderly Youth               2.0      5.0      NaN      2.0        2.0   \n",
      "Drinking                       1.0     43.0      NaN      1.0        1.0   \n",
      "Graffiti                       1.0      4.0      NaN      3.0        NaN   \n",
      "Homeless Encampment            4.0     32.0      NaN      2.0        1.0   \n",
      "Illegal Fireworks              NaN      4.0      NaN      NaN        1.0   \n",
      "Illegal Parking               62.0   1340.0    277.0    638.0      132.0   \n",
      "Noise - Commercial             2.0   1653.0    310.0     47.0       38.0   \n",
      "Noise - House of Worship      14.0     21.0      NaN      3.0        1.0   \n",
      "Noise - Park                   2.0     64.0      NaN      4.0        1.0   \n",
      "Noise - Street/Sidewalk       29.0    409.0    145.0     17.0       13.0   \n",
      "Noise - Vehicle               10.0    236.0      NaN     24.0       11.0   \n",
      "Panhandling                    1.0      2.0      NaN      NaN        1.0   \n",
      "Posting Advertisement          NaN      3.0      NaN      NaN        1.0   \n",
      "Squeegee                       NaN      NaN      NaN      NaN        NaN   \n",
      "Traffic                        1.0     60.0      NaN      9.0        9.0   \n",
      "Urinating in Public            1.0     10.0      NaN      NaN        1.0   \n",
      "Vending                        1.0     57.0      NaN      2.0        NaN   \n",
      "\n",
      "City                       BREEZY POINT    BRONX  BROOKLYN  CAMBRIA HEIGHTS  \\\n",
      "Complaint Type                                                                \n",
      "Agency Issues                       NaN      NaN       NaN              NaN   \n",
      "Animal Abuse                        2.0   1971.0    3191.0             15.0   \n",
      "Animal in a Park                    NaN      NaN       NaN              NaN   \n",
      "Bike/Roller/Skate Chronic           NaN     22.0     124.0              NaN   \n",
      "Blocked Driveway                    3.0  17061.0   36444.0            177.0   \n",
      "Derelict Vehicle                    3.0   2402.0    6257.0            148.0   \n",
      "Disorderly Youth                    NaN     66.0      79.0              NaN   \n",
      "Drinking                            1.0    206.0     291.0              NaN   \n",
      "Graffiti                            NaN     15.0      60.0              NaN   \n",
      "Homeless Encampment                 NaN    275.0     947.0              6.0   \n",
      "Illegal Fireworks                   NaN     24.0      61.0              1.0   \n",
      "Illegal Parking                    16.0   9889.0   33528.0            113.0   \n",
      "Noise - Commercial                  4.0   2944.0   13855.0             19.0   \n",
      "Noise - House of Worship            NaN     90.0     389.0              2.0   \n",
      "Noise - Park                        NaN    548.0    1574.0              NaN   \n",
      "Noise - Street/Sidewalk             1.0   9144.0   13982.0             29.0   \n",
      "Noise - Vehicle                     1.0   3555.0    5965.0            100.0   \n",
      "Panhandling                         NaN     20.0      49.0              NaN   \n",
      "Posting Advertisement               NaN     17.0      58.0              NaN   \n",
      "Squeegee                            NaN      NaN       NaN              NaN   \n",
      "Traffic                             NaN    427.0    1258.0              7.0   \n",
      "Urinating in Public                 NaN     54.0     155.0              NaN   \n",
      "Vending                             NaN    433.0     574.0              NaN   \n",
      "\n",
      "City                       CENTRAL PARK  ...  SOUTH OZONE PARK  \\\n",
      "Complaint Type                           ...                     \n",
      "Agency Issues                       NaN  ...               NaN   \n",
      "Animal Abuse                        NaN  ...              74.0   \n",
      "Animal in a Park                    NaN  ...               NaN   \n",
      "Bike/Roller/Skate Chronic           NaN  ...               1.0   \n",
      "Blocked Driveway                    NaN  ...            1202.0   \n",
      "Derelict Vehicle                    NaN  ...             425.0   \n",
      "Disorderly Youth                    NaN  ...               2.0   \n",
      "Drinking                            NaN  ...              14.0   \n",
      "Graffiti                            NaN  ...               2.0   \n",
      "Homeless Encampment                 NaN  ...               5.0   \n",
      "Illegal Fireworks                   NaN  ...               1.0   \n",
      "Illegal Parking                     5.0  ...             602.0   \n",
      "Noise - Commercial                  NaN  ...              82.0   \n",
      "Noise - House of Worship            NaN  ...               5.0   \n",
      "Noise - Park                        NaN  ...               4.0   \n",
      "Noise - Street/Sidewalk           105.0  ...             108.0   \n",
      "Noise - Vehicle                     NaN  ...              97.0   \n",
      "Panhandling                         NaN  ...               NaN   \n",
      "Posting Advertisement               NaN  ...               1.0   \n",
      "Squeegee                            NaN  ...               NaN   \n",
      "Traffic                             NaN  ...              36.0   \n",
      "Urinating in Public                 NaN  ...               2.0   \n",
      "Vending                             NaN  ...               5.0   \n",
      "\n",
      "City                       SOUTH RICHMOND HILL  SPRINGFIELD GARDENS  \\\n",
      "Complaint Type                                                        \n",
      "Agency Issues                              NaN                  NaN   \n",
      "Animal Abuse                              40.0                 42.0   \n",
      "Animal in a Park                           NaN                  NaN   \n",
      "Bike/Roller/Skate Chronic                  1.0                  NaN   \n",
      "Blocked Driveway                        1946.0                330.0   \n",
      "Derelict Vehicle                         356.0                266.0   \n",
      "Disorderly Youth                           2.0                  NaN   \n",
      "Drinking                                  25.0                  6.0   \n",
      "Graffiti                                   NaN                  NaN   \n",
      "Homeless Encampment                       12.0                  7.0   \n",
      "Illegal Fireworks                          2.0                  1.0   \n",
      "Illegal Parking                          596.0                291.0   \n",
      "Noise - Commercial                       223.0                 38.0   \n",
      "Noise - House of Worship                   3.0                  1.0   \n",
      "Noise - Park                               2.0                  1.0   \n",
      "Noise - Street/Sidewalk                   93.0                 42.0   \n",
      "Noise - Vehicle                           93.0                 48.0   \n",
      "Panhandling                                NaN                  2.0   \n",
      "Posting Advertisement                      NaN                  2.0   \n",
      "Squeegee                                   NaN                  NaN   \n",
      "Traffic                                   12.0                 12.0   \n",
      "Urinating in Public                        1.0                  3.0   \n",
      "Vending                                   24.0                  1.0   \n",
      "\n",
      "City                       STATEN ISLAND  SUNNYSIDE  Unknown City  WHITESTONE  \\\n",
      "Complaint Type                                                                  \n",
      "Agency Issues                        NaN        NaN           8.0         NaN   \n",
      "Animal Abuse                       786.0       40.0           1.0        43.0   \n",
      "Animal in a Park                     NaN        NaN           NaN         NaN   \n",
      "Bike/Roller/Skate Chronic           10.0        2.0           2.0         4.0   \n",
      "Blocked Driveway                  2845.0      278.0          86.0       279.0   \n",
      "Derelict Vehicle                  2183.0       17.0          63.0       279.0   \n",
      "Disorderly Youth                    25.0        2.0           NaN         1.0   \n",
      "Drinking                           188.0       12.0           3.0         3.0   \n",
      "Graffiti                             6.0        1.0           NaN         1.0   \n",
      "Homeless Encampment                 77.0       12.0           1.0         NaN   \n",
      "Illegal Fireworks                   11.0        NaN           NaN         1.0   \n",
      "Illegal Parking                   6223.0      167.0         312.0       631.0   \n",
      "Noise - Commercial                 783.0      238.0          79.0        21.0   \n",
      "Noise - House of Worship            18.0        NaN           NaN         NaN   \n",
      "Noise - Park                        67.0       16.0           7.0         7.0   \n",
      "Noise - Street/Sidewalk            885.0       69.0          99.0        35.0   \n",
      "Noise - Vehicle                    424.0       53.0           9.0        31.0   \n",
      "Panhandling                         13.0        NaN           1.0         NaN   \n",
      "Posting Advertisement              516.0        3.0           NaN         NaN   \n",
      "Squeegee                             NaN        NaN           NaN         NaN   \n",
      "Traffic                            228.0       17.0           2.0        32.0   \n",
      "Urinating in Public                 19.0        2.0           NaN         NaN   \n",
      "Vending                             25.0       15.0           1.0         1.0   \n",
      "\n",
      "City                       WOODHAVEN  WOODSIDE  Woodside  \n",
      "Complaint Type                                            \n",
      "Agency Issues                    NaN       NaN       NaN  \n",
      "Animal Abuse                    57.0     111.0       NaN  \n",
      "Animal in a Park                 NaN       NaN       NaN  \n",
      "Bike/Roller/Skate Chronic        2.0       5.0       NaN  \n",
      "Blocked Driveway              1363.0    2037.0      27.0  \n",
      "Derelict Vehicle               369.0     298.0       8.0  \n",
      "Disorderly Youth                 NaN       1.0       NaN  \n",
      "Drinking                         4.0      15.0       NaN  \n",
      "Graffiti                         NaN       4.0       NaN  \n",
      "Homeless Encampment             10.0      38.0       NaN  \n",
      "Illegal Fireworks                NaN       1.0       NaN  \n",
      "Illegal Parking                895.0    1083.0     124.0  \n",
      "Noise - Commercial             209.0     256.0       2.0  \n",
      "Noise - House of Worship         3.0       4.0       NaN  \n",
      "Noise - Park                     3.0      38.0       NaN  \n",
      "Noise - Street/Sidewalk         89.0     261.0       5.0  \n",
      "Noise - Vehicle                 81.0     136.0       NaN  \n",
      "Panhandling                      1.0       NaN       NaN  \n",
      "Posting Advertisement            NaN       NaN       NaN  \n",
      "Squeegee                         NaN       NaN       NaN  \n",
      "Traffic                          7.0      45.0       NaN  \n",
      "Urinating in Public              2.0       8.0       NaN  \n",
      "Vending                          6.0      15.0       NaN  \n",
      "\n",
      "[23 rows x 54 columns]\n"
     ]
    }
   ],
   "source": [
    "complaint_by_city =service_request.pivot_table(index='Complaint Type', columns='City',values='Unique Key',aggfunc='count')\n",
    "print(complaint_by_city)"
   ]
  },
  {
   "cell_type": "code",
   "execution_count": 64,
   "metadata": {},
   "outputs": [
    {
     "data": {
      "image/png": "[encoded data removed]",
      "text/plain": [
       "<Figure size 864x576 with 1 Axes>"
      ]
     },
     "metadata": {},
     "output_type": "display_data"
    }
   ],
   "source": [
    "\n",
    "service_request[\"Complaint Type\"].value_counts()[:10].plot(kind='barh',alpha=0.7,figsize=(12,8))\n",
    "plt.tight_layout()\n",
    "plt.legend(\"city\")\n",
    "plt.show()"
   ]
  },
  {
   "cell_type": "code",
   "execution_count": 65,
   "metadata": {},
   "outputs": [
    {
     "data": {
      "image/png": "[encoded data removed]",
      "text/plain": [
       "<Figure size 864x504 with 1 Axes>"
      ]
     },
     "metadata": {},
     "output_type": "display_data"
    }
   ],
   "source": [
    "top_10_complaints.plot(kind='hist')\n",
    "plt.show()"
   ]
  },
  {
   "cell_type": "code",
   "execution_count": 66,
   "metadata": {},
   "outputs": [
    {
     "data": {
      "image/png": "[encoded data removed]",
      "text/plain": [
       "<Figure size 864x504 with 1 Axes>"
      ]
     },
     "metadata": {},
     "output_type": "display_data"
    }
   ],
   "source": [
    "sns.distplot(complaint_by_city)\n",
    "plt.show()"
   ]
  },
  {
   "cell_type": "markdown",
   "metadata": {},
   "source": [
    "## Create a DataFrame, df_new, which contains cities as columns and complaint types in rows"
   ]
  },
  {
   "cell_type": "code",
   "execution_count": 67,
   "metadata": {},
   "outputs": [
    {
     "data": {
      "text/html": [
       "<div>\n",
       "<style scoped>\n",
       "    .dataframe tbody tr th:only-of-type {\n",
       "        vertical-align: middle;\n",
       "    }\n",
       "\n",
       "    .dataframe tbody tr th {\n",
       "        vertical-align: top;\n",
       "    }\n",
       "\n",
       "    .dataframe thead th {\n",
       "        text-align: right;\n",
       "    }\n",
       "</style>\n",
       "<table border=\"1\" class=\"dataframe\">\n",
       "  <thead>\n",
       "    <tr style=\"text-align: right;\">\n",
       "      <th>City</th>\n",
       "      <th>ARVERNE</th>\n",
       "      <th>ASTORIA</th>\n",
       "      <th>Astoria</th>\n",
       "      <th>BAYSIDE</th>\n",
       "      <th>BELLEROSE</th>\n",
       "      <th>BREEZY POINT</th>\n",
       "      <th>BRONX</th>\n",
       "      <th>BROOKLYN</th>\n",
       "      <th>CAMBRIA HEIGHTS</th>\n",
       "      <th>CENTRAL PARK</th>\n",
       "      <th>...</th>\n",
       "      <th>SOUTH OZONE PARK</th>\n",
       "      <th>SOUTH RICHMOND HILL</th>\n",
       "      <th>SPRINGFIELD GARDENS</th>\n",
       "      <th>STATEN ISLAND</th>\n",
       "      <th>SUNNYSIDE</th>\n",
       "      <th>Unknown City</th>\n",
       "      <th>WHITESTONE</th>\n",
       "      <th>WOODHAVEN</th>\n",
       "      <th>WOODSIDE</th>\n",
       "      <th>Woodside</th>\n",
       "    </tr>\n",
       "    <tr>\n",
       "      <th>Complaint Type</th>\n",
       "      <th></th>\n",
       "      <th></th>\n",
       "      <th></th>\n",
       "      <th></th>\n",
       "      <th></th>\n",
       "      <th></th>\n",
       "      <th></th>\n",
       "      <th></th>\n",
       "      <th></th>\n",
       "      <th></th>\n",
       "      <th></th>\n",
       "      <th></th>\n",
       "      <th></th>\n",
       "      <th></th>\n",
       "      <th></th>\n",
       "      <th></th>\n",
       "      <th></th>\n",
       "      <th></th>\n",
       "      <th></th>\n",
       "      <th></th>\n",
       "      <th></th>\n",
       "    </tr>\n",
       "  </thead>\n",
       "  <tbody>\n",
       "    <tr>\n",
       "      <th>Agency Issues</th>\n",
       "      <td>NaN</td>\n",
       "      <td>NaN</td>\n",
       "      <td>NaN</td>\n",
       "      <td>NaN</td>\n",
       "      <td>NaN</td>\n",
       "      <td>NaN</td>\n",
       "      <td>NaN</td>\n",
       "      <td>NaN</td>\n",
       "      <td>NaN</td>\n",
       "      <td>NaN</td>\n",
       "      <td>...</td>\n",
       "      <td>NaN</td>\n",
       "      <td>NaN</td>\n",
       "      <td>NaN</td>\n",
       "      <td>NaN</td>\n",
       "      <td>NaN</td>\n",
       "      <td>8.0</td>\n",
       "      <td>NaN</td>\n",
       "      <td>NaN</td>\n",
       "      <td>NaN</td>\n",
       "      <td>NaN</td>\n",
       "    </tr>\n",
       "    <tr>\n",
       "      <th>Animal Abuse</th>\n",
       "      <td>46.0</td>\n",
       "      <td>170.0</td>\n",
       "      <td>NaN</td>\n",
       "      <td>53.0</td>\n",
       "      <td>15.0</td>\n",
       "      <td>2.0</td>\n",
       "      <td>1971.0</td>\n",
       "      <td>3191.0</td>\n",
       "      <td>15.0</td>\n",
       "      <td>NaN</td>\n",
       "      <td>...</td>\n",
       "      <td>74.0</td>\n",
       "      <td>40.0</td>\n",
       "      <td>42.0</td>\n",
       "      <td>786.0</td>\n",
       "      <td>40.0</td>\n",
       "      <td>1.0</td>\n",
       "      <td>43.0</td>\n",
       "      <td>57.0</td>\n",
       "      <td>111.0</td>\n",
       "      <td>NaN</td>\n",
       "    </tr>\n",
       "    <tr>\n",
       "      <th>Animal in a Park</th>\n",
       "      <td>NaN</td>\n",
       "      <td>NaN</td>\n",
       "      <td>NaN</td>\n",
       "      <td>NaN</td>\n",
       "      <td>NaN</td>\n",
       "      <td>NaN</td>\n",
       "      <td>NaN</td>\n",
       "      <td>NaN</td>\n",
       "      <td>NaN</td>\n",
       "      <td>NaN</td>\n",
       "      <td>...</td>\n",
       "      <td>NaN</td>\n",
       "      <td>NaN</td>\n",
       "      <td>NaN</td>\n",
       "      <td>NaN</td>\n",
       "      <td>NaN</td>\n",
       "      <td>NaN</td>\n",
       "      <td>NaN</td>\n",
       "      <td>NaN</td>\n",
       "      <td>NaN</td>\n",
       "      <td>NaN</td>\n",
       "    </tr>\n",
       "    <tr>\n",
       "      <th>Bike/Roller/Skate Chronic</th>\n",
       "      <td>NaN</td>\n",
       "      <td>16.0</td>\n",
       "      <td>NaN</td>\n",
       "      <td>NaN</td>\n",
       "      <td>1.0</td>\n",
       "      <td>NaN</td>\n",
       "      <td>22.0</td>\n",
       "      <td>124.0</td>\n",
       "      <td>NaN</td>\n",
       "      <td>NaN</td>\n",
       "      <td>...</td>\n",
       "      <td>1.0</td>\n",
       "      <td>1.0</td>\n",
       "      <td>NaN</td>\n",
       "      <td>10.0</td>\n",
       "      <td>2.0</td>\n",
       "      <td>2.0</td>\n",
       "      <td>4.0</td>\n",
       "      <td>2.0</td>\n",
       "      <td>5.0</td>\n",
       "      <td>NaN</td>\n",
       "    </tr>\n",
       "    <tr>\n",
       "      <th>Blocked Driveway</th>\n",
       "      <td>50.0</td>\n",
       "      <td>3436.0</td>\n",
       "      <td>159.0</td>\n",
       "      <td>514.0</td>\n",
       "      <td>138.0</td>\n",
       "      <td>3.0</td>\n",
       "      <td>17061.0</td>\n",
       "      <td>36444.0</td>\n",
       "      <td>177.0</td>\n",
       "      <td>NaN</td>\n",
       "      <td>...</td>\n",
       "      <td>1202.0</td>\n",
       "      <td>1946.0</td>\n",
       "      <td>330.0</td>\n",
       "      <td>2845.0</td>\n",
       "      <td>278.0</td>\n",
       "      <td>86.0</td>\n",
       "      <td>279.0</td>\n",
       "      <td>1363.0</td>\n",
       "      <td>2037.0</td>\n",
       "      <td>27.0</td>\n",
       "    </tr>\n",
       "  </tbody>\n",
       "</table>\n",
       "<p>5 rows × 54 columns</p>\n",
       "</div>"
      ],
      "text/plain": [
       "City                       ARVERNE  ASTORIA  Astoria  BAYSIDE  BELLEROSE  \\\n",
       "Complaint Type                                                             \n",
       "Agency Issues                  NaN      NaN      NaN      NaN        NaN   \n",
       "Animal Abuse                  46.0    170.0      NaN     53.0       15.0   \n",
       "Animal in a Park               NaN      NaN      NaN      NaN        NaN   \n",
       "Bike/Roller/Skate Chronic      NaN     16.0      NaN      NaN        1.0   \n",
       "Blocked Driveway              50.0   3436.0    159.0    514.0      138.0   \n",
       "\n",
       "City                       BREEZY POINT    BRONX  BROOKLYN  CAMBRIA HEIGHTS  \\\n",
       "Complaint Type                                                                \n",
       "Agency Issues                       NaN      NaN       NaN              NaN   \n",
       "Animal Abuse                        2.0   1971.0    3191.0             15.0   \n",
       "Animal in a Park                    NaN      NaN       NaN              NaN   \n",
       "Bike/Roller/Skate Chronic           NaN     22.0     124.0              NaN   \n",
       "Blocked Driveway                    3.0  17061.0   36444.0            177.0   \n",
       "\n",
       "City                       CENTRAL PARK  ...  SOUTH OZONE PARK  \\\n",
       "Complaint Type                           ...                     \n",
       "Agency Issues                       NaN  ...               NaN   \n",
       "Animal Abuse                        NaN  ...              74.0   \n",
       "Animal in a Park                    NaN  ...               NaN   \n",
       "Bike/Roller/Skate Chronic           NaN  ...               1.0   \n",
       "Blocked Driveway                    NaN  ...            1202.0   \n",
       "\n",
       "City                       SOUTH RICHMOND HILL  SPRINGFIELD GARDENS  \\\n",
       "Complaint Type                                                        \n",
       "Agency Issues                              NaN                  NaN   \n",
       "Animal Abuse                              40.0                 42.0   \n",
       "Animal in a Park                           NaN                  NaN   \n",
       "Bike/Roller/Skate Chronic                  1.0                  NaN   \n",
       "Blocked Driveway                        1946.0                330.0   \n",
       "\n",
       "City                       STATEN ISLAND  SUNNYSIDE  Unknown City  WHITESTONE  \\\n",
       "Complaint Type                                                                  \n",
       "Agency Issues                        NaN        NaN           8.0         NaN   \n",
       "Animal Abuse                       786.0       40.0           1.0        43.0   \n",
       "Animal in a Park                     NaN        NaN           NaN         NaN   \n",
       "Bike/Roller/Skate Chronic           10.0        2.0           2.0         4.0   \n",
       "Blocked Driveway                  2845.0      278.0          86.0       279.0   \n",
       "\n",
       "City                       WOODHAVEN  WOODSIDE  Woodside  \n",
       "Complaint Type                                            \n",
       "Agency Issues                    NaN       NaN       NaN  \n",
       "Animal Abuse                    57.0     111.0       NaN  \n",
       "Animal in a Park                 NaN       NaN       NaN  \n",
       "Bike/Roller/Skate Chronic        2.0       5.0       NaN  \n",
       "Blocked Driveway              1363.0    2037.0      27.0  \n",
       "\n",
       "[5 rows x 54 columns]"
      ]
     },
     "execution_count": 67,
     "metadata": {},
     "output_type": "execute_result"
    }
   ],
   "source": [
    "df_new= service_request.pivot_table(index='Complaint Type', columns='City', values='Unique Key', aggfunc='count')\n",
    "df_new.head()"
   ]
  },
  {
   "cell_type": "code",
   "execution_count": 68,
   "metadata": {},
   "outputs": [
    {
     "data": {
      "text/plain": [
       "(23, 54)"
      ]
     },
     "execution_count": 68,
     "metadata": {},
     "output_type": "execute_result"
    }
   ],
   "source": [
    "df_new.shape"
   ]
  },
  {
   "cell_type": "code",
   "execution_count": 69,
   "metadata": {},
   "outputs": [
    {
     "data": {
      "text/html": [
       "<div>\n",
       "<style scoped>\n",
       "    .dataframe tbody tr th:only-of-type {\n",
       "        vertical-align: middle;\n",
       "    }\n",
       "\n",
       "    .dataframe tbody tr th {\n",
       "        vertical-align: top;\n",
       "    }\n",
       "\n",
       "    .dataframe thead th {\n",
       "        text-align: right;\n",
       "    }\n",
       "</style>\n",
       "<table border=\"1\" class=\"dataframe\">\n",
       "  <thead>\n",
       "    <tr style=\"text-align: right;\">\n",
       "      <th>City</th>\n",
       "      <th>ARVERNE</th>\n",
       "      <th>ASTORIA</th>\n",
       "      <th>Astoria</th>\n",
       "      <th>BAYSIDE</th>\n",
       "      <th>BELLEROSE</th>\n",
       "      <th>BREEZY POINT</th>\n",
       "      <th>BRONX</th>\n",
       "      <th>BROOKLYN</th>\n",
       "      <th>CAMBRIA HEIGHTS</th>\n",
       "      <th>CENTRAL PARK</th>\n",
       "      <th>...</th>\n",
       "      <th>SOUTH OZONE PARK</th>\n",
       "      <th>SOUTH RICHMOND HILL</th>\n",
       "      <th>SPRINGFIELD GARDENS</th>\n",
       "      <th>STATEN ISLAND</th>\n",
       "      <th>SUNNYSIDE</th>\n",
       "      <th>Unknown City</th>\n",
       "      <th>WHITESTONE</th>\n",
       "      <th>WOODHAVEN</th>\n",
       "      <th>WOODSIDE</th>\n",
       "      <th>Woodside</th>\n",
       "    </tr>\n",
       "  </thead>\n",
       "  <tbody>\n",
       "    <tr>\n",
       "      <th>count</th>\n",
       "      <td>17.000000</td>\n",
       "      <td>20.000000</td>\n",
       "      <td>5.000000</td>\n",
       "      <td>15.000000</td>\n",
       "      <td>18.000000</td>\n",
       "      <td>8.000000</td>\n",
       "      <td>20.000000</td>\n",
       "      <td>20.000000</td>\n",
       "      <td>11.000000</td>\n",
       "      <td>2.000000</td>\n",
       "      <td>...</td>\n",
       "      <td>19.000000</td>\n",
       "      <td>17.000000</td>\n",
       "      <td>17.000000</td>\n",
       "      <td>20.000000</td>\n",
       "      <td>17.000000</td>\n",
       "      <td>15.000000</td>\n",
       "      <td>15.000000</td>\n",
       "      <td>16.000000</td>\n",
       "      <td>18.000000</td>\n",
       "      <td>5.00000</td>\n",
       "    </tr>\n",
       "    <tr>\n",
       "      <th>mean</th>\n",
       "      <td>15.235294</td>\n",
       "      <td>399.550000</td>\n",
       "      <td>181.000000</td>\n",
       "      <td>103.333333</td>\n",
       "      <td>27.055556</td>\n",
       "      <td>3.875000</td>\n",
       "      <td>2458.150000</td>\n",
       "      <td>5942.050000</td>\n",
       "      <td>56.090909</td>\n",
       "      <td>55.000000</td>\n",
       "      <td>...</td>\n",
       "      <td>140.421053</td>\n",
       "      <td>201.823529</td>\n",
       "      <td>64.294118</td>\n",
       "      <td>766.600000</td>\n",
       "      <td>55.529412</td>\n",
       "      <td>44.933333</td>\n",
       "      <td>91.266667</td>\n",
       "      <td>193.812500</td>\n",
       "      <td>242.000000</td>\n",
       "      <td>33.20000</td>\n",
       "    </tr>\n",
       "    <tr>\n",
       "      <th>std</th>\n",
       "      <td>20.477211</td>\n",
       "      <td>845.711751</td>\n",
       "      <td>117.819778</td>\n",
       "      <td>201.856620</td>\n",
       "      <td>48.352228</td>\n",
       "      <td>5.026714</td>\n",
       "      <td>4492.085933</td>\n",
       "      <td>10819.292989</td>\n",
       "      <td>65.506419</td>\n",
       "      <td>70.710678</td>\n",
       "      <td>...</td>\n",
       "      <td>302.587052</td>\n",
       "      <td>477.398580</td>\n",
       "      <td>112.246807</td>\n",
       "      <td>1493.705756</td>\n",
       "      <td>86.579528</td>\n",
       "      <td>82.236998</td>\n",
       "      <td>176.164885</td>\n",
       "      <td>387.778497</td>\n",
       "      <td>516.029525</td>\n",
       "      <td>51.68849</td>\n",
       "    </tr>\n",
       "    <tr>\n",
       "      <th>min</th>\n",
       "      <td>1.000000</td>\n",
       "      <td>2.000000</td>\n",
       "      <td>14.000000</td>\n",
       "      <td>1.000000</td>\n",
       "      <td>1.000000</td>\n",
       "      <td>1.000000</td>\n",
       "      <td>15.000000</td>\n",
       "      <td>49.000000</td>\n",
       "      <td>1.000000</td>\n",
       "      <td>5.000000</td>\n",
       "      <td>...</td>\n",
       "      <td>1.000000</td>\n",
       "      <td>1.000000</td>\n",
       "      <td>1.000000</td>\n",
       "      <td>6.000000</td>\n",
       "      <td>1.000000</td>\n",
       "      <td>1.000000</td>\n",
       "      <td>1.000000</td>\n",
       "      <td>1.000000</td>\n",
       "      <td>1.000000</td>\n",
       "      <td>2.00000</td>\n",
       "    </tr>\n",
       "    <tr>\n",
       "      <th>25%</th>\n",
       "      <td>1.000000</td>\n",
       "      <td>8.750000</td>\n",
       "      <td>145.000000</td>\n",
       "      <td>2.500000</td>\n",
       "      <td>1.000000</td>\n",
       "      <td>1.000000</td>\n",
       "      <td>46.500000</td>\n",
       "      <td>112.750000</td>\n",
       "      <td>6.500000</td>\n",
       "      <td>30.000000</td>\n",
       "      <td>...</td>\n",
       "      <td>2.000000</td>\n",
       "      <td>2.000000</td>\n",
       "      <td>2.000000</td>\n",
       "      <td>18.750000</td>\n",
       "      <td>3.000000</td>\n",
       "      <td>1.500000</td>\n",
       "      <td>2.000000</td>\n",
       "      <td>3.000000</td>\n",
       "      <td>5.750000</td>\n",
       "      <td>5.00000</td>\n",
       "    </tr>\n",
       "    <tr>\n",
       "      <th>50%</th>\n",
       "      <td>2.000000</td>\n",
       "      <td>50.000000</td>\n",
       "      <td>159.000000</td>\n",
       "      <td>9.000000</td>\n",
       "      <td>1.500000</td>\n",
       "      <td>2.500000</td>\n",
       "      <td>351.000000</td>\n",
       "      <td>760.500000</td>\n",
       "      <td>19.000000</td>\n",
       "      <td>55.000000</td>\n",
       "      <td>...</td>\n",
       "      <td>5.000000</td>\n",
       "      <td>24.000000</td>\n",
       "      <td>7.000000</td>\n",
       "      <td>132.500000</td>\n",
       "      <td>16.000000</td>\n",
       "      <td>7.000000</td>\n",
       "      <td>21.000000</td>\n",
       "      <td>8.500000</td>\n",
       "      <td>38.000000</td>\n",
       "      <td>8.00000</td>\n",
       "    </tr>\n",
       "    <tr>\n",
       "      <th>75%</th>\n",
       "      <td>29.000000</td>\n",
       "      <td>279.250000</td>\n",
       "      <td>277.000000</td>\n",
       "      <td>50.000000</td>\n",
       "      <td>14.500000</td>\n",
       "      <td>3.250000</td>\n",
       "      <td>2537.500000</td>\n",
       "      <td>6038.000000</td>\n",
       "      <td>106.500000</td>\n",
       "      <td>80.000000</td>\n",
       "      <td>...</td>\n",
       "      <td>89.500000</td>\n",
       "      <td>93.000000</td>\n",
       "      <td>42.000000</td>\n",
       "      <td>783.750000</td>\n",
       "      <td>53.000000</td>\n",
       "      <td>71.000000</td>\n",
       "      <td>39.000000</td>\n",
       "      <td>119.000000</td>\n",
       "      <td>226.000000</td>\n",
       "      <td>27.00000</td>\n",
       "    </tr>\n",
       "    <tr>\n",
       "      <th>max</th>\n",
       "      <td>62.000000</td>\n",
       "      <td>3436.000000</td>\n",
       "      <td>310.000000</td>\n",
       "      <td>638.000000</td>\n",
       "      <td>138.000000</td>\n",
       "      <td>16.000000</td>\n",
       "      <td>17061.000000</td>\n",
       "      <td>36444.000000</td>\n",
       "      <td>177.000000</td>\n",
       "      <td>105.000000</td>\n",
       "      <td>...</td>\n",
       "      <td>1202.000000</td>\n",
       "      <td>1946.000000</td>\n",
       "      <td>330.000000</td>\n",
       "      <td>6223.000000</td>\n",
       "      <td>278.000000</td>\n",
       "      <td>312.000000</td>\n",
       "      <td>631.000000</td>\n",
       "      <td>1363.000000</td>\n",
       "      <td>2037.000000</td>\n",
       "      <td>124.00000</td>\n",
       "    </tr>\n",
       "  </tbody>\n",
       "</table>\n",
       "<p>8 rows × 54 columns</p>\n",
       "</div>"
      ],
      "text/plain": [
       "City     ARVERNE      ASTORIA     Astoria     BAYSIDE   BELLEROSE  \\\n",
       "count  17.000000    20.000000    5.000000   15.000000   18.000000   \n",
       "mean   15.235294   399.550000  181.000000  103.333333   27.055556   \n",
       "std    20.477211   845.711751  117.819778  201.856620   48.352228   \n",
       "min     1.000000     2.000000   14.000000    1.000000    1.000000   \n",
       "25%     1.000000     8.750000  145.000000    2.500000    1.000000   \n",
       "50%     2.000000    50.000000  159.000000    9.000000    1.500000   \n",
       "75%    29.000000   279.250000  277.000000   50.000000   14.500000   \n",
       "max    62.000000  3436.000000  310.000000  638.000000  138.000000   \n",
       "\n",
       "City   BREEZY POINT         BRONX      BROOKLYN  CAMBRIA HEIGHTS  \\\n",
       "count      8.000000     20.000000     20.000000        11.000000   \n",
       "mean       3.875000   2458.150000   5942.050000        56.090909   \n",
       "std        5.026714   4492.085933  10819.292989        65.506419   \n",
       "min        1.000000     15.000000     49.000000         1.000000   \n",
       "25%        1.000000     46.500000    112.750000         6.500000   \n",
       "50%        2.500000    351.000000    760.500000        19.000000   \n",
       "75%        3.250000   2537.500000   6038.000000       106.500000   \n",
       "max       16.000000  17061.000000  36444.000000       177.000000   \n",
       "\n",
       "City   CENTRAL PARK  ...  SOUTH OZONE PARK  SOUTH RICHMOND HILL  \\\n",
       "count      2.000000  ...         19.000000            17.000000   \n",
       "mean      55.000000  ...        140.421053           201.823529   \n",
       "std       70.710678  ...        302.587052           477.398580   \n",
       "min        5.000000  ...          1.000000             1.000000   \n",
       "25%       30.000000  ...          2.000000             2.000000   \n",
       "50%       55.000000  ...          5.000000            24.000000   \n",
       "75%       80.000000  ...         89.500000            93.000000   \n",
       "max      105.000000  ...       1202.000000          1946.000000   \n",
       "\n",
       "City   SPRINGFIELD GARDENS  STATEN ISLAND   SUNNYSIDE  Unknown City  \\\n",
       "count            17.000000      20.000000   17.000000     15.000000   \n",
       "mean             64.294118     766.600000   55.529412     44.933333   \n",
       "std             112.246807    1493.705756   86.579528     82.236998   \n",
       "min               1.000000       6.000000    1.000000      1.000000   \n",
       "25%               2.000000      18.750000    3.000000      1.500000   \n",
       "50%               7.000000     132.500000   16.000000      7.000000   \n",
       "75%              42.000000     783.750000   53.000000     71.000000   \n",
       "max             330.000000    6223.000000  278.000000    312.000000   \n",
       "\n",
       "City   WHITESTONE    WOODHAVEN     WOODSIDE   Woodside  \n",
       "count   15.000000    16.000000    18.000000    5.00000  \n",
       "mean    91.266667   193.812500   242.000000   33.20000  \n",
       "std    176.164885   387.778497   516.029525   51.68849  \n",
       "min      1.000000     1.000000     1.000000    2.00000  \n",
       "25%      2.000000     3.000000     5.750000    5.00000  \n",
       "50%     21.000000     8.500000    38.000000    8.00000  \n",
       "75%     39.000000   119.000000   226.000000   27.00000  \n",
       "max    631.000000  1363.000000  2037.000000  124.00000  \n",
       "\n",
       "[8 rows x 54 columns]"
      ]
     },
     "execution_count": 69,
     "metadata": {},
     "output_type": "execute_result"
    }
   ],
   "source": [
    "df_new.describe()"
   ]
  },
  {
   "cell_type": "markdown",
   "metadata": {},
   "source": [
    "## Visualize the Major types of Complaints in Each City"
   ]
  },
  {
   "cell_type": "code",
   "execution_count": 70,
   "metadata": {},
   "outputs": [
    {
     "data": {
      "text/plain": [
       "array(['NEW YORK', 'ASTORIA', 'BRONX', 'ELMHURST', 'BROOKLYN',\n",
       "       'KEW GARDENS', 'JACKSON HEIGHTS', 'MIDDLE VILLAGE', 'REGO PARK',\n",
       "       'SAINT ALBANS', 'JAMAICA', 'SOUTH RICHMOND HILL', 'Unknown City',\n",
       "       'RIDGEWOOD', 'HOWARD BEACH', 'FOREST HILLS', 'STATEN ISLAND',\n",
       "       'OZONE PARK', 'RICHMOND HILL', 'WOODHAVEN', 'FLUSHING', 'CORONA',\n",
       "       'QUEENS VILLAGE', 'OAKLAND GARDENS', 'HOLLIS', 'MASPETH',\n",
       "       'EAST ELMHURST', 'SOUTH OZONE PARK', 'WOODSIDE', 'FRESH MEADOWS',\n",
       "       'LONG ISLAND CITY', 'ROCKAWAY PARK', 'SPRINGFIELD GARDENS',\n",
       "       'COLLEGE POINT', 'BAYSIDE', 'GLEN OAKS', 'FAR ROCKAWAY',\n",
       "       'BELLEROSE', 'LITTLE NECK', 'CAMBRIA HEIGHTS', 'ROSEDALE',\n",
       "       'SUNNYSIDE', 'WHITESTONE', 'ARVERNE', 'FLORAL PARK',\n",
       "       'NEW HYDE PARK', 'CENTRAL PARK', 'BREEZY POINT', 'QUEENS',\n",
       "       'Astoria', 'Long Island City', 'Woodside', 'East Elmhurst',\n",
       "       'Howard Beach'], dtype=object)"
      ]
     },
     "execution_count": 70,
     "metadata": {},
     "output_type": "execute_result"
    }
   ],
   "source": [
    "service_request['City'].unique()"
   ]
  },
  {
   "cell_type": "code",
   "execution_count": 71,
   "metadata": {},
   "outputs": [
    {
     "data": {
      "text/html": [
       "<div>\n",
       "<style scoped>\n",
       "    .dataframe tbody tr th:only-of-type {\n",
       "        vertical-align: middle;\n",
       "    }\n",
       "\n",
       "    .dataframe tbody tr th {\n",
       "        vertical-align: top;\n",
       "    }\n",
       "\n",
       "    .dataframe thead th {\n",
       "        text-align: right;\n",
       "    }\n",
       "</style>\n",
       "<table border=\"1\" class=\"dataframe\">\n",
       "  <thead>\n",
       "    <tr style=\"text-align: right;\">\n",
       "      <th>City</th>\n",
       "      <th>ARVERNE</th>\n",
       "      <th>ASTORIA</th>\n",
       "      <th>Astoria</th>\n",
       "      <th>BAYSIDE</th>\n",
       "      <th>BELLEROSE</th>\n",
       "      <th>BREEZY POINT</th>\n",
       "      <th>BRONX</th>\n",
       "      <th>BROOKLYN</th>\n",
       "      <th>CAMBRIA HEIGHTS</th>\n",
       "      <th>CENTRAL PARK</th>\n",
       "      <th>...</th>\n",
       "      <th>SOUTH OZONE PARK</th>\n",
       "      <th>SOUTH RICHMOND HILL</th>\n",
       "      <th>SPRINGFIELD GARDENS</th>\n",
       "      <th>STATEN ISLAND</th>\n",
       "      <th>SUNNYSIDE</th>\n",
       "      <th>Unknown City</th>\n",
       "      <th>WHITESTONE</th>\n",
       "      <th>WOODHAVEN</th>\n",
       "      <th>WOODSIDE</th>\n",
       "      <th>Woodside</th>\n",
       "    </tr>\n",
       "    <tr>\n",
       "      <th>Complaint Type</th>\n",
       "      <th></th>\n",
       "      <th></th>\n",
       "      <th></th>\n",
       "      <th></th>\n",
       "      <th></th>\n",
       "      <th></th>\n",
       "      <th></th>\n",
       "      <th></th>\n",
       "      <th></th>\n",
       "      <th></th>\n",
       "      <th></th>\n",
       "      <th></th>\n",
       "      <th></th>\n",
       "      <th></th>\n",
       "      <th></th>\n",
       "      <th></th>\n",
       "      <th></th>\n",
       "      <th></th>\n",
       "      <th></th>\n",
       "      <th></th>\n",
       "      <th></th>\n",
       "    </tr>\n",
       "  </thead>\n",
       "  <tbody>\n",
       "    <tr>\n",
       "      <th>Agency Issues</th>\n",
       "      <td>NaN</td>\n",
       "      <td>NaN</td>\n",
       "      <td>NaN</td>\n",
       "      <td>NaN</td>\n",
       "      <td>NaN</td>\n",
       "      <td>NaN</td>\n",
       "      <td>NaN</td>\n",
       "      <td>NaN</td>\n",
       "      <td>NaN</td>\n",
       "      <td>NaN</td>\n",
       "      <td>...</td>\n",
       "      <td>NaN</td>\n",
       "      <td>NaN</td>\n",
       "      <td>NaN</td>\n",
       "      <td>NaN</td>\n",
       "      <td>NaN</td>\n",
       "      <td>8.0</td>\n",
       "      <td>NaN</td>\n",
       "      <td>NaN</td>\n",
       "      <td>NaN</td>\n",
       "      <td>NaN</td>\n",
       "    </tr>\n",
       "    <tr>\n",
       "      <th>Animal Abuse</th>\n",
       "      <td>46.0</td>\n",
       "      <td>170.0</td>\n",
       "      <td>NaN</td>\n",
       "      <td>53.0</td>\n",
       "      <td>15.0</td>\n",
       "      <td>2.0</td>\n",
       "      <td>1971.0</td>\n",
       "      <td>3191.0</td>\n",
       "      <td>15.0</td>\n",
       "      <td>NaN</td>\n",
       "      <td>...</td>\n",
       "      <td>74.0</td>\n",
       "      <td>40.0</td>\n",
       "      <td>42.0</td>\n",
       "      <td>786.0</td>\n",
       "      <td>40.0</td>\n",
       "      <td>1.0</td>\n",
       "      <td>43.0</td>\n",
       "      <td>57.0</td>\n",
       "      <td>111.0</td>\n",
       "      <td>NaN</td>\n",
       "    </tr>\n",
       "    <tr>\n",
       "      <th>Animal in a Park</th>\n",
       "      <td>NaN</td>\n",
       "      <td>NaN</td>\n",
       "      <td>NaN</td>\n",
       "      <td>NaN</td>\n",
       "      <td>NaN</td>\n",
       "      <td>NaN</td>\n",
       "      <td>NaN</td>\n",
       "      <td>NaN</td>\n",
       "      <td>NaN</td>\n",
       "      <td>NaN</td>\n",
       "      <td>...</td>\n",
       "      <td>NaN</td>\n",
       "      <td>NaN</td>\n",
       "      <td>NaN</td>\n",
       "      <td>NaN</td>\n",
       "      <td>NaN</td>\n",
       "      <td>NaN</td>\n",
       "      <td>NaN</td>\n",
       "      <td>NaN</td>\n",
       "      <td>NaN</td>\n",
       "      <td>NaN</td>\n",
       "    </tr>\n",
       "    <tr>\n",
       "      <th>Bike/Roller/Skate Chronic</th>\n",
       "      <td>NaN</td>\n",
       "      <td>16.0</td>\n",
       "      <td>NaN</td>\n",
       "      <td>NaN</td>\n",
       "      <td>1.0</td>\n",
       "      <td>NaN</td>\n",
       "      <td>22.0</td>\n",
       "      <td>124.0</td>\n",
       "      <td>NaN</td>\n",
       "      <td>NaN</td>\n",
       "      <td>...</td>\n",
       "      <td>1.0</td>\n",
       "      <td>1.0</td>\n",
       "      <td>NaN</td>\n",
       "      <td>10.0</td>\n",
       "      <td>2.0</td>\n",
       "      <td>2.0</td>\n",
       "      <td>4.0</td>\n",
       "      <td>2.0</td>\n",
       "      <td>5.0</td>\n",
       "      <td>NaN</td>\n",
       "    </tr>\n",
       "    <tr>\n",
       "      <th>Blocked Driveway</th>\n",
       "      <td>50.0</td>\n",
       "      <td>3436.0</td>\n",
       "      <td>159.0</td>\n",
       "      <td>514.0</td>\n",
       "      <td>138.0</td>\n",
       "      <td>3.0</td>\n",
       "      <td>17061.0</td>\n",
       "      <td>36444.0</td>\n",
       "      <td>177.0</td>\n",
       "      <td>NaN</td>\n",
       "      <td>...</td>\n",
       "      <td>1202.0</td>\n",
       "      <td>1946.0</td>\n",
       "      <td>330.0</td>\n",
       "      <td>2845.0</td>\n",
       "      <td>278.0</td>\n",
       "      <td>86.0</td>\n",
       "      <td>279.0</td>\n",
       "      <td>1363.0</td>\n",
       "      <td>2037.0</td>\n",
       "      <td>27.0</td>\n",
       "    </tr>\n",
       "  </tbody>\n",
       "</table>\n",
       "<p>5 rows × 54 columns</p>\n",
       "</div>"
      ],
      "text/plain": [
       "City                       ARVERNE  ASTORIA  Astoria  BAYSIDE  BELLEROSE  \\\n",
       "Complaint Type                                                             \n",
       "Agency Issues                  NaN      NaN      NaN      NaN        NaN   \n",
       "Animal Abuse                  46.0    170.0      NaN     53.0       15.0   \n",
       "Animal in a Park               NaN      NaN      NaN      NaN        NaN   \n",
       "Bike/Roller/Skate Chronic      NaN     16.0      NaN      NaN        1.0   \n",
       "Blocked Driveway              50.0   3436.0    159.0    514.0      138.0   \n",
       "\n",
       "City                       BREEZY POINT    BRONX  BROOKLYN  CAMBRIA HEIGHTS  \\\n",
       "Complaint Type                                                                \n",
       "Agency Issues                       NaN      NaN       NaN              NaN   \n",
       "Animal Abuse                        2.0   1971.0    3191.0             15.0   \n",
       "Animal in a Park                    NaN      NaN       NaN              NaN   \n",
       "Bike/Roller/Skate Chronic           NaN     22.0     124.0              NaN   \n",
       "Blocked Driveway                    3.0  17061.0   36444.0            177.0   \n",
       "\n",
       "City                       CENTRAL PARK  ...  SOUTH OZONE PARK  \\\n",
       "Complaint Type                           ...                     \n",
       "Agency Issues                       NaN  ...               NaN   \n",
       "Animal Abuse                        NaN  ...              74.0   \n",
       "Animal in a Park                    NaN  ...               NaN   \n",
       "Bike/Roller/Skate Chronic           NaN  ...               1.0   \n",
       "Blocked Driveway                    NaN  ...            1202.0   \n",
       "\n",
       "City                       SOUTH RICHMOND HILL  SPRINGFIELD GARDENS  \\\n",
       "Complaint Type                                                        \n",
       "Agency Issues                              NaN                  NaN   \n",
       "Animal Abuse                              40.0                 42.0   \n",
       "Animal in a Park                           NaN                  NaN   \n",
       "Bike/Roller/Skate Chronic                  1.0                  NaN   \n",
       "Blocked Driveway                        1946.0                330.0   \n",
       "\n",
       "City                       STATEN ISLAND  SUNNYSIDE  Unknown City  WHITESTONE  \\\n",
       "Complaint Type                                                                  \n",
       "Agency Issues                        NaN        NaN           8.0         NaN   \n",
       "Animal Abuse                       786.0       40.0           1.0        43.0   \n",
       "Animal in a Park                     NaN        NaN           NaN         NaN   \n",
       "Bike/Roller/Skate Chronic           10.0        2.0           2.0         4.0   \n",
       "Blocked Driveway                  2845.0      278.0          86.0       279.0   \n",
       "\n",
       "City                       WOODHAVEN  WOODSIDE  Woodside  \n",
       "Complaint Type                                            \n",
       "Agency Issues                    NaN       NaN       NaN  \n",
       "Animal Abuse                    57.0     111.0       NaN  \n",
       "Animal in a Park                 NaN       NaN       NaN  \n",
       "Bike/Roller/Skate Chronic        2.0       5.0       NaN  \n",
       "Blocked Driveway              1363.0    2037.0      27.0  \n",
       "\n",
       "[5 rows x 54 columns]"
      ]
     },
     "execution_count": 71,
     "metadata": {},
     "output_type": "execute_result"
    }
   ],
   "source": [
    "df_new.head()"
   ]
  },
  {
   "cell_type": "code",
   "execution_count": 89,
   "metadata": {},
   "outputs": [
    {
     "data": {
      "image/png": "[encoded data removed]",
      "text/plain": [
       "<Figure size 360x360 with 1 Axes>"
      ]
     },
     "metadata": {},
     "output_type": "display_data"
    }
   ],
   "source": [
    "service_request['Complaint Type'].value_counts().plot(kind='barh',alpha=0.6,figsize=(5,5))\n",
    "plt.show()"
   ]
  },
  {
   "cell_type": "markdown",
   "metadata": {},
   "source": [
    "## Draw another chart that shows the types of complaints in each city in a single chart, where different colors show the different types of complaints"
   ]
  },
  {
   "cell_type": "code",
   "execution_count": null,
   "metadata": {},
   "outputs": [],
   "source": [
    "df_new.plot(kind='bar', stacked=True, figsize=(12, 8))\n",
    "plt.xlabel('City')\n",
    "plt.ylabel('Number of Complaints')\n",
    "plt.title('Types of Complaints in Each City')\n",
    "plt.legend(title='Complaint Type')\n",
    "plt.show()"
   ]
  },
  {
   "cell_type": "markdown",
   "metadata": {},
   "source": [
    "## Sort the complaint types based on the average Request_Closing_Timegrouping them for different locations"
   ]
  },
  {
   "cell_type": "code",
   "execution_count": null,
   "metadata": {},
   "outputs": [],
   "source": [
    "group_complaint =service_request.groupby('Complaint Type')"
   ]
  },
  {
   "cell_type": "code",
   "execution_count": null,
   "metadata": {},
   "outputs": [],
   "source": [
    "group_complaint['Complaint Type'].value_counts().nlargest(1)"
   ]
  },
  {
   "cell_type": "code",
   "execution_count": null,
   "metadata": {},
   "outputs": [],
   "source": [
    "# let us check whether the location type is null or non-null value\n",
    "service_request['Location Type'].isna().sum(axis=0)"
   ]
  },
  {
   "cell_type": "code",
   "execution_count": null,
   "metadata": {},
   "outputs": [],
   "source": [
    "service_request.head()"
   ]
  },
  {
   "cell_type": "code",
   "execution_count": null,
   "metadata": {},
   "outputs": [],
   "source": [
    "# let is fill 1707 nan value with \"unknown Location\"\n",
    "service_request['Location Type'].fillna('Unknown Location', inplace=True)\n",
    "service_request['Location Type'].unique()"
   ]
  },
  {
   "cell_type": "code",
   "execution_count": null,
   "metadata": {},
   "outputs": [],
   "source": [
    "#Group dataset by major complaint type to display\n",
    "grp_data = group_complaint.get_group('Blocked Driveway')\n",
    "grp_data.shape"
   ]
  },
  {
   "cell_type": "code",
   "execution_count": null,
   "metadata": {},
   "outputs": [],
   "source": [
    "#fix those NAN with \"Location Type\" value instead\n",
    "grp_data['Location Type'].fillna('Unknown Location', inplace =True)"
   ]
  },
  {
   "cell_type": "code",
   "execution_count": null,
   "metadata": {},
   "outputs": [],
   "source": [
    "#Display the array for location\n",
    "service_request['Location Type'].unique()\n"
   ]
  },
  {
   "cell_type": "code",
   "execution_count": null,
   "metadata": {},
   "outputs": [],
   "source": [
    "# display complaint type column and city type column together\n",
    "service_request[['Complaint Type','City']]"
   ]
  },
  {
   "cell_type": "markdown",
   "metadata": {},
   "source": [
    "Now lets find the mean value(average request closing time i.e average time elapsed between the created date and closed date),\n",
    "and group thnr for different location"
   ]
  },
  {
   "cell_type": "code",
   "execution_count": null,
   "metadata": {},
   "outputs": [],
   "source": [
    "service_request.columns"
   ]
  },
  {
   "cell_type": "code",
   "execution_count": null,
   "metadata": {},
   "outputs": [],
   "source": [
    "pd.DataFrame(service_request.groupby(\"Location Type\")[\"time_elapsed_seconds\"].mean()).sort_values(\"time_elapsed_seconds\")"
   ]
  },
  {
   "cell_type": "code",
   "execution_count": null,
   "metadata": {},
   "outputs": [],
   "source": [
    "pd.DataFrame(service_request.groupby(\"City\")[\"time_elapsed_seconds\"].mean()).sort_values(\"time_elapsed_seconds\")"
   ]
  },
  {
   "cell_type": "markdown",
   "metadata": {},
   "source": [
    "Above data shows that based on request time  for closing files in different cities. let us find the percentage also for each city. "
   ]
  },
  {
   "cell_type": "code",
   "execution_count": null,
   "metadata": {},
   "outputs": [],
   "source": [
    "print(\"Total Number of Concerns : \",len(service_request),\"\\n\")\n",
    "print(\"Percentage of Requests took less than 100 hour to get solved   : \",round((len(service_request)-(service_request[\"time_elapsed_seconds\"]>100).sum())/len(service_request)*100,2),\"%\")\n",
    "print(\"Percentage of Requests took less than 1000 hour to get solved : \",round((len(service_request)-(service_request[\"time_elapsed_seconds\"]>1000).sum())/len(service_request)*100,2),\"%\")"
   ]
  },
  {
   "cell_type": "markdown",
   "metadata": {},
   "source": [
    "## Visualize the average of Request_Closing_Time\n",
    "we are making before the eliminating any  larger null values "
   ]
  },
  {
   "cell_type": "code",
   "execution_count": null,
   "metadata": {},
   "outputs": [],
   "source": [
    "service_request.groupby('Complaint Type')['time_elapsed_seconds'].mean().plot(kind='bar', figsize=(10, 6))\n",
    "plt.xlabel('Complaint Type')\n",
    "plt.ylabel('Average Request Closing Time (Seconds)')\n",
    "plt.title('Average Response Time for Different Complaint Types')\n",
    "plt.show()"
   ]
  },
  {
   "cell_type": "markdown",
   "metadata": {},
   "source": [
    "In the above graph we have obseverd that mostly the complaint type is Animal in  the park"
   ]
  },
  {
   "cell_type": "markdown",
   "metadata": {},
   "source": [
    "## See whether the average response time across different complaint types is similar (overall)"
   ]
  },
  {
   "cell_type": "markdown",
   "metadata": {},
   "source": [
    " let us handle the missing value firstly find the missing value and tret them accordingly. if the missig values are of larger percentange then will drop them for better visualizaton"
   ]
  },
  {
   "cell_type": "code",
   "execution_count": null,
   "metadata": {},
   "outputs": [],
   "source": [
    "\n",
    "new_df= (service_request[service_request.columns].isna().sum(axis=0)/service_request.shape[0])*100\n",
    "print(new_df)\n",
    "print(\"Old DataFrame for response time Shape :\",service_request.shape)\n",
    "print(\"New DataFrame for average response time Shape : \",new_df.shape)"
   ]
  },
  {
   "cell_type": "code",
   "execution_count": null,
   "metadata": {},
   "outputs": [],
   "source": [
    "new_df_1= service_request\n",
    "new_df_1.head()"
   ]
  },
  {
   "cell_type": "code",
   "execution_count": null,
   "metadata": {},
   "outputs": [],
   "source": [
    "rem=[]\n",
    "for x in new_df_1.columns.tolist():\n",
    "    if new_df_1[x].nunique()<=3:\n",
    "        print(x+ \" \"*10+\" : \",new_df_1[x].unique())\n",
    "        rem.append(x)"
   ]
  },
  {
   "cell_type": "code",
   "execution_count": null,
   "metadata": {},
   "outputs": [],
   "source": [
    "new_df_1.drop(rem,axis=1,inplace=True)\n",
    "new_df_1.shape"
   ]
  },
  {
   "cell_type": "code",
   "execution_count": null,
   "metadata": {},
   "outputs": [],
   "source": [
    "new_df_1.columns"
   ]
  },
  {
   "cell_type": "code",
   "execution_count": null,
   "metadata": {},
   "outputs": [],
   "source": [
    "#Remove columns that are not needed for our analysis\n",
    "\n",
    "rem1=[\"Unique Key\",\"Incident Address\",\"Descriptor\",\"Street Name\",\"Cross Street 1\",\"Cross Street 2\",\"Due Date\",\"Resolution Description\",\"Resolution Action Updated Date\",\"Community Board\",\"X Coordinate (State Plane)\",\"Y Coordinate (State Plane)\",\"Park Borough\",\"Latitude\",\"Longitude\",\"Location\"]\n",
    "\n",
    "new_df_1.drop(rem1,axis=1,inplace=True)"
   ]
  },
  {
   "cell_type": "code",
   "execution_count": null,
   "metadata": {},
   "outputs": [],
   "source": [
    "new_df_1.columns"
   ]
  },
  {
   "cell_type": "markdown",
   "metadata": {},
   "source": [
    "Visualize the average of Request_Closing_Time in the new data where we have already removed the data whose null % was higher than 50"
   ]
  },
  {
   "cell_type": "code",
   "execution_count": null,
   "metadata": {},
   "outputs": [],
   "source": [
    "\n",
    "g=sns.catplot(x=\"Complaint Type\",y=\"time_elapsed_seconds\",kind=\"box\",data=new_df_1,)\n",
    "g.fig.set_figheight(8)\n",
    "g.fig.set_figwidth(15)\n",
    "plt.xticks(rotation=90)\n",
    "plt.tight_layout()\n",
    "plt.legend()\n",
    "\n",
    "plt.show()"
   ]
  },
  {
   "cell_type": "code",
   "execution_count": null,
   "metadata": {},
   "outputs": [],
   "source": []
  },
  {
   "cell_type": "markdown",
   "metadata": {},
   "source": [
    "## Identify the significant variables by performing statistical analysis using p-values"
   ]
  },
  {
   "cell_type": "code",
   "execution_count": null,
   "metadata": {},
   "outputs": [],
   "source": [
    "\n",
    "import scipy \n",
    "from scipy import stats"
   ]
  },
  {
   "cell_type": "markdown",
   "metadata": {},
   "source": [
    "\n",
    "To find the p value let us take either t test or ANOVA test, for multivarible test lets us follow Anova for better result"
   ]
  },
  {
   "cell_type": "code",
   "execution_count": null,
   "metadata": {},
   "outputs": [],
   "source": [
    "anova_df=pd.DataFrame()\n",
    "anova_df[\"Request_Closing_Time\"]=new_df_1[\"time_elapsed_seconds\"]\n",
    "anova_df[\"Complaint\"]=new_df_1[\"Complaint Type\"]\n",
    "\n",
    "anova_df.dropna(inplace=True)\n",
    "anova_df.head()"
   ]
  },
  {
   "cell_type": "markdown",
   "metadata": {},
   "source": [
    "Since p value for the Complaint is less that 0.01 thus we accept alternate hypothesis i.e there is significant difference in the mean response time w.r.t different type of complaint.\n",
    "\n",
    "\n",
    "*H0:Complaint Type and Location Type are independent\n",
    "\n",
    "\n",
    "\n",
    "*H1:Complaint Type and Location Type are related\n"
   ]
  },
  {
   "cell_type": "code",
   "execution_count": null,
   "metadata": {},
   "outputs": [],
   "source": [
    "from sklearn.impute import SimpleImputer\n",
    "from sklearn import preprocessing \n",
    "from sklearn.preprocessing import LabelEncoder\n",
    "import statsmodels.api as sm\n",
    "from statsmodels.formula.api import ols\n",
    "from scipy.stats import chi2_contingency\n"
   ]
  },
  {
   "cell_type": "markdown",
   "metadata": {},
   "source": [
    "  Let us use the feature selection for encoding the categorical data in anova_df"
   ]
  },
  {
   "cell_type": "code",
   "execution_count": null,
   "metadata": {},
   "outputs": [],
   "source": [
    "lm=ols(\"Request_Closing_Time~Complaint\",data=anova_df).fit()\n",
    "table=sm.stats.anova_lm(lm)\n",
    "table"
   ]
  },
  {
   "cell_type": "markdown",
   "metadata": {},
   "source": [
    "# let us find the chi_ square for the complaint and location for understanding the pvalue"
   ]
  },
  {
   "cell_type": "code",
   "execution_count": null,
   "metadata": {},
   "outputs": [],
   "source": [
    "chi_sq=pd.DataFrame()\n",
    "chi_sq[\"Location Type\"]=new_df_1[\"Location Type\"]\n",
    "chi_sq[\"Complaint Type\"]=new_df_1[\"Complaint Type\"]\n",
    "\n",
    "chi_sq.dropna(inplace=True)\n",
    "chi_sq"
   ]
  },
  {
   "cell_type": "code",
   "execution_count": null,
   "metadata": {},
   "outputs": [],
   "source": [
    "chi2_crosstab =pd.crosstab(new_df_1['Location Type'], new_df_1['Complaint Type'])\n",
    "chi2_crosstab"
   ]
  },
  {
   "cell_type": "markdown",
   "metadata": {},
   "source": [
    "Here lets check for null hypothesis and alternative hypothesis and varifies the dependencies of the location/area regarding the complaints arise."
   ]
  },
  {
   "cell_type": "code",
   "execution_count": null,
   "metadata": {},
   "outputs": [],
   "source": [
    "\n",
    "stat, p, dof, expected = chi2_contingency(chi2_crosstab) \n",
    "\n",
    "alpha = 0.05\n",
    "if p <= alpha: \n",
    "    print('Dependent (reject H0)') \n",
    "else: \n",
    "    print('Independent (H0 holds true)')"
   ]
  },
  {
   "cell_type": "markdown",
   "metadata": {},
   "source": [
    "## Perform a Kruskal-WallisH test\n",
    "1.Fail to reject H0: All sample distributions are equal\n",
    "\n",
    "\n",
    "\n",
    "2. Reject H0: One or more sample distributions are not equal"
   ]
  },
  {
   "cell_type": "code",
   "execution_count": null,
   "metadata": {},
   "outputs": [],
   "source": [
    "from scipy.stats import kruskal\n",
    "\n",
    "# Suppose we want to compare the Request_Closing_Time across different complaint types\n",
    "complaint_types = service_request['Complaint Type'].unique()\n",
    "data_groups = [service_request[service_request['Complaint Type'] == complaint_type]['time_elapsed_seconds'] for complaint_type in complaint_types]\n",
    "h_statistic, p_value = kruskal(*data_groups)\n",
    "\n",
    "# 7.1 Fail to reject H0: All sample distributions are equal\n",
    "if p_value > 0.05:\n",
    "    print(\"Fail to reject null hypothesis: All sample distributions are equal.\")\n",
    "# 7.2 Reject H0: One or more sample distributions are not equal\n",
    "else:\n",
    "    print(\"Reject null hypothesis: One or more sample distributions are not equal.\")"
   ]
  },
  {
   "cell_type": "markdown",
   "metadata": {},
   "source": [
    "## Present your Observation"
   ]
  },
  {
   "cell_type": "markdown",
   "metadata": {},
   "source": [
    "Since p value for the chi square test is less than 0.05(LOS) \n",
    "\n",
    "we can conclude that Complaint Type is dependent on Location Type i.e specific type of complaint is raised from specific places.\n",
    "\n",
    "\n",
    "Maximum Complaints are raised in road and parking (vehicle) related sectors\n",
    "On an average complains are closed in an span of 150 to 300 hours\n",
    "Transport and Road related issues are taking more time to get resolved as number of these cases are quite high.\n",
    "Number of cases from Borough goes as follows BROOKLYN > QUEENS > MANHATTAN > BRONX > STATEN ISLAND\n",
    "Complaint Type are Depentent on Location Type.\n",
    "Time taken for solving different complaint type are different."
   ]
  },
  {
   "cell_type": "code",
   "execution_count": null,
   "metadata": {},
   "outputs": [],
   "source": []
  },
  {
   "cell_type": "code",
   "execution_count": null,
   "metadata": {},
   "outputs": [],
   "source": []
  }
 ],
 "metadata": {
  "kernelspec": {
   "display_name": "Python 3",
   "language": "python",
   "name": "python3"
  },
  "language_info": {
   "codemirror_mode": {
    "name": "ipython",
    "version": 3
   },
   "file_extension": ".py",
   "mimetype": "text/x-python",
   "name": "python",
   "nbconvert_exporter": "python",
   "pygments_lexer": "ipython3",
   "version": "3.7.6"
  }
 },
 "nbformat": 4,
 "nbformat_minor": 4
}
